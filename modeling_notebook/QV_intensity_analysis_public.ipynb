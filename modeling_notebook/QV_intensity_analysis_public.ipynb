{
  "cells": [
    {
      "cell_type": "code",
      "source": [
        "%pip install arviz\n",
        "%pip install numpyro\n",
        "%pip install seaborn"
      ],
      "outputs": [],
      "execution_count": null,
      "metadata": {
        "colab": {
          "base_uri": "https://localhost:8080/"
        },
        "id": "aTrD0vMoyJyA",
        "outputId": "a4f5ac56-dbc9-41e6-95af-3197fe0cebc7"
      }
    },
    {
      "cell_type": "code",
      "source": [
        "import math\n",
        "import os\n",
        "import warnings\n",
        "\n",
        "import arviz as az\n",
        "import matplotlib.pyplot as plt\n",
        "import numpy as np\n",
        "import pandas as pd\n",
        "import seaborn as sns\n",
        "import scipy\n",
        "\n",
        "from matplotlib import gridspec\n",
        "from matplotlib.patches import Rectangle\n",
        "from matplotlib.ticker import MultipleLocator, FormatStrFormatter, AutoMinorLocator, FixedLocator\n",
        "from matplotlib import rc\n",
        "\n",
        "import jax\n",
        "import jax.numpy as jnp\n",
        "from jax import nn, random, vmap\n",
        "from jax.scipy.special import expit\n",
        "\n",
        "import numpyro as npr\n",
        "import numpyro.distributions as dist\n",
        "import numpyro.optim as optim\n",
        "from numpyro.diagnostics import print_summary\n",
        "from numpyro.infer import MCMC, NUTS, Predictive, SVI, Trace_ELBO, log_likelihood\n",
        "from numpyro.infer.autoguide import AutoLaplaceApproximation\n",
        "from numpyro import sample, deterministic\n",
        "from numpyro.distributions.transforms import OrderedTransform\n",
        "\n",
        "if \"SVG\" in os.environ:\n",
        "    %config InlineBackend.figure_formats = [\"svg\"]\n",
        "warnings.formatwarning = lambda message, category, *args, **kwargs: \"{}: {}\\n\".format(\n",
        "    category.__name__, message\n",
        ")\n",
        "\n",
        "npr.set_platform(\"cpu\")\n",
        "npr.set_host_device_count(10)\n",
        "npr.enable_x64()\n",
        "\n",
        "print('Running on Numpyro v{}'.format(npr.__version__))\n",
        "print('Running on Seaborn v{}'.format(sns.__version__))\n",
        "\n",
        "from IPython.display import Image\n",
        "\n",
        "# color = '#87CEEB'\n",
        "# initialize_plt_font()\n",
        "\n",
        "\n",
        "RANDOM_SEED = 9876"
      ],
      "outputs": [],
      "execution_count": null,
      "metadata": {
        "colab": {
          "base_uri": "https://localhost:8080/"
        },
        "id": "S9VINswuxEAj",
        "outputId": "cbcd9f91-d8f7-4343-d3ad-c34088ddb824",
        "gather": {
          "logged": 1742668535471
        }
      }
    },
    {
      "cell_type": "code",
      "source": [
        "# color definitions\n",
        "base_color = \"#1696D2\"\n",
        "accent_color = \"#FCB918\"\n",
        "neutral_gray= \"#C6C6C6\"\n",
        "green_color = '#186b2b'\n",
        "yellow_color = '#dea228'\n",
        "\n",
        "%config InlineBackend.figure_format = 'retina'\n",
        "az.style.use(\"arviz-white\")\n",
        "az.rcParams[\"stats.hdi_prob\"] = 0.89\n",
        "az.rcParams[\"stats.ic_scale\"] = \"deviance\"\n",
        "az.rcParams[\"stats.information_criterion\"] = \"loo\"\n",
        "\n",
        "\n",
        "pd.set_option('display.max_rows', None)"
      ],
      "outputs": [],
      "execution_count": null,
      "metadata": {
        "colab": {
          "base_uri": "https://localhost:8080/"
        },
        "id": "VDivU1FyxEAj",
        "outputId": "8c33aab4-58ba-46f6-e6a7-1c6b1a66edbc",
        "gather": {
          "logged": 1742668535492
        }
      }
    },
    {
      "cell_type": "code",
      "source": [
        "\n",
        "\n",
        "# If it is run on Colab, put the exp1_data folder in the root of your Google drive and use this data path\n",
        "# DATA_PATH = \"drive/My Drive/QV_data\"\n",
        "# OUTPUT_PATH = \"drive/My Drive/QV_data/Output/Intensity\"\n",
        "# MODEL_PATH = \"drive/My Drive/QV_data/Model\"\n",
        "# If it is run on a local machine, use the following data path\n",
        "DATA_PATH = \"\"\n",
        "MODEL_PATH = \"\"\n",
        "OUTPUT_PATH = \"\""
      ],
      "outputs": [],
      "execution_count": null,
      "metadata": {
        "colab": {
          "base_uri": "https://localhost:8080/"
        },
        "id": "sxD6PM8oy4O8",
        "outputId": "c05e8317-4608-4883-bc22-3261f4c2fe03",
        "gather": {
          "logged": 1742668535510
        }
      }
    },
    {
      "cell_type": "code",
      "source": [
        "from tqdm.autonotebook import tqdm"
      ],
      "outputs": [],
      "execution_count": null,
      "metadata": {
        "id": "T8ecOhjaxEAj",
        "gather": {
          "logged": 1742668535526
        }
      }
    },
    {
      "cell_type": "markdown",
      "source": [
        "## Import Data"
      ],
      "metadata": {
        "id": "c1gvwqzyxEAk"
      }
    },
    {
      "cell_type": "markdown",
      "source": [
        "### Likert Data"
      ],
      "metadata": {
        "id": "bUP5TwTxl9F_"
      }
    },
    {
      "cell_type": "code",
      "source": [
        "likert_raw = pd.read_csv(os.path.join(DATA_PATH, 'exp1_data', 'ALLOCATE_LIKERT_P1.csv')).sort_values(by=['userId'])\n",
        "print(likert_raw.shape)\n",
        "likert_raw.head()"
      ],
      "outputs": [],
      "execution_count": null,
      "metadata": {
        "colab": {
          "base_uri": "https://localhost:8080/",
          "height": 224
        },
        "id": "7A92cNWyxEAk",
        "outputId": "b06fa1bd-0d79-438f-c111-cfb35c5c4126",
        "gather": {
          "logged": 1742668535543
        }
      }
    },
    {
      "cell_type": "code",
      "source": [
        "likert_d_raw = pd.read_csv(os.path.join(DATA_PATH, 'exp1_data', 'DONATION_LIKERT.csv')).sort_values(by=['userId'])\n",
        "likert_d_raw.head()"
      ],
      "outputs": [],
      "execution_count": null,
      "metadata": {
        "colab": {
          "base_uri": "https://localhost:8080/",
          "height": 226
        },
        "id": "Lnt624rQxEAl",
        "outputId": "6002c348-4dd5-4556-9e4f-0413cddfd190",
        "gather": {
          "logged": 1742668535561
        }
      }
    },
    {
      "cell_type": "markdown",
      "source": [
        "### QV Data"
      ],
      "metadata": {
        "id": "J41Pzxz7l-up"
      }
    },
    {
      "cell_type": "code",
      "source": [
        "qv36_raw = pd.read_csv(os.path.join(DATA_PATH, 'exp1_data', 'QV_P1_36.csv')).sort_values(by=['userId'])\n",
        "print(qv36_raw.shape)\n",
        "qv36_raw.head()"
      ],
      "outputs": [],
      "execution_count": null,
      "metadata": {
        "colab": {
          "base_uri": "https://localhost:8080/",
          "height": 224
        },
        "id": "58Vw6RQVxEAl",
        "outputId": "54d1c59a-2056-4501-f027-95efd6d40f4f",
        "gather": {
          "logged": 1742668535579
        }
      }
    },
    {
      "cell_type": "code",
      "source": [
        "qv36_d_raw = pd.read_csv(os.path.join(DATA_PATH, 'exp1_data', 'DONATION_QV36.csv')).sort_values(by=['userId'])\n",
        "print(qv36_d_raw.shape)\n",
        "qv36_d_raw.head()"
      ],
      "outputs": [],
      "execution_count": null,
      "metadata": {
        "colab": {
          "base_uri": "https://localhost:8080/",
          "height": 244
        },
        "id": "_lX5E6NsxEAl",
        "outputId": "df1c4e25-1815-44c3-a739-84cdf80f3098",
        "gather": {
          "logged": 1742668535598
        }
      }
    },
    {
      "cell_type": "code",
      "source": [
        "qv108_raw = pd.read_csv(os.path.join(DATA_PATH, 'exp1_data', 'QV_P1_108.csv')).sort_values(by=['userId'])\n",
        "qv108_raw.head()"
      ],
      "outputs": [],
      "execution_count": null,
      "metadata": {
        "colab": {
          "base_uri": "https://localhost:8080/",
          "height": 206
        },
        "id": "BoVujbowxEAm",
        "outputId": "e9353e03-034f-488d-cc32-cbd8c049e93c",
        "gather": {
          "logged": 1742668535615
        }
      }
    },
    {
      "cell_type": "code",
      "source": [
        "qv108_d_raw = pd.read_csv(os.path.join(DATA_PATH, 'exp1_data', 'DONATION_QV108.csv')).sort_values(by=['userId'])\n",
        "qv108_d_raw.head()"
      ],
      "outputs": [],
      "execution_count": null,
      "metadata": {
        "colab": {
          "base_uri": "https://localhost:8080/",
          "height": 226
        },
        "id": "TwIRnjvpxEAm",
        "outputId": "c9988833-f1c6-4539-8677-856bf388e836",
        "gather": {
          "logged": 1742668535632
        }
      }
    },
    {
      "cell_type": "code",
      "source": [
        "qv324_raw = pd.read_csv(os.path.join(DATA_PATH, 'exp1_data', 'QV_P1_324.csv')).sort_values(by=['userId'])\n",
        "qv324_raw.head()"
      ],
      "outputs": [],
      "execution_count": null,
      "metadata": {
        "colab": {
          "base_uri": "https://localhost:8080/",
          "height": 206
        },
        "id": "dFl7V0kmxEAm",
        "outputId": "86dca60c-d8f1-4c99-edac-b68a2cc420f8",
        "gather": {
          "logged": 1742668535652
        }
      }
    },
    {
      "cell_type": "code",
      "source": [
        "qv324_d_raw = pd.read_csv(os.path.join(DATA_PATH, 'exp1_data', 'DONATION_QV324.csv')).sort_values(by=['userId'])\n",
        "print(qv324_d_raw.shape)\n",
        "qv324_d_raw.head()"
      ],
      "outputs": [],
      "execution_count": null,
      "metadata": {
        "colab": {
          "base_uri": "https://localhost:8080/",
          "height": 244
        },
        "id": "spfSb8YBxEAm",
        "outputId": "e7b85beb-9605-4717-812f-ad46695010c8",
        "gather": {
          "logged": 1742668535670
        }
      }
    },
    {
      "cell_type": "markdown",
      "source": [
        "### Linear QV Data"
      ],
      "metadata": {
        "id": "p-oPE-XGl6J7"
      }
    },
    {
      "cell_type": "code",
      "source": [
        "lqv36_raw = pd.read_csv(os.path.join(DATA_PATH, 'linearQV_rerun_data', 'LinearQV_36.csv')).sort_values(by=['userId'])\n",
        "print(lqv36_raw.shape)\n",
        "lqv36_raw.head()"
      ],
      "outputs": [],
      "execution_count": null,
      "metadata": {
        "colab": {
          "base_uri": "https://localhost:8080/",
          "height": 224
        },
        "id": "-MVQ7C0Yl02v",
        "outputId": "03420d18-8490-494b-8968-ca3d795184ed",
        "gather": {
          "logged": 1742668535687
        }
      }
    },
    {
      "cell_type": "code",
      "source": [
        "lqv36_d_raw = pd.read_csv(os.path.join(DATA_PATH, 'linearQV_rerun_data', 'LinearQV_36_Donation.csv')).sort_values(by=['userId'])\n",
        "print(lqv36_d_raw.shape)\n",
        "lqv36_d_raw.head()"
      ],
      "outputs": [],
      "execution_count": null,
      "metadata": {
        "colab": {
          "base_uri": "https://localhost:8080/",
          "height": 224
        },
        "id": "PHziCTikmD9w",
        "outputId": "3c0dc3b2-789e-45a8-a5e8-aaa37d77ab54",
        "gather": {
          "logged": 1742668535707
        }
      }
    },
    {
      "cell_type": "code",
      "source": [
        "lqv108_raw = pd.read_csv(os.path.join(DATA_PATH, 'linearQV_rerun_data', 'LinearQV_108.csv')).sort_values(by=['userId'])\n",
        "print(lqv108_raw.shape)\n",
        "lqv108_raw.head()"
      ],
      "outputs": [],
      "execution_count": null,
      "metadata": {
        "colab": {
          "base_uri": "https://localhost:8080/",
          "height": 224
        },
        "id": "bFnaURDHmG7z",
        "outputId": "4fd36c11-2baa-4870-e9ff-1607e61b68ce",
        "gather": {
          "logged": 1742668535725
        }
      }
    },
    {
      "cell_type": "code",
      "source": [
        "lqv108_d_raw = pd.read_csv(os.path.join(DATA_PATH, 'linearQV_rerun_data', 'LinearQV_108_Donation.csv')).sort_values(by=['userId'])\n",
        "print(lqv108_d_raw.shape)\n",
        "lqv108_d_raw.head()"
      ],
      "outputs": [],
      "execution_count": null,
      "metadata": {
        "colab": {
          "base_uri": "https://localhost:8080/",
          "height": 224
        },
        "id": "-5RkV2CFmdnc",
        "outputId": "dc9932fe-0ed4-48f9-f158-17a4e2286888",
        "gather": {
          "logged": 1742668535743
        }
      }
    },
    {
      "cell_type": "code",
      "source": [
        "lqv324_raw = pd.read_csv(os.path.join(DATA_PATH, 'linearQV_rerun_data', 'LinearQV_324.csv')).sort_values(by=['userId'])\n",
        "print(lqv324_raw.shape)\n",
        "lqv324_raw.head()"
      ],
      "outputs": [],
      "execution_count": null,
      "metadata": {
        "colab": {
          "base_uri": "https://localhost:8080/",
          "height": 224
        },
        "id": "Rx-WuBpAmgpC",
        "outputId": "59f84d7d-6d21-40a2-c4a1-19c5c76ff968",
        "gather": {
          "logged": 1742668535764
        }
      }
    },
    {
      "cell_type": "code",
      "source": [
        "lqv324_d_raw = pd.read_csv(os.path.join(DATA_PATH, 'linearQV_rerun_data', 'LinearQV_324_Donation.csv')).sort_values(by=['userId'])\n",
        "print(lqv324_d_raw.shape)\n",
        "lqv324_d_raw.head()"
      ],
      "outputs": [],
      "execution_count": null,
      "metadata": {
        "colab": {
          "base_uri": "https://localhost:8080/",
          "height": 224
        },
        "id": "9qRSMG23ml7-",
        "outputId": "fe2d8eba-05de-4e4f-af4b-314b2ea971fa",
        "gather": {
          "logged": 1742668535782
        }
      }
    },
    {
      "cell_type": "markdown",
      "source": [
        "### Unlimited QV"
      ],
      "metadata": {
        "id": "Erbxxeh3nOae"
      }
    },
    {
      "cell_type": "code",
      "source": [
        "unlimited_raw = pd.read_csv(os.path.join(DATA_PATH, 'unlimitedQV_data', 'UnlimitedQV.csv')).sort_values(by=['userId'])\n",
        "print(unlimited_raw.shape)\n",
        "unlimited_raw.head()"
      ],
      "outputs": [],
      "execution_count": null,
      "metadata": {
        "colab": {
          "base_uri": "https://localhost:8080/",
          "height": 224
        },
        "id": "ZQg_-V1DnPoQ",
        "outputId": "088af2b2-77ea-408d-a90a-6c4689601e47",
        "gather": {
          "logged": 1742668535801
        }
      }
    },
    {
      "cell_type": "code",
      "source": [
        "vote_columns = ['pets','art','education','environment','health','human','international','faith','veteran']\n",
        "def calculate_total_votes_credit_used(row, vote_columns):\n",
        "  total_vote = 0\n",
        "  total_credit = 0\n",
        "  for col in vote_columns:\n",
        "    total_vote += abs(row[col])\n",
        "    total_credit += row[col] ** 2\n",
        "\n",
        "  return total_vote, total_credit\n",
        "\n",
        "unlimited_raw[['total_vote_spent', 'total_credit_spent']] = unlimited_raw.apply(calculate_total_votes_credit_used, axis=1, args=(vote_columns,)).apply(pd.Series)\n",
        "unlimited_raw.head()"
      ],
      "outputs": [],
      "execution_count": null,
      "metadata": {
        "colab": {
          "base_uri": "https://localhost:8080/",
          "height": 206
        },
        "id": "apUjxsDVI-RU",
        "outputId": "793e5549-8224-4b48-b5b4-8e4a06f7d0d8",
        "gather": {
          "logged": 1742668535922
        }
      }
    },
    {
      "cell_type": "code",
      "source": [
        "unlimited_d_raw = pd.read_csv(os.path.join(DATA_PATH, 'unlimitedQV_data', 'UnlimitedQV_Donation.csv')).sort_values(by=['userId'])\n",
        "print(unlimited_d_raw.shape)\n",
        "unlimited_d_raw.head()"
      ],
      "outputs": [],
      "execution_count": null,
      "metadata": {
        "colab": {
          "base_uri": "https://localhost:8080/",
          "height": 224
        },
        "id": "hXBPBcrfnREl",
        "outputId": "c49b2cc1-9b2c-403a-a39c-0fdbb700f9a5",
        "gather": {
          "logged": 1742668535941
        }
      }
    },
    {
      "cell_type": "markdown",
      "source": [
        "### Data Processing"
      ],
      "metadata": {
        "id": "bicILsHknTtY"
      }
    },
    {
      "cell_type": "code",
      "source": [
        "donate_columns = ['donation_a_pets','donation_b_art','donation_c_education','donation_d_environment','donation_e_health','donation_f_human','donation_g_international','donation_h_faith','donation_i_veteran']\n",
        "\n",
        "# likert = likert_raw[vote_columns].to_numpy()-3 # Likert survey, normalized to -2 to 2\n",
        "likert_d = likert_d_raw[donate_columns].to_numpy() # Likert donation\n",
        "\n",
        "# qv36 = qv36_raw[vote_columns].to_numpy() # QV36 survey\n",
        "qv36_d = qv36_d_raw[donate_columns].to_numpy() # QV36 donation\n",
        "\n",
        "# qv108 = qv108_raw[vote_columns].to_numpy() # QV108 survey\n",
        "qv108_d = qv108_d_raw[donate_columns].to_numpy() # QV108 donation\n",
        "\n",
        "# qv324 = qv324_raw[vote_columns].to_numpy() # QV324 survey\n",
        "qv324_d = qv324_d_raw[donate_columns].to_numpy() # QV324 donation\n",
        "\n",
        "lqv36_d = lqv36_d_raw[donate_columns].to_numpy()\n",
        "lqv108_d = lqv108_d_raw[donate_columns].to_numpy()\n",
        "lqv324_d = lqv324_d_raw[donate_columns].to_numpy()\n",
        "\n",
        "unlimited_d = unlimited_d_raw[donate_columns].to_numpy()\n",
        "\n",
        "# print(likert[:5,:])"
      ],
      "outputs": [],
      "execution_count": null,
      "metadata": {
        "id": "AeGSJ2LrxEAm",
        "gather": {
          "logged": 1742668535958
        }
      }
    },
    {
      "cell_type": "code",
      "source": [
        "# Function to remove participants with zero total donation\n",
        "def filter_nonzero(survey_data_wid, donation_data_wid, donation_data):\n",
        "    d_total = np.sum(donation_data, axis=1)\n",
        "    d_bool = (d_total != 0)\n",
        "    survey_f = survey_data_wid[d_bool]\n",
        "    donation_f = donation_data_wid[d_bool]\n",
        "    total_spent = d_total[d_bool]\n",
        "    donation_f['total_spent'] = total_spent\n",
        "    print(donation_f.head())\n",
        "    return survey_f, donation_f"
      ],
      "outputs": [],
      "execution_count": null,
      "metadata": {
        "id": "9-ttg_ItxEAn",
        "gather": {
          "logged": 1742668535977
        }
      }
    },
    {
      "cell_type": "code",
      "source": [
        "# Remove participants with zero total donation and normalize donation amount\n",
        "likert_f, likert_d_f = filter_nonzero(likert_raw, likert_d_raw, likert_d)\n",
        "# likert_d_f_norm = normalize_donation_to_proportion(likert_d_f)\n",
        "\n",
        "qv36_f, qv36_d_f = filter_nonzero(qv36_raw, qv36_d_raw, qv36_d)\n",
        "print(qv36_f.shape)\n",
        "# qv36_d_f_norm = normalize_donation_to_proportion(qv36_d_f)\n",
        "\n",
        "qv108_f, qv108_d_f = filter_nonzero(qv108_raw, qv108_d_raw, qv108_d)\n",
        "print(qv108_f.shape)\n",
        "# qv108_d_f_norm = normalize_donation_to_proportion(qv108_d_f)\n",
        "\n",
        "qv324_f, qv324_d_f = filter_nonzero(qv324_raw, qv324_d_raw, qv324_d)\n",
        "print(qv324_f.shape)\n",
        "# qv324_d_f_norm = normalize_donation_to_proportion(qv324_d_f)\n",
        "\n",
        "lqv36_f, lqv36_d_f = filter_nonzero(lqv36_raw, lqv36_d_raw, lqv36_d)\n",
        "print(lqv36_f.shape)\n",
        "# qv36_d_f_norm = normalize_donation_to_proportion(qv36_d_f)\n",
        "\n",
        "lqv108_f, lqv108_d_f = filter_nonzero(lqv108_raw, lqv108_d_raw, lqv108_d)\n",
        "print(lqv108_f.shape)\n",
        "# qv108_d_f_norm = normalize_donation_to_proportion(qv108_d_f)\n",
        "\n",
        "lqv324_f, lqv324_d_f = filter_nonzero(lqv324_raw, lqv324_d_raw, lqv324_d)\n",
        "print(lqv324_f.shape)\n",
        "# qv324_d_f_norm = normalize_donation_to_proportion(qv324_d_f)\n",
        "\n",
        "unlimited_f, unlimited_d_f = filter_nonzero(unlimited_raw, unlimited_d_raw, unlimited_d)\n",
        "print(unlimited_f.shape)"
      ],
      "outputs": [],
      "execution_count": null,
      "metadata": {
        "colab": {
          "base_uri": "https://localhost:8080/"
        },
        "id": "Npaj7-ugxEAn",
        "outputId": "3d6c0984-0cbd-4973-fe48-4566e5cd2e7d",
        "gather": {
          "logged": 1742668535995
        }
      }
    },
    {
      "cell_type": "code",
      "source": [
        "# function that calculates pair response differences\n",
        "def survey_diff(qv_id, qv_survey_responses, condition, topic_columns):\n",
        "    l = qv_id.shape[0]\n",
        "    condition = pd.DataFrame([condition] * l, columns=['condition'])\n",
        "    print(l)\n",
        "\n",
        "    qv_pair_list = []\n",
        "    for i in range(len(topic_columns)-1):\n",
        "        topic_1 = topic_columns[i]\n",
        "        topic_1_df = pd.DataFrame([topic_1]*l, columns=['topic_1'])\n",
        "\n",
        "        for j in range(i+1, len(topic_columns)):\n",
        "            topic_2 = topic_columns[j]\n",
        "            topic_2_df = pd.DataFrame([topic_2]*l, columns=['topic_2'])\n",
        "\n",
        "            topic_1_val = pd.DataFrame(qv_survey_responses[:,i], columns=['topic_1_val'])\n",
        "            topic_2_val = pd.DataFrame(qv_survey_responses[:,j], columns=['topic_2_val'])\n",
        "\n",
        "            vote_diff = qv_survey_responses[:,i] - qv_survey_responses[:,j]\n",
        "            vote_diff_df = pd.DataFrame(vote_diff, columns=['vote_diff'])\n",
        "\n",
        "            vote_diff_complete_df = pd.concat([qv_id.reset_index(), condition, topic_1_df, topic_1_val, topic_2_df, topic_2_val, vote_diff_df], axis=1)\n",
        "            qv_pair_list.append(vote_diff_complete_df)\n",
        "\n",
        "    # print(len(qv_pair_list))\n",
        "    qv_pair = pd.concat(qv_pair_list, axis=0)\n",
        "    print(qv_pair.shape)\n",
        "    print(qv_pair.head())\n",
        "\n",
        "    return qv_pair"
      ],
      "outputs": [],
      "execution_count": null,
      "metadata": {
        "id": "8JpABw7ExEAn",
        "gather": {
          "logged": 1742668536017
        }
      }
    },
    {
      "cell_type": "code",
      "source": [
        "def normalize_diff(diffs, min_diff, max_diff):\n",
        "  diffs_norm = 2 * (diffs - min_diff) / (max_diff - min_diff) - 1\n",
        "  print(diffs_norm.min(), diffs_norm.max())\n",
        "  return diffs_norm"
      ],
      "outputs": [],
      "execution_count": null,
      "metadata": {
        "id": "GTSooh0PCw5F",
        "gather": {
          "logged": 1742668536037
        }
      }
    },
    {
      "cell_type": "code",
      "source": [
        "def normalize_diff_per_row(row, diff_col_name, total_col_name):\n",
        "  diff = row[diff_col_name]\n",
        "  total_used = row[total_col_name]\n",
        "  if total_used != 0:\n",
        "    diff_norm = 2 * (diff + total_used) / (total_used * 2) - 1\n",
        "    if diff_norm < -1 or diff_norm > 1:\n",
        "      print(\"out of range:\")\n",
        "      print(row)\n",
        "  else:\n",
        "    diff_norm = 0\n",
        "  return diff_norm"
      ],
      "outputs": [],
      "execution_count": null,
      "metadata": {
        "id": "EBRpBypRLFUw",
        "gather": {
          "logged": 1742668536055
        }
      }
    },
    {
      "cell_type": "markdown",
      "source": [
        "#### QV"
      ],
      "metadata": {
        "id": "k1AjegfBBZXn"
      }
    },
    {
      "cell_type": "code",
      "source": [
        "# function that calculates pair credit differences\n",
        "def credit_diff(qv_df, new_condition):\n",
        "  columns = list(qv_df.columns)\n",
        "  columns.remove(\"vote_diff\")\n",
        "  qv_credit_df = qv_df[columns]\n",
        "  qv_credit_df['credit_diff'] = qv_credit_df['topic_1_val'] ** 2 - qv_credit_df['topic_2_val'] ** 2\n",
        "  qv_credit_df['condition'] = new_condition\n",
        "\n",
        "  return qv_credit_df"
      ],
      "outputs": [],
      "execution_count": null,
      "metadata": {
        "id": "DKDRzFYW_sBs",
        "gather": {
          "logged": 1742668536074
        }
      }
    },
    {
      "cell_type": "code",
      "source": [
        "qv36_pair = survey_diff(qv36_f[['userId', 'order']], qv36_f[vote_columns].to_numpy(), 'qv36', vote_columns)\n",
        "qv36_pair_credit = credit_diff(qv36_pair, 'qv36_c')\n",
        "# qv36_pair.to_csv(os.path.join(OUTPUT_PATH, 'qv36_pair.csv'))\n",
        "\n",
        "qv36_pair['vote_diff_norm'] = normalize_diff(qv36_pair['vote_diff'], -8, 8) # +5 vs -3\n",
        "qv36_pair['vote_diff_ordinal'] = qv36_pair['vote_diff'] + 8\n",
        "qv36_pair_credit['credit_diff_norm'] = normalize_diff(qv36_pair_credit['credit_diff'], -36, 36)\n",
        "print(qv36_pair.head())"
      ],
      "outputs": [],
      "execution_count": null,
      "metadata": {
        "colab": {
          "base_uri": "https://localhost:8080/"
        },
        "id": "6C3_CVAZxEAn",
        "outputId": "fbe531d7-e737-4da5-a3d8-bfabcbdd773e",
        "gather": {
          "logged": 1742668536094
        }
      }
    },
    {
      "cell_type": "code",
      "source": [
        "qv108_pair = survey_diff(qv108_f[['userId', 'order']], qv108_f[vote_columns].to_numpy(), 'qv108', vote_columns)\n",
        "qv108_pair_credit = credit_diff(qv108_pair, 'qv108_c')\n",
        "# qv108_pair.to_csv(os.path.join(OUTPUT_PATH, 'qv108_pair.csv'))\n",
        "\n",
        "qv108_pair['vote_diff_norm'] = normalize_diff(qv108_pair['vote_diff'], -14, 14)\n",
        "qv108_pair['vote_diff_ordinal'] = qv108_pair['vote_diff'] + 14\n",
        "qv108_pair_credit['credit_diff_norm'] = normalize_diff(qv108_pair_credit['credit_diff'], -108, 108)\n",
        "print(qv108_pair.head())"
      ],
      "outputs": [],
      "execution_count": null,
      "metadata": {
        "colab": {
          "base_uri": "https://localhost:8080/"
        },
        "id": "6A8rtewDxEAn",
        "outputId": "50493016-f295-4e27-a770-f2d160a4d4b3",
        "gather": {
          "logged": 1742668536111
        }
      }
    },
    {
      "cell_type": "code",
      "source": [
        "qv324_pair = survey_diff(qv324_f[['userId', 'order']], qv324_f[vote_columns].to_numpy(), 'qv324', vote_columns)\n",
        "qv324_pair_credit = credit_diff(qv324_pair, 'qv324_c')\n",
        "# qv324_pair.to_csv(os.path.join(OUTPUT_PATH, 'qv324_pair.csv'))\n",
        "\n",
        "qv324_pair['vote_diff_norm'] = normalize_diff(qv324_pair['vote_diff'], -25, 25)\n",
        "qv324_pair['vote_diff_ordinal'] = qv324_pair['vote_diff'] + 25\n",
        "qv324_pair_credit['credit_diff_norm'] = normalize_diff(qv324_pair_credit['credit_diff'], -324, 324)\n",
        "print(qv324_pair.head())"
      ],
      "outputs": [],
      "execution_count": null,
      "metadata": {
        "colab": {
          "base_uri": "https://localhost:8080/"
        },
        "id": "9b9gdYEjxEAn",
        "outputId": "5a07747c-4a02-44fe-a126-1eb598a41235",
        "gather": {
          "logged": 1742668536129
        }
      }
    },
    {
      "cell_type": "code",
      "source": [
        "qv_pair = pd.concat([qv36_pair, qv108_pair, qv324_pair], axis=0).reset_index()[['userId', 'condition', 'order', 'topic_1', 'topic_1_val', 'topic_2', 'topic_2_val', 'vote_diff', 'vote_diff_norm', 'vote_diff_ordinal']]\n",
        "print(qv_pair.head())\n",
        "\n",
        "qv_c_pair = pd.concat([qv36_pair_credit, qv108_pair_credit, qv324_pair_credit], axis=0).reset_index()[['userId', 'condition', 'order', 'topic_1', 'topic_1_val', 'topic_2', 'topic_2_val', 'credit_diff', 'credit_diff_norm']]\n",
        "qv_c_pair_renamed = qv_c_pair.rename(columns={\"credit_diff\": \"vote_diff\", \"credit_diff_norm\": \"vote_diff_norm\"})\n",
        "print(qv_c_pair_renamed.head())"
      ],
      "outputs": [],
      "execution_count": null,
      "metadata": {
        "colab": {
          "base_uri": "https://localhost:8080/"
        },
        "id": "lx2nePXeBWMp",
        "outputId": "85829d62-d6b4-46c7-ef10-03cb91a1d45f",
        "gather": {
          "logged": 1742668536148
        }
      }
    },
    {
      "cell_type": "markdown",
      "source": [
        "#### Likert"
      ],
      "metadata": {
        "id": "L1TH_56VBdab"
      }
    },
    {
      "cell_type": "code",
      "source": [
        "likert_pair = survey_diff(likert_f[['userId', 'order']], likert_f[vote_columns].to_numpy(), 'likert', vote_columns)\n",
        "# likert_pair.to_csv(os.path.join(OUTPUT_PATH, 'likert_pair.csv'))\n",
        "likert_pair['vote_diff_norm'] = normalize_diff(likert_pair['vote_diff'], -4, 4)\n",
        "likert_pair['vote_diff_ordinal'] = likert_pair['vote_diff'] + 4\n",
        "print(likert_pair.head())"
      ],
      "outputs": [],
      "execution_count": null,
      "metadata": {
        "colab": {
          "base_uri": "https://localhost:8080/"
        },
        "id": "mC2HVSGSxEAn",
        "outputId": "93a5a409-d300-4323-b3e9-54e033164177",
        "gather": {
          "logged": 1742668536169
        }
      }
    },
    {
      "cell_type": "markdown",
      "source": [
        "#### LQV"
      ],
      "metadata": {
        "id": "eICazEPVK2tO"
      }
    },
    {
      "cell_type": "code",
      "source": [
        "lqv36_pair = survey_diff(lqv36_f[['userId', 'order']], lqv36_f[vote_columns].to_numpy(), 'lqv36', vote_columns)\n",
        "# lqv36_pair.to_csv(os.path.join(OUTPUT_PATH, 'lqv36_pair.csv'))\n",
        "lqv36_pair['vote_diff_norm'] = normalize_diff(lqv36_pair['vote_diff'], -36, 36)"
      ],
      "outputs": [],
      "execution_count": null,
      "metadata": {
        "colab": {
          "base_uri": "https://localhost:8080/"
        },
        "id": "UdXIv0I8o7PD",
        "outputId": "33f73c29-9e3b-41b0-8001-9a8a020855f8",
        "gather": {
          "logged": 1742668536187
        }
      }
    },
    {
      "cell_type": "code",
      "source": [
        "lqv108_pair = survey_diff(lqv108_f[['userId', 'order']], lqv108_f[vote_columns].to_numpy(), 'lqv108', vote_columns)\n",
        "# lqv108_pair.to_csv(os.path.join(OUTPUT_PATH, 'lqv108_pair.csv'))\n",
        "lqv108_pair['vote_diff_norm'] = normalize_diff(lqv108_pair['vote_diff'], -108, 108)"
      ],
      "outputs": [],
      "execution_count": null,
      "metadata": {
        "colab": {
          "base_uri": "https://localhost:8080/"
        },
        "id": "jGWrXRyfpCrs",
        "outputId": "4954a013-f516-4105-d616-3ff0f71e039a",
        "gather": {
          "logged": 1742668536206
        }
      }
    },
    {
      "cell_type": "code",
      "source": [
        "lqv324_pair = survey_diff(lqv324_f[['userId', 'order']], lqv324_f[vote_columns].to_numpy(), 'lqv324', vote_columns)\n",
        "# lqv324_pair.to_csv(os.path.join(OUTPUT_PATH, 'lqv324_pair.csv'))\n",
        "lqv324_pair['vote_diff_norm'] = normalize_diff(lqv324_pair['vote_diff'], -324, 324)"
      ],
      "outputs": [],
      "execution_count": null,
      "metadata": {
        "colab": {
          "base_uri": "https://localhost:8080/"
        },
        "id": "72RgWQuMpHnE",
        "outputId": "18b9a852-4fab-4b0c-ed30-f4dcd22f7277",
        "gather": {
          "logged": 1742668536224
        }
      }
    },
    {
      "cell_type": "markdown",
      "source": [
        "#### Unlimited"
      ],
      "metadata": {
        "id": "hNFrk_AUK4Ej"
      }
    },
    {
      "cell_type": "code",
      "source": [
        "unlimited_pair = survey_diff(unlimited_f[['userId', 'order', 'total_vote_spent', 'total_credit_spent']], unlimited_f[vote_columns].to_numpy(), 'unlimited', vote_columns)\n",
        "unlimited_pair_credit = credit_diff(unlimited_pair, 'unlimited_c')\n",
        "print(unlimited_pair_credit.head())\n",
        "# unlimited_pair.to_csv(os.path.join(OUTPUT_PATH, 'unlimited_pair.csv'))\n",
        "\n",
        "# Votes for unlimited QV\n",
        "unlimited_pair['vote_diff_norm'] = unlimited_pair.apply(normalize_diff_per_row, axis=1, args=('vote_diff', 'total_vote_spent',))\n",
        "unlimited_pair.head()\n",
        "print(unlimited_pair['vote_diff_norm'].min(), unlimited_pair['vote_diff_norm'].max())\n",
        "\n",
        "# Credits for unlimited QV, column \"credit_diff_norm\" is renamed as \"vote_diff_norm\" to enable concatenation\n",
        "unlimited_pair_credit['vote_diff_norm'] = unlimited_pair_credit.apply(normalize_diff_per_row, axis=1, args=('credit_diff', 'total_credit_spent',))\n",
        "unlimited_pair_credit.head()\n",
        "print(unlimited_pair_credit['vote_diff_norm'].min(), unlimited_pair['vote_diff_norm'].max())"
      ],
      "outputs": [],
      "execution_count": null,
      "metadata": {
        "colab": {
          "base_uri": "https://localhost:8080/"
        },
        "id": "TFGlNaL2pbPu",
        "outputId": "f7567253-1491-4813-c4d1-9b2c7f6d4838",
        "gather": {
          "logged": 1742668536243
        }
      }
    },
    {
      "cell_type": "markdown",
      "source": [
        "#### Concatenate"
      ],
      "metadata": {
        "id": "SkG88GHXafXF"
      }
    },
    {
      "cell_type": "code",
      "source": [
        "shared_cols = ['userId', 'condition', 'order', 'topic_1', 'topic_1_val', 'topic_2', 'topic_2_val', 'vote_diff', 'vote_diff_norm']\n",
        "# unlimited_pair_selected = unlimited_pair[shared_cols]\n",
        "\n",
        "all_pair = pd.concat([qv_pair, qv_c_pair_renamed, likert_pair, lqv36_pair, lqv108_pair, lqv324_pair, unlimited_pair, unlimited_pair_credit], axis=0).reset_index()[['userId', 'condition', 'order', 'topic_1', 'topic_1_val', 'topic_2', 'topic_2_val', 'vote_diff', 'vote_diff_norm', 'vote_diff_ordinal']]\n",
        "all_pair['vote_diff_ordinal'] = all_pair['vote_diff_ordinal'].astype('Int64')\n",
        "\n",
        "print(all_pair.head())\n",
        "print(all_pair.shape)\n",
        "all_pair.to_csv(os.path.join(OUTPUT_PATH, 'all_pair.csv'))"
      ],
      "outputs": [],
      "execution_count": null,
      "metadata": {
        "colab": {
          "base_uri": "https://localhost:8080/"
        },
        "id": "Lds3VZxqxEAo",
        "outputId": "10bb435e-9f6a-4439-afde-33190bfe06c7",
        "gather": {
          "logged": 1742668536267
        }
      }
    },
    {
      "cell_type": "code",
      "source": [
        "frequency_df = all_pair.groupby(['userId', 'condition', 'topic_1', 'topic_2', 'vote_diff']).size().reset_index(name='Frequency')\n",
        "duplicated_bool = frequency_df['Frequency'] > 1\n",
        "rows_duplicated = frequency_df[duplicated_bool]\n",
        "print(rows_duplicated.shape)"
      ],
      "outputs": [],
      "execution_count": null,
      "metadata": {
        "colab": {
          "base_uri": "https://localhost:8080/"
        },
        "id": "6r9NI--AcIKX",
        "outputId": "afe2e773-6b2b-4802-8293-cdc7380c5c0f",
        "gather": {
          "logged": 1742668536290
        }
      }
    },
    {
      "cell_type": "code",
      "source": [
        "all_pair_unique = all_pair.drop_duplicates(subset=['userId', 'condition', 'topic_1', 'topic_2', 'order', 'topic_1_val', 'topic_2_val', 'vote_diff'])\n",
        "print(all_pair_unique.shape)"
      ],
      "outputs": [],
      "execution_count": null,
      "metadata": {
        "colab": {
          "base_uri": "https://localhost:8080/"
        },
        "id": "WkLTHyyEafBD",
        "outputId": "47654545-f502-406a-bb62-185bdc6e1cf9",
        "gather": {
          "logged": 1742668536312
        }
      }
    },
    {
      "cell_type": "code",
      "source": [
        "ordinal_pair = all_pair_unique[all_pair_unique['condition'].isin(['qv36', 'qv108', 'qv324', 'likert'])]\n",
        "ordinal_pair['vote_diff_ordinal'].value_counts()"
      ],
      "outputs": [],
      "execution_count": null,
      "metadata": {
        "colab": {
          "base_uri": "https://localhost:8080/",
          "height": 1000
        },
        "id": "p0bAiz6ZrHbj",
        "outputId": "bc0d209c-674a-4e41-897b-a54a5439b66b",
        "gather": {
          "logged": 1742668536329
        }
      }
    },
    {
      "cell_type": "markdown",
      "source": [
        "#### Donation"
      ],
      "metadata": {
        "id": "XPL3aG34MgM5"
      }
    },
    {
      "cell_type": "code",
      "source": [
        "qv36_d_pair = survey_diff(qv36_d_f[['userId', 'total_spent']], qv36_d_f[donate_columns].to_numpy(), 'qv36', vote_columns)\n",
        "# qv36_d_pair.to_csv(os.path.join(OUTPUT_PATH, 'qv36_d_pair.csv'))'\n",
        "qv36_d_pair_credit = survey_diff(qv36_d_f[['userId', 'total_spent']], qv36_d_f[donate_columns].to_numpy(), 'qv36_c', vote_columns)"
      ],
      "outputs": [],
      "execution_count": null,
      "metadata": {
        "colab": {
          "base_uri": "https://localhost:8080/"
        },
        "id": "WmnjtAjuxEAo",
        "outputId": "01969495-8fad-4202-bf68-ca23929fc569",
        "gather": {
          "logged": 1742668536348
        }
      }
    },
    {
      "cell_type": "code",
      "source": [
        "qv108_d_pair = survey_diff(qv108_d_f[['userId', 'total_spent']], qv108_d_f[donate_columns].to_numpy(), 'qv108', vote_columns)\n",
        "# qv108_d_pair.to_csv(os.path.join(OUTPUT_PATH, 'qv108_d_pair.csv'))\n",
        "qv108_d_pair_credit = survey_diff(qv108_d_f[['userId', 'total_spent']], qv108_d_f[donate_columns].to_numpy(), 'qv108_c', vote_columns)"
      ],
      "outputs": [],
      "execution_count": null,
      "metadata": {
        "colab": {
          "base_uri": "https://localhost:8080/"
        },
        "id": "CDCzVsALxEAo",
        "outputId": "1b950153-b891-4ed9-de04-697fb21288c2",
        "gather": {
          "logged": 1742668536372
        }
      }
    },
    {
      "cell_type": "code",
      "source": [
        "qv324_d_pair = survey_diff(qv324_d_f[['userId', 'total_spent']], qv324_d_f[donate_columns].to_numpy(), 'qv324', vote_columns)\n",
        "# qv324_d_pair.to_csv(os.path.join(OUTPUT_PATH, 'qv324_d_pair.csv'))\n",
        "qv324_d_pair_credit = survey_diff(qv324_d_f[['userId', 'total_spent']], qv324_d_f[donate_columns].to_numpy(), 'qv324_c', vote_columns)"
      ],
      "outputs": [],
      "execution_count": null,
      "metadata": {
        "colab": {
          "base_uri": "https://localhost:8080/"
        },
        "id": "vPUvGh4qxEAo",
        "outputId": "85fe108f-4eca-4879-b4ad-98ed28f746b0",
        "gather": {
          "logged": 1742668536390
        }
      }
    },
    {
      "cell_type": "code",
      "source": [
        "likert_d_pair = survey_diff(likert_d_f[['userId', 'total_spent']], likert_d_f[donate_columns].to_numpy(), 'likert', vote_columns)\n",
        "# likert_d_pair.to_csv(os.path.join(OUTPUT_PATH, 'likert_d_pair.csv'))"
      ],
      "outputs": [],
      "execution_count": null,
      "metadata": {
        "colab": {
          "base_uri": "https://localhost:8080/"
        },
        "id": "zjDVmkk2xEAo",
        "outputId": "677b0701-c309-4635-e650-c2a035fab0bc",
        "gather": {
          "logged": 1742668536408
        }
      }
    },
    {
      "cell_type": "code",
      "source": [
        "lqv36_d_pair = survey_diff(lqv36_d_f[['userId', 'total_spent']], lqv36_d_f[donate_columns].to_numpy(), 'lqv36', vote_columns)\n",
        "# lqv36_d_pair.to_csv(os.path.join(OUTPUT_PATH, 'lqv36_d_pair.csv'))"
      ],
      "outputs": [],
      "execution_count": null,
      "metadata": {
        "colab": {
          "base_uri": "https://localhost:8080/"
        },
        "id": "ZFbx1TVlppJm",
        "outputId": "8119d2cc-2c1e-40bd-ba5b-cebef1a288ba",
        "gather": {
          "logged": 1742668536425
        }
      }
    },
    {
      "cell_type": "code",
      "source": [
        "lqv108_d_pair = survey_diff(lqv108_d_f[['userId', 'total_spent']], lqv108_d_f[donate_columns].to_numpy(), 'lqv108', vote_columns)\n",
        "# lqv108_d_pair.to_csv(os.path.join(OUTPUT_PATH, 'lqv108_d_pair.csv'))"
      ],
      "outputs": [],
      "execution_count": null,
      "metadata": {
        "colab": {
          "base_uri": "https://localhost:8080/"
        },
        "id": "fpIyGQpxpv4D",
        "outputId": "25f29486-b36a-41d3-8590-6bcc6cbe8080",
        "gather": {
          "logged": 1742668536445
        }
      }
    },
    {
      "cell_type": "code",
      "source": [
        "lqv324_d_pair = survey_diff(lqv324_d_f[['userId', 'total_spent']], lqv324_d_f[donate_columns].to_numpy(), 'lqv324', vote_columns)\n",
        "# lqv324_d_pair.to_csv(os.path.join(OUTPUT_PATH, 'lqv324_d_pair.csv'))"
      ],
      "outputs": [],
      "execution_count": null,
      "metadata": {
        "colab": {
          "base_uri": "https://localhost:8080/"
        },
        "id": "YXSeBq5Fp1ec",
        "outputId": "28d6f362-3ce4-48c3-c8f8-c891f8999bc4",
        "gather": {
          "logged": 1742668536462
        }
      }
    },
    {
      "cell_type": "code",
      "source": [
        "unlimited_d_pair = survey_diff(unlimited_d_f[['userId', 'total_spent']], unlimited_d_f[donate_columns].to_numpy(), 'unlimited', vote_columns)\n",
        "# unlimited_d_pair.to_csv(os.path.join(OUTPUT_PATH, 'unlimited_d_pair.csv'))\n",
        "unlimited_d_pair_credit = survey_diff(unlimited_d_f[['userId', 'total_spent']], unlimited_d_f[donate_columns].to_numpy(), 'unlimited_c', vote_columns)"
      ],
      "outputs": [],
      "execution_count": null,
      "metadata": {
        "colab": {
          "base_uri": "https://localhost:8080/"
        },
        "id": "d07ER8C-p5q9",
        "outputId": "c7283562-05a3-465a-bd72-0f948228e0c4",
        "gather": {
          "logged": 1742668536479
        }
      }
    },
    {
      "cell_type": "code",
      "source": [
        "all_d_pair = pd.concat([qv36_d_pair, qv108_d_pair, qv324_d_pair, qv36_d_pair_credit, qv108_d_pair_credit, qv324_d_pair_credit, likert_d_pair, lqv36_d_pair, lqv108_d_pair, lqv324_d_pair, unlimited_d_pair, unlimited_d_pair_credit], axis=0).reset_index()[['userId', 'condition', 'topic_1', 'topic_1_val', 'topic_2', 'topic_2_val', 'vote_diff', 'total_spent']]\n",
        "all_d_pair['vote_diff_norm'] = all_d_pair.apply(normalize_diff_per_row, axis=1, args=('vote_diff', 'total_spent',))\n",
        "\n",
        "all_d_pair = all_d_pair.rename(columns={\"vote_diff\": \"donation_diff\", \"vote_diff_norm\": \"donation_diff_norm\"})\n",
        "\n",
        "print(all_d_pair.head())\n",
        "print(all_d_pair['donation_diff_norm'].min(), all_d_pair['donation_diff_norm'].max())\n",
        "print(all_d_pair.shape)\n",
        "all_d_pair.to_csv(os.path.join(OUTPUT_PATH, 'all_d_pair.csv'))"
      ],
      "outputs": [],
      "execution_count": null,
      "metadata": {
        "colab": {
          "base_uri": "https://localhost:8080/"
        },
        "id": "V9TJzLzkxEAo",
        "outputId": "64b72c2a-543d-4c80-96e3-9280c8c63cf8",
        "gather": {
          "logged": 1742668536496
        }
      }
    },
    {
      "cell_type": "code",
      "source": [
        "frequency_df = all_d_pair.groupby(['userId', 'condition', 'topic_1', 'topic_2']).size().reset_index(name='Frequency')\n",
        "duplicated_bool = frequency_df['Frequency'] > 1\n",
        "rows_duplicated = frequency_df[duplicated_bool]\n",
        "print(rows_duplicated.shape)"
      ],
      "outputs": [],
      "execution_count": null,
      "metadata": {
        "colab": {
          "base_uri": "https://localhost:8080/"
        },
        "id": "Fm8WVIK2Y9xq",
        "outputId": "32260a65-c702-4d3c-9207-857384d19f9c",
        "gather": {
          "logged": 1742668536514
        }
      }
    },
    {
      "cell_type": "code",
      "source": [
        "all_d_pair_unique = all_d_pair.drop_duplicates(subset=['userId', 'condition', 'topic_1', 'topic_2'])\n",
        "print(all_d_pair_unique.shape)"
      ],
      "outputs": [],
      "execution_count": null,
      "metadata": {
        "colab": {
          "base_uri": "https://localhost:8080/"
        },
        "id": "515NIpYlZCxg",
        "outputId": "36c1578e-6be7-4673-83dd-78f698a1adb8",
        "gather": {
          "logged": 1742668536534
        }
      }
    },
    {
      "cell_type": "markdown",
      "source": [
        "## Join donation and survey dataframes"
      ],
      "metadata": {
        "id": "SYmYZRuYxEAo"
      }
    },
    {
      "cell_type": "code",
      "source": [
        "all_pair_comp = all_pair_unique.merge(all_d_pair_unique, how='left', on=['userId', 'condition', 'topic_1', 'topic_2'], suffixes=(\"_vote\", \"_donation\"))\n",
        "print(all_pair_comp.shape)\n",
        "all_pair_comp.head()"
      ],
      "outputs": [],
      "execution_count": null,
      "metadata": {
        "colab": {
          "base_uri": "https://localhost:8080/",
          "height": 244
        },
        "id": "Z-yp7HJ6xEAp",
        "outputId": "49a2bd26-de86-42ef-a533-d927d0743482",
        "gather": {
          "logged": 1742668536552
        }
      }
    },
    {
      "cell_type": "code",
      "source": [
        "frequency_df = all_pair_comp.groupby(['userId', 'condition', 'topic_1', 'topic_2']).size().reset_index(name='Frequency')\n",
        "rows_duplicated = frequency_df[frequency_df['Frequency'] > 1]\n",
        "print(rows_duplicated.shape)"
      ],
      "outputs": [],
      "execution_count": null,
      "metadata": {
        "colab": {
          "base_uri": "https://localhost:8080/"
        },
        "id": "Wz_MPjrzYgWs",
        "outputId": "160495f8-380f-4be9-dc90-8326aefc2362",
        "gather": {
          "logged": 1742668536571
        }
      }
    },
    {
      "cell_type": "code",
      "source": [
        "print(all_pair_comp['vote_diff_norm'].min(), all_pair_comp['vote_diff_norm'].max())\n",
        "print(all_pair_comp['donation_diff_norm'].min(), all_pair_comp['donation_diff_norm'].max())\n",
        "# print(all_pair_comp['vote_diff_ordinal'].value_counts())"
      ],
      "outputs": [],
      "execution_count": null,
      "metadata": {
        "colab": {
          "base_uri": "https://localhost:8080/"
        },
        "id": "sv0o_q3pZ1Kc",
        "outputId": "b847d471-fa5f-408a-db26-81d6ceb9f901",
        "gather": {
          "logged": 1742668536589
        }
      }
    },
    {
      "cell_type": "code",
      "source": [
        "sns.histplot(all_pair_comp['vote_diff_norm'])\n",
        "plt.ylim(0, 3000)\n",
        "plt.show()"
      ],
      "outputs": [],
      "execution_count": null,
      "metadata": {
        "colab": {
          "base_uri": "https://localhost:8080/",
          "height": 508
        },
        "id": "FDxhcwOZbxZg",
        "outputId": "ef86b739-68d5-45e3-cf62-ab872d1c0f27",
        "gather": {
          "logged": 1742668536609
        }
      }
    },
    {
      "cell_type": "code",
      "source": [
        "sns.histplot(all_pair_comp['donation_diff_norm'])\n",
        "plt.ylim(0, 2000)\n",
        "plt.show()"
      ],
      "outputs": [],
      "execution_count": null,
      "metadata": {
        "colab": {
          "base_uri": "https://localhost:8080/",
          "height": 508
        },
        "id": "pSFeB0q1cVnW",
        "outputId": "878c3599-61cb-4105-9c9f-b08b81435a34",
        "gather": {
          "logged": 1742668536628
        }
      }
    },
    {
      "cell_type": "code",
      "source": [
        "print(all_pair_comp[all_pair_comp['donation_diff_norm'] == 0].shape)"
      ],
      "outputs": [],
      "execution_count": null,
      "metadata": {
        "colab": {
          "base_uri": "https://localhost:8080/"
        },
        "id": "yA_Q-hdcT1k4",
        "outputId": "94c12b8e-4c9b-4918-92fc-bfaea94d1801",
        "gather": {
          "logged": 1742668536645
        }
      }
    },
    {
      "cell_type": "code",
      "source": [
        "print(all_pair_comp[(all_pair_comp['donation_diff_norm'] == 0) & (all_pair_comp['topic_1_val_donation'] == 0) & (all_pair_comp['topic_2_val_donation'] == 0)].shape)"
      ],
      "outputs": [],
      "execution_count": null,
      "metadata": {
        "colab": {
          "base_uri": "https://localhost:8080/"
        },
        "id": "AAutPfHxVDEc",
        "outputId": "13f6c6ba-9d09-4299-e2e6-eeb19890e6ab",
        "gather": {
          "logged": 1742668536663
        }
      }
    },
    {
      "cell_type": "markdown",
      "source": [
        "#### Separate Ordinal and Continuous Conditions"
      ],
      "metadata": {
        "id": "EUl7rAB7HJ2D"
      }
    },
    {
      "cell_type": "code",
      "source": [
        "# Ordinal conditions\n",
        "all_pair_comp_ordinal = all_pair_comp[all_pair_comp['condition'].isin(['qv36', 'qv108', 'qv324', 'likert'])]\n",
        "\n",
        "def add_ordinal_level(row, ordinal_lvl_dict):\n",
        "  condition = row['condition']\n",
        "  ordinal_lvl = ordinal_lvl_dict[condition]\n",
        "  return ordinal_lvl\n",
        "\n",
        "ordinal_lvl_dict = {\n",
        "    'qv36': 17,\n",
        "    'qv108': 29,\n",
        "    'qv324':51,\n",
        "    'likert': 9\n",
        "}\n",
        "\n",
        "all_pair_comp_ordinal['ordinal_lvl'] = all_pair_comp_ordinal.apply(add_ordinal_level, axis=1, args=(ordinal_lvl_dict,))\n",
        "\n",
        "all_pair_comp_ordinal.head()\n"
      ],
      "outputs": [
        {
          "output_type": "stream",
          "name": "stderr",
          "text": "SettingWithCopyWarning: \nA value is trying to be set on a copy of a slice from a DataFrame.\nTry using .loc[row_indexer,col_indexer] = value instead\n\nSee the caveats in the documentation: https://pandas.pydata.org/pandas-docs/stable/user_guide/indexing.html#returning-a-view-versus-a-copy\n"
        },
        {
          "output_type": "execute_result",
          "execution_count": 61,
          "data": {
            "text/plain": "                     userId condition     order topic_1  topic_1_val_vote  \\\n0  5e62c4156ffda4487364f751      qv36     first    pets                 2   \n1  5e640f2eae7e33fbc93cdd09      qv36  decrease    pets                 1   \n2  5e64113fae7e33fbc93cdd10      qv36  decrease    pets                 1   \n3  5e6488ec23530f5bd5b24194      qv36  decrease    pets                 1   \n4  5e64adba54fc700d6d481f58      qv36  decrease    pets                 2   \n\n  topic_2  topic_2_val_vote  vote_diff  vote_diff_norm  vote_diff_ordinal  \\\n0     art                 0        2.0           0.250                 10   \n1     art                 1        0.0           0.000                  8   \n2     art                 1        0.0           0.000                  8   \n3     art                 2       -1.0          -0.125                  7   \n4     art                 0        2.0           0.250                 10   \n\n   topic_1_val_donation  topic_2_val_donation  donation_diff  total_spent  \\\n0                     0                     0              0            5   \n1                     0                     0              0           10   \n2                    10                     0             10           35   \n3                     0                     0              0            4   \n4                     5                     0              5           10   \n\n   donation_diff_norm  ordinal_lvl  \n0            0.000000           17  \n1            0.000000           17  \n2            0.285714           17  \n3            0.000000           17  \n4            0.500000           17  ",
            "text/html": "<div>\n<style scoped>\n    .dataframe tbody tr th:only-of-type {\n        vertical-align: middle;\n    }\n\n    .dataframe tbody tr th {\n        vertical-align: top;\n    }\n\n    .dataframe thead th {\n        text-align: right;\n    }\n</style>\n<table border=\"1\" class=\"dataframe\">\n  <thead>\n    <tr style=\"text-align: right;\">\n      <th></th>\n      <th>userId</th>\n      <th>condition</th>\n      <th>order</th>\n      <th>topic_1</th>\n      <th>topic_1_val_vote</th>\n      <th>topic_2</th>\n      <th>topic_2_val_vote</th>\n      <th>vote_diff</th>\n      <th>vote_diff_norm</th>\n      <th>vote_diff_ordinal</th>\n      <th>topic_1_val_donation</th>\n      <th>topic_2_val_donation</th>\n      <th>donation_diff</th>\n      <th>total_spent</th>\n      <th>donation_diff_norm</th>\n      <th>ordinal_lvl</th>\n    </tr>\n  </thead>\n  <tbody>\n    <tr>\n      <th>0</th>\n      <td>5e62c4156ffda4487364f751</td>\n      <td>qv36</td>\n      <td>first</td>\n      <td>pets</td>\n      <td>2</td>\n      <td>art</td>\n      <td>0</td>\n      <td>2.0</td>\n      <td>0.250</td>\n      <td>10</td>\n      <td>0</td>\n      <td>0</td>\n      <td>0</td>\n      <td>5</td>\n      <td>0.000000</td>\n      <td>17</td>\n    </tr>\n    <tr>\n      <th>1</th>\n      <td>5e640f2eae7e33fbc93cdd09</td>\n      <td>qv36</td>\n      <td>decrease</td>\n      <td>pets</td>\n      <td>1</td>\n      <td>art</td>\n      <td>1</td>\n      <td>0.0</td>\n      <td>0.000</td>\n      <td>8</td>\n      <td>0</td>\n      <td>0</td>\n      <td>0</td>\n      <td>10</td>\n      <td>0.000000</td>\n      <td>17</td>\n    </tr>\n    <tr>\n      <th>2</th>\n      <td>5e64113fae7e33fbc93cdd10</td>\n      <td>qv36</td>\n      <td>decrease</td>\n      <td>pets</td>\n      <td>1</td>\n      <td>art</td>\n      <td>1</td>\n      <td>0.0</td>\n      <td>0.000</td>\n      <td>8</td>\n      <td>10</td>\n      <td>0</td>\n      <td>10</td>\n      <td>35</td>\n      <td>0.285714</td>\n      <td>17</td>\n    </tr>\n    <tr>\n      <th>3</th>\n      <td>5e6488ec23530f5bd5b24194</td>\n      <td>qv36</td>\n      <td>decrease</td>\n      <td>pets</td>\n      <td>1</td>\n      <td>art</td>\n      <td>2</td>\n      <td>-1.0</td>\n      <td>-0.125</td>\n      <td>7</td>\n      <td>0</td>\n      <td>0</td>\n      <td>0</td>\n      <td>4</td>\n      <td>0.000000</td>\n      <td>17</td>\n    </tr>\n    <tr>\n      <th>4</th>\n      <td>5e64adba54fc700d6d481f58</td>\n      <td>qv36</td>\n      <td>decrease</td>\n      <td>pets</td>\n      <td>2</td>\n      <td>art</td>\n      <td>0</td>\n      <td>2.0</td>\n      <td>0.250</td>\n      <td>10</td>\n      <td>5</td>\n      <td>0</td>\n      <td>5</td>\n      <td>10</td>\n      <td>0.500000</td>\n      <td>17</td>\n    </tr>\n  </tbody>\n</table>\n</div>"
          },
          "metadata": {}
        }
      ],
      "execution_count": 61,
      "metadata": {
        "colab": {
          "base_uri": "https://localhost:8080/",
          "height": 315
        },
        "id": "1fOFEmWIGqFE",
        "outputId": "80d36bcf-6c9c-4488-d48d-19e80f5aac8e",
        "gather": {
          "logged": 1742624929954
        }
      }
    },
    {
      "cell_type": "code",
      "source": [
        "# Further breakdown ordinal conditions, one condition per dataframe\n",
        "qv36_pair_ordinal = all_pair_comp_ordinal[all_pair_comp_ordinal['condition'].isin(['qv36'])]\n",
        "qv108_pair_ordinal = all_pair_comp_ordinal[all_pair_comp_ordinal['condition'].isin(['qv108'])]\n",
        "qv324_pair_ordinal = all_pair_comp_ordinal[all_pair_comp_ordinal['condition'].isin(['qv324'])]\n",
        "likert_pair_ordinal = all_pair_comp_ordinal[all_pair_comp_ordinal['condition'].isin(['likert'])]"
      ],
      "outputs": [],
      "execution_count": 62,
      "metadata": {
        "id": "QaADhvzlMi2J",
        "gather": {
          "logged": 1742624930184
        }
      }
    },
    {
      "cell_type": "code",
      "source": [
        "# Continuous conditions\n",
        "all_pair_comp_continuous = all_pair_comp[all_pair_comp['condition'].isin(['qv36_c', 'qv108_c', 'qv324_c', 'lqv36', 'lqv108', 'lqv324', 'unlimited', 'unlimited_c'])]\n",
        "\n",
        "def add_condition_id(row, condition_id_dict):\n",
        "  condition = row['condition']\n",
        "  condition_id = condition_id_dict[condition]\n",
        "  return condition_id\n",
        "\n",
        "# Index(['likert', 'lqv108', 'lqv324', 'lqv36', 'qv108', 'qv108_c', 'qv324',\n",
        "#   'qv324_c', 'qv36', 'qv36_c', 'unlimited', 'unlimited_c'],\n",
        "\n",
        "condition_id_dict = {\n",
        "    'qv36_c': 9,\n",
        "    'qv108_c': 5,\n",
        "    'qv324_c': 7,\n",
        "    'lqv36': 3,\n",
        "    'lqv108': 1,\n",
        "    'lqv324': 2,\n",
        "    'unlimited': 10,\n",
        "    'unlimited_c': 11\n",
        "}\n",
        "\n",
        "all_pair_comp_continuous['condition_id'] = all_pair_comp_continuous.apply(add_condition_id, axis=1, args=(condition_id_dict,))\n",
        "\n",
        "all_pair_comp_continuous.head()\n",
        "\n",
        "all_pair_comp_continuous.to_csv(os.path.join(OUTPUT_PATH, 'all_pair_comp_continuous.csv'))"
      ],
      "outputs": [
        {
          "output_type": "stream",
          "name": "stderr",
          "text": "SettingWithCopyWarning: \nA value is trying to be set on a copy of a slice from a DataFrame.\nTry using .loc[row_indexer,col_indexer] = value instead\n\nSee the caveats in the documentation: https://pandas.pydata.org/pandas-docs/stable/user_guide/indexing.html#returning-a-view-versus-a-copy\n"
        }
      ],
      "execution_count": 63,
      "metadata": {
        "colab": {
          "base_uri": "https://localhost:8080/"
        },
        "id": "tUJYWit3GvRA",
        "outputId": "cb8415d0-d959-47f2-a864-1130192c0ab7",
        "gather": {
          "logged": 1742624930552
        }
      }
    },
    {
      "cell_type": "markdown",
      "source": [
        "## Model"
      ],
      "metadata": {
        "id": "68jKPlUV41e5"
      }
    },
    {
      "cell_type": "markdown",
      "source": [
        "### Model as a mix of ordinal and continous variables"
      ],
      "metadata": {
        "id": "sFnWD0ET95AA"
      }
    },
    {
      "cell_type": "code",
      "source": [
        "# As continuous (all credits, linear QV votes, unlimited votes) and ordinal (for QV votes and likert)\n",
        "def pair_diff_strength_continuous_ordinal(vote_diff_norm, vote_diff_qv36, vote_diff_qv108, vote_diff_qv324, vote_diff_likert, condition, topic_1, topic_2, order, donation_diff=None):\n",
        "    # vote_diff_ordinal_levels is a list of integers, each represents the ordinal level of a condition\n",
        "\n",
        "    NC = 12\n",
        "    NT = 9\n",
        "    NO = 3\n",
        "\n",
        "    ########################### Priors ##################################\n",
        "\n",
        "    # ##### Intercepts #####\n",
        "    # alpha = npr.sample(\"alpha\", dist.Normal(0.0, 0.1))\n",
        "\n",
        "    ##### Conditions varying intercepts #####\n",
        "\n",
        "    # # hyper priors\n",
        "    # b_cond_bar = npr.sample(\"b_cond_bar\", dist.Normal(0.0, 0.1))\n",
        "    # sigma_cond = npr.sample(\"sigma_cond\", dist.Uniform(0, 1))\n",
        "\n",
        "    # # adaptive prior (non-centered)\n",
        "    # b_cond_z = npr.sample(\"b_cond_z\", dist.Normal(0.0, 1.0).expand([NC]))\n",
        "    # b_cond = npr.deterministic(\"b_cond\", jnp.add(b_cond_bar, jnp.multiply(b_cond_z, sigma_cond)))\n",
        "    b_cond = npr.sample(\"b_cond\", dist.Normal(0.0, 0.2).expand([NC]))\n",
        "\n",
        "    ##### Conditions x Vote difference varying slopes #####\n",
        "    # Index(['likert', 'lqv108', 'lqv324', 'lqv36', 'qv108', 'qv108_c', 'qv324',\n",
        "    #   'qv324_c', 'qv36', 'qv36_c', 'unlimited', 'unlimited_c'],\n",
        "\n",
        "    # hyper priors\n",
        "    b_vote_bar = npr.sample(\"b_vote_bar\", dist.Normal(0.0, 1.0))\n",
        "    sigma_vote = npr.sample(\"sigma_vote\", dist.Uniform(0, 1))\n",
        "\n",
        "    b_vote_z = npr.sample(\"b_vote_z\", dist.Normal(0.0, 1.0).expand([NC]))\n",
        "    b_vote = npr.deterministic(\"b_vote\", jnp.add(b_vote_bar, jnp.multiply(b_vote_z, sigma_vote)))\n",
        "\n",
        "    # b_vote = npr.sample(\"b_vote\", dist.Normal(0.0, 0.5).expand([NC]))\n",
        "\n",
        "    # Ordinal conditions\n",
        "\n",
        "    a_cf_qv36 = npr.sample(\"a_cf_qv36\", dist.Dirichlet(jnp.repeat(2, 17 - 1)))\n",
        "    a_cf_k_qv36 = jnp.pad(a_cf_qv36, (1, 0))\n",
        "    a_cf_k_cumulative_qv36 = jnp.sum(jnp.where(jnp.arange(17) <= vote_diff_qv36[..., None], a_cf_k_qv36, 0), -1)\n",
        "    # N_qv36 = len(vote_diff_qv36)\n",
        "    # b_vote_arr_qv36 = jnp.repeat(b_vote[8], N_qv36)\n",
        "\n",
        "    a_cf_qv108 = npr.sample(\"a_cf_qv108\", dist.Dirichlet(jnp.repeat(2, 29 - 1)))\n",
        "    a_cf_k_qv108 = jnp.pad(a_cf_qv108, (1, 0))\n",
        "    a_cf_k_cumulative_qv108 = jnp.sum(jnp.where(jnp.arange(29) <= vote_diff_qv108[..., None], a_cf_k_qv108, 0), -1)\n",
        "    # N_qv108 = len(vote_diff_qv108)\n",
        "    # b_vote_arr_qv108 = jnp.repeat(b_vote[4], N_qv108)\n",
        "\n",
        "    a_cf_qv324 = npr.sample(\"a_cf_qv324\", dist.Dirichlet(jnp.repeat(2, 51 - 1)))\n",
        "    a_cf_k_qv324 = jnp.pad(a_cf_qv324, (1, 0))\n",
        "    a_cf_k_cumulative_qv324 = jnp.sum(jnp.where(jnp.arange(51) <= vote_diff_qv324[..., None], a_cf_k_qv324, 0), -1)\n",
        "    # N_qv324 = len(vote_diff_qv324)\n",
        "    # b_vote_arr_qv324 = jnp.repeat(b_vote[6], N_qv324)\n",
        "\n",
        "    a_cf_likert = npr.sample(\"a_cf_likert\", dist.Dirichlet(jnp.repeat(2, 9 - 1)))\n",
        "    a_cf_k_likert = jnp.pad(a_cf_likert, (1, 0))\n",
        "    a_cf_k_cumulative_likert = jnp.sum(jnp.where(jnp.arange(9) <= vote_diff_likert[..., None], a_cf_k_likert, 0), -1)\n",
        "    # N_likert = len(vote_diff_likert)\n",
        "    # b_vote_arr_likert = jnp.repeat(b_vote[0], N_likert)\n",
        "\n",
        "    # # Continuous conditions\n",
        "    # b_vote_continuous = jnp.take(b_vote, continuous_condition_id)\n",
        "\n",
        "    # Concatenate all conditions\n",
        "    # b_vote_arr = jnp.concatenate((b_vote_arr_qv36, b_vote_arr_qv108, b_vote_arr_qv324, b_vote_arr_likert, b_vote_continuous))\n",
        "    b_vote_arr = b_vote[condition]\n",
        "    vote_diff_arr = jnp.concatenate((a_cf_k_cumulative_qv36, a_cf_k_cumulative_qv108, a_cf_k_cumulative_qv324, a_cf_k_cumulative_likert, vote_diff_norm))\n",
        "    # print(b_vote_arr.shape)\n",
        "    # print(vote_diff_arr.shape)\n",
        "    # array_min = jnp.min(vote_diff_arr)\n",
        "    # array_max = jnp.max(vote_diff_arr)\n",
        "    # print(f\"Min: {array_min}; Max: {array_max}\")\n",
        "\n",
        "\n",
        "    ##### Order varying intercepts #####\n",
        "\n",
        "    # hyper priors\n",
        "    b_order_bar = npr.sample(\"b_order_bar\", dist.Normal(0.0, 0.1))\n",
        "    sigma_order = npr.sample(\"sigma_order\", dist.Uniform(0, 1))\n",
        "\n",
        "    # adaptive prior (non-centered)\n",
        "    b_order_z = npr.sample(\"b_order_z\", dist.Normal(0.0, 1.0).expand([NO]))\n",
        "    b_order = npr.deterministic(\"b_order\", jnp.add(b_order_bar, jnp.multiply(b_order_z, sigma_order)))\n",
        "\n",
        "    ##### Topic varying intercepts #####\n",
        "\n",
        "    # hyper priors\n",
        "    b_topic_bar = npr.sample(\"b_topic_bar\", dist.Normal(0.0, 0.1))\n",
        "    sigma_topic = npr.sample(\"sigma_topic\", dist.Uniform(0, 1))\n",
        "\n",
        "    # adaptive prior (non-centered)\n",
        "    b_topic_z = npr.sample(\"b_topic_z\", dist.Normal(0.0, 1.0).expand([NT]))\n",
        "    b_topic = npr.deterministic(\"b_topic\", jnp.add(b_topic_z, jnp.multiply(b_topic_bar, sigma_topic)))\n",
        "\n",
        "\n",
        "    ##### Sigma intercept #####\n",
        "    b_sigma = npr.sample(\"b_sigma\", dist.Exponential(1).expand([NC]))\n",
        "\n",
        "\n",
        "    ################ mean and std of observed data #############\n",
        "\n",
        "    mu = npr.deterministic('mu', b_cond[condition] + b_vote_arr * vote_diff_arr + b_order[order] +\n",
        "                            b_topic[topic_1] + b_topic[topic_2])\n",
        "\n",
        "    sigma = npr.deterministic('sigma', b_sigma[condition])\n",
        "\n",
        "    npr.sample('donation_diff', dist.Normal(mu, sigma), obs=donation_diff)"
      ],
      "outputs": [],
      "execution_count": 64,
      "metadata": {
        "id": "YEVce1qOtmzG",
        "gather": {
          "logged": 1742624930884
        }
      }
    },
    {
      "cell_type": "code",
      "source": [
        "condition = pd.concat([qv36_pair_ordinal['condition'], qv108_pair_ordinal['condition'], qv324_pair_ordinal['condition'], likert_pair_ordinal['condition'], all_pair_comp_continuous['condition']], ignore_index=True)\n",
        "order = pd.concat([qv36_pair_ordinal['order'], qv108_pair_ordinal['order'], qv324_pair_ordinal['order'], likert_pair_ordinal['order'], all_pair_comp_continuous['order']], ignore_index=True)\n",
        "topic_1 = pd.concat([qv36_pair_ordinal['topic_1'], qv108_pair_ordinal['topic_1'], qv324_pair_ordinal['topic_1'], likert_pair_ordinal['topic_1'], all_pair_comp_continuous['topic_1']], ignore_index=True)\n",
        "topic_2 = pd.concat([qv36_pair_ordinal['topic_2'], qv108_pair_ordinal['topic_2'], qv324_pair_ordinal['topic_2'], likert_pair_ordinal['topic_2'], all_pair_comp_continuous['topic_2']], ignore_index=True)\n",
        "\n",
        "condition_idx, condition_label = pd.factorize(condition, sort=True)\n",
        "order_idx, order_label = pd.factorize(order, sort=True)\n",
        "topic_1_idx, topic_1_label = pd.factorize(topic_1, sort=True)\n",
        "topic_2_idx, topic_2_label = pd.factorize(topic_2, sort=True)\n",
        "\n",
        "predict_data_dict = {\n",
        "    'condition': jnp.asarray(condition_idx),\n",
        "    'topic_1': jnp.asarray(topic_1_idx),\n",
        "    'topic_2': jnp.asarray(topic_2_idx),\n",
        "    \"order\": jnp.asarray(order_idx),\n",
        "    \"vote_diff_norm\": jnp.asarray(all_pair_comp_continuous['vote_diff_norm']),\n",
        "    \"vote_diff_qv36\": jnp.asarray(qv36_pair_ordinal['vote_diff_ordinal']),\n",
        "    \"vote_diff_qv108\": jnp.asarray(qv108_pair_ordinal['vote_diff_ordinal']),\n",
        "    \"vote_diff_qv324\": jnp.asarray(qv324_pair_ordinal['vote_diff_ordinal']),\n",
        "    \"vote_diff_likert\": jnp.asarray(likert_pair_ordinal['vote_diff_ordinal']),\n",
        "}\n",
        "\n",
        "donation_diff = pd.concat([qv36_pair_ordinal['donation_diff_norm'], qv108_pair_ordinal['donation_diff_norm'], qv324_pair_ordinal['donation_diff_norm'], likert_pair_ordinal['donation_diff_norm'], all_pair_comp_continuous['donation_diff_norm']], ignore_index=True)\n",
        "\n",
        "data_dict_DV = {\n",
        "    'donation_diff': jnp.asarray(donation_diff)\n",
        "}\n",
        "\n",
        "fitting_data_dict = {**predict_data_dict, **data_dict_DV}\n",
        "\n",
        "print(condition_label)\n",
        "print(order_label)\n",
        "print(topic_1_label)"
      ],
      "outputs": [
        {
          "output_type": "stream",
          "name": "stdout",
          "text": "Index(['likert', 'lqv108', 'lqv324', 'lqv36', 'qv108', 'qv108_c', 'qv324',\n       'qv324_c', 'qv36', 'qv36_c', 'unlimited', 'unlimited_c'],\n      dtype='object')\nIndex(['decrease', 'first', 'increase'], dtype='object')\nIndex(['art', 'education', 'environment', 'faith', 'health', 'human',\n       'international', 'pets'],\n      dtype='object')\n"
        }
      ],
      "execution_count": 65,
      "metadata": {
        "id": "amwbOCv7xy0n",
        "colab": {
          "base_uri": "https://localhost:8080/"
        },
        "outputId": "5a0724de-b2ba-4265-8a5b-4ca27b274ddd",
        "gather": {
          "logged": 1742624931118
        }
      }
    },
    {
      "cell_type": "code",
      "source": [
        "dims = {\n",
        "    \"b_cond\": [\"conditions\"],\n",
        "    \"b_vote\": [\"conditions\"],\n",
        "    \"b_topic\": [\"topics\"],\n",
        "    \"b_order\": [\"orders\"],\n",
        "    \"b_sigma\": [\"conditions\"]\n",
        "}\n",
        "\n",
        "conditions = condition_label.tolist()\n",
        "orders = order_label.tolist()\n",
        "topics = ['art', 'education', 'environment', 'faith', 'health', 'human', 'international', 'pets', 'veteran']\n",
        "\n",
        "coords = {\n",
        "    \"conditions\": conditions,\n",
        "    \"topics\": topics,\n",
        "    \"orders\": orders\n",
        "}\n"
      ],
      "outputs": [],
      "execution_count": 66,
      "metadata": {
        "id": "de-niXw5es7-",
        "gather": {
          "logged": 1742624931343
        }
      }
    },
    {
      "cell_type": "code",
      "source": [
        "pair_diff_strength_model = pair_diff_strength_continuous_ordinal\n",
        "kernel = NUTS(pair_diff_strength_model, target_accept_prob=0.95)\n",
        "sample_kwargs = dict(\n",
        "    sampler=kernel,\n",
        "    num_warmup=500,\n",
        "    num_samples=2000,\n",
        "    num_chains=4,\n",
        "    chain_method=\"parallel\"\n",
        ")\n",
        "\n"
      ],
      "outputs": [],
      "execution_count": 67,
      "metadata": {
        "id": "jtPrXPSzlXkn",
        "gather": {
          "logged": 1742624931567
        }
      }
    },
    {
      "cell_type": "code",
      "source": [
        "rng_key = random.PRNGKey(0)\n",
        "all_mcmc = MCMC(**sample_kwargs)\n",
        "all_mcmc.run(rng_key, **fitting_data_dict)"
      ],
      "outputs": [
        {
          "output_type": "display_data",
          "data": {
            "text/plain": "  0%|          | 0/2500 [00:00<?, ?it/s]",
            "application/vnd.jupyter.widget-view+json": {
              "version_major": 2,
              "version_minor": 0,
              "model_id": "6df87090422e42329f23a9b9c4141dd9"
            }
          },
          "metadata": {}
        },
        {
          "output_type": "display_data",
          "data": {
            "text/plain": "  0%|          | 0/2500 [00:00<?, ?it/s]",
            "application/vnd.jupyter.widget-view+json": {
              "version_major": 2,
              "version_minor": 0,
              "model_id": "aae4ad990fc949869f667bd6f73767d4"
            }
          },
          "metadata": {}
        },
        {
          "output_type": "display_data",
          "data": {
            "text/plain": "  0%|          | 0/2500 [00:00<?, ?it/s]",
            "application/vnd.jupyter.widget-view+json": {
              "version_major": 2,
              "version_minor": 0,
              "model_id": "143d7697ed4c40a1b327e6a56f2ab47d"
            }
          },
          "metadata": {}
        },
        {
          "output_type": "display_data",
          "data": {
            "text/plain": "  0%|          | 0/2500 [00:00<?, ?it/s]",
            "application/vnd.jupyter.widget-view+json": {
              "version_major": 2,
              "version_minor": 0,
              "model_id": "d68e308c007848d8b9f1b98898fd35a1"
            }
          },
          "metadata": {}
        }
      ],
      "execution_count": 68,
      "metadata": {
        "id": "w4-GK70QWN7m",
        "colab": {
          "base_uri": "https://localhost:8080/",
          "height": 325,
          "referenced_widgets": [
            "eefa668f14cc4977a75ed3cb5da4ec1c",
            "961f31c324664e69b078cb43f2a3e21a",
            "1d960c8a05624ab3b21a8144863817c9",
            "61401a7816e344608e4bf27d69d7eb08",
            "c5253a84f01442d7a032027f49962738",
            "13544d4a4a444c058afd6410c9bf8766",
            "d75cb11df72f4b10af0576b7c4eabadb",
            "cfc6e991e5334303bd73cc5f37c43121",
            "7c7839f0177e4c9fb82e7ddae6991c0f",
            "0264dd2339654081b73c971e1d349698",
            "973ed0a3da4743728bb72cdd7f28c7b6",
            "8b1e90bb2eba4686b4903abf24a40129",
            "688e5c705f2d42c28e6ba8517be813f0",
            "a42a7ce0444d44c2b244c462c5039b72",
            "eaba34d8fdef4ea3bb7c74532905111f",
            "63c2d6848e614ce7af56a171bcb01568",
            "00dfe511c1e4407ba87ae3d3b9269fdd",
            "eab27a9aba7f4a26810626451ae5580a",
            "1c1cf4b764364335a213da6832eeafc2",
            "5fca987b8336459f9d0b277779596dd6",
            "72c1261a63a244eb84de058f9b48ab32",
            "e5b1050cde7141f6b91d6928d01c8a71",
            "22781087ce1948288a9b8297c09196f6",
            "c73864ec9d9545e4b866152b55168282",
            "6bd3cbc87b93432192ba8a15eeba7e74",
            "f865106994b7499489724b0fc40205e5",
            "382b70a4c9314806bad702c9c0d9d9d9",
            "7e9c0c99fb3a488dbf327145b737ab64",
            "12d5e3af5d00487aa61921a4b0ca5585",
            "02d1dc9b3e5b4feab636e61816f4d7e8",
            "7bffefb3a8b44e8b8a2f17c0d03da1e7",
            "a9cf1a7de6914e19a9de44f898a6805c",
            "0f4e1744851441ff986f4f7bbd871f36",
            "d1cfb1ab3d644093b7871fe72eb6fe7e",
            "a8db84f17ab342e3b60cc0eb7ccffd02",
            "79318ece1e79418aadf4f2ff481420b9",
            "8f2094d22c644911b6e36863fcb89c11",
            "a708956e164a4b108b81109785185079",
            "efffb4d3aff44447a83e03702870db77",
            "8f5724c3bae44464b353dc605e986106",
            "bb3195918d1a4d8b81b6f5edb7d18aa9",
            "fc580163cc6042288eb39639c6a5353e",
            "4f9556068e7b42b1a839b41c6ba15eb5",
            "9476709813484f088d58f2c7c0637e20"
          ]
        },
        "outputId": "73e4f3ff-50ac-45f4-a4c2-b2934c30c089",
        "gather": {
          "logged": 1742624938580
        }
      }
    },
    {
      "cell_type": "code",
      "source": [
        "prior = Predictive(all_mcmc.sampler.model, num_samples=1000)(random.PRNGKey(1), **predict_data_dict)"
      ],
      "outputs": [],
      "execution_count": 69,
      "metadata": {
        "gather": {
          "logged": 1742624943547
        }
      }
    },
    {
      "cell_type": "code",
      "source": [
        "posterior_samples = all_mcmc.get_samples()"
      ],
      "outputs": [],
      "execution_count": 70,
      "metadata": {
        "gather": {
          "logged": 1741573270610
        }
      }
    },
    {
      "cell_type": "code",
      "source": [
        "posterior_predictive = Predictive(all_mcmc.sampler.model, posterior_samples)(random.PRNGKey(2), **predict_data_dict)"
      ],
      "outputs": [],
      "execution_count": null,
      "metadata": {
        "colab": {
          "base_uri": "https://localhost:8080/"
        },
        "id": "wb_CEvgPlcbA",
        "outputId": "34e885da-b816-4eb6-b6a2-d59f92b99c82",
        "gather": {
          "logged": 1741573271639
        }
      }
    },
    {
      "cell_type": "code",
      "source": [
        "MODEL_PATH='.'\n",
        "MODEL_PATH + '/numpyro_intensity_ord_cont_model.trace'"
      ],
      "outputs": [],
      "execution_count": null,
      "metadata": {
        "gather": {
          "logged": 1741573272621
        }
      }
    },
    {
      "cell_type": "code",
      "source": [
        "model_data = az.from_numpyro(\n",
        "    posterior=all_mcmc,\n",
        "    prior=prior,\n",
        "    posterior_predictive=posterior_predictive,\n",
        "    coords=coords,\n",
        "    dims=dims,\n",
        ")\n",
        "# Save trace\n",
        "az.to_netcdf(data=model_data, filename=MODEL_PATH + '/numpyro_intensity_ord_cont_model.trace')"
      ],
      "outputs": [],
      "execution_count": null,
      "metadata": {
        "id": "rfX27be7lhWO",
        "gather": {
          "logged": 1741573578706
        }
      }
    },
    {
      "cell_type": "markdown",
      "source": [
        "##### Result"
      ],
      "metadata": {
        "id": "-JmVerLrc8kS"
      }
    },
    {
      "cell_type": "code",
      "source": [
        "model_data = az.from_netcdf('./numpyro_intensity_ord_cont_model.trace')"
      ],
      "outputs": [],
      "execution_count": 2,
      "metadata": {
        "id": "4j5NUgbuhfWp",
        "gather": {
          "logged": 1742667888542
        }
      }
    },
    {
      "cell_type": "code",
      "source": [
        "def plot_posterior_predictive_cumulative(data, xlabel):\n",
        "  axs = az.plot_ppc(data=data,\n",
        "              group='posterior',\n",
        "              kind='cumulative',\n",
        "              random_seed=5,\n",
        "              colors=[neutral_gray, base_color, accent_color])\n",
        "\n",
        "  z = axs\n",
        "  axs.set_title('Posterior Predictive', size=12)\n",
        "  z.set_xlabel(xlabel, fontsize=16)  # no individual labels\n",
        "  z.set_ylabel(\"Density\", fontsize=16)\n",
        "  z.xaxis.set_major_formatter(FormatStrFormatter('%.2f'))\n",
        "  z.yaxis.set_major_formatter(FormatStrFormatter('%.2f'))\n",
        "  z.spines['right'].set_visible(False)\n",
        "  z.spines['top'].set_visible(False)\n",
        "  z.spines['left'].set_visible(False)\n",
        "  z.spines['bottom'].set_visible(False)\n",
        "  z.spines['bottom'].set_position(('outward', 10))\n",
        "  z.xaxis.set_minor_locator(AutoMinorLocator(5))\n",
        "  z.set_xlim(left=-2, right=2)\n",
        "  z.tick_params(which='both', width=2)\n",
        "  z.tick_params(which='major', length=7)\n",
        "  z.tick_params(which='minor', length=4, color=neutral_gray)\n",
        "\n",
        "  # plt.subplots_adjust(hspace=0.75, wspace=0.1)\n",
        "  # filename = 'plots/' +Title + '.pdf'\n",
        "  # plt.savefig(filename, transparent=False)\n",
        "  plt.show()\n",
        "  # rc('text', usetex=False)\n",
        "\n",
        "\n",
        "plot_posterior_predictive_cumulative(model_data, 'Normalized Donation Difference')"
      ],
      "outputs": [
        {
          "output_type": "stream",
          "name": "stderr",
          "text": "UserWarning: Creating legend with loc=\"best\" can be slow with large amounts of data.\nException ignored in: <bound method IPythonKernel._clean_thread_parent_frames of <ipykernel.ipkernel.IPythonKernel object at 0x7fe8eeac6020>>\nTraceback (most recent call last):\n  File \"/anaconda/envs/jupyter_env/lib/python3.10/site-packages/ipykernel/ipkernel.py\", line 775, in _clean_thread_parent_frames\n    def _clean_thread_parent_frames(\nKeyboardInterrupt: \n"
        },
        {
          "output_type": "error",
          "ename": "KeyboardInterrupt",
          "evalue": "",
          "traceback": [
            "\u001b[0;31m---------------------------------------------------------------------------\u001b[0m",
            "\u001b[0;31mKeyboardInterrupt\u001b[0m                         Traceback (most recent call last)",
            "Cell \u001b[0;32mIn[6], line 32\u001b[0m\n\u001b[1;32m     28\u001b[0m   plt\u001b[38;5;241m.\u001b[39mshow()\n\u001b[1;32m     29\u001b[0m   \u001b[38;5;66;03m# rc('text', usetex=False)\u001b[39;00m\n\u001b[0;32m---> 32\u001b[0m \u001b[43mplot_posterior_predictive_cumulative\u001b[49m\u001b[43m(\u001b[49m\u001b[43mmodel_data\u001b[49m\u001b[43m,\u001b[49m\u001b[43m \u001b[49m\u001b[38;5;124;43m'\u001b[39;49m\u001b[38;5;124;43mNormalized Donation Difference\u001b[39;49m\u001b[38;5;124;43m'\u001b[39;49m\u001b[43m)\u001b[49m\n",
            "Cell \u001b[0;32mIn[6], line 28\u001b[0m, in \u001b[0;36mplot_posterior_predictive_cumulative\u001b[0;34m(data, xlabel)\u001b[0m\n\u001b[1;32m     23\u001b[0m z\u001b[38;5;241m.\u001b[39mtick_params(which\u001b[38;5;241m=\u001b[39m\u001b[38;5;124m'\u001b[39m\u001b[38;5;124mminor\u001b[39m\u001b[38;5;124m'\u001b[39m, length\u001b[38;5;241m=\u001b[39m\u001b[38;5;241m4\u001b[39m, color\u001b[38;5;241m=\u001b[39mneutral_gray)\n\u001b[1;32m     25\u001b[0m \u001b[38;5;66;03m# plt.subplots_adjust(hspace=0.75, wspace=0.1)\u001b[39;00m\n\u001b[1;32m     26\u001b[0m \u001b[38;5;66;03m# filename = 'plots/' +Title + '.pdf'\u001b[39;00m\n\u001b[1;32m     27\u001b[0m \u001b[38;5;66;03m# plt.savefig(filename, transparent=False)\u001b[39;00m\n\u001b[0;32m---> 28\u001b[0m \u001b[43mplt\u001b[49m\u001b[38;5;241;43m.\u001b[39;49m\u001b[43mshow\u001b[49m\u001b[43m(\u001b[49m\u001b[43m)\u001b[49m\n",
            "File \u001b[0;32m/anaconda/envs/jupyter_env/lib/python3.10/site-packages/matplotlib/pyplot.py:614\u001b[0m, in \u001b[0;36mshow\u001b[0;34m(*args, **kwargs)\u001b[0m\n\u001b[1;32m    570\u001b[0m \u001b[38;5;250m\u001b[39m\u001b[38;5;124;03m\"\"\"\u001b[39;00m\n\u001b[1;32m    571\u001b[0m \u001b[38;5;124;03mDisplay all open figures.\u001b[39;00m\n\u001b[1;32m    572\u001b[0m \n\u001b[0;32m   (...)\u001b[0m\n\u001b[1;32m    611\u001b[0m \u001b[38;5;124;03mexplicitly there.\u001b[39;00m\n\u001b[1;32m    612\u001b[0m \u001b[38;5;124;03m\"\"\"\u001b[39;00m\n\u001b[1;32m    613\u001b[0m _warn_if_gui_out_of_main_thread()\n\u001b[0;32m--> 614\u001b[0m \u001b[38;5;28;01mreturn\u001b[39;00m \u001b[43m_get_backend_mod\u001b[49m\u001b[43m(\u001b[49m\u001b[43m)\u001b[49m\u001b[38;5;241;43m.\u001b[39;49m\u001b[43mshow\u001b[49m\u001b[43m(\u001b[49m\u001b[38;5;241;43m*\u001b[39;49m\u001b[43margs\u001b[49m\u001b[43m,\u001b[49m\u001b[43m \u001b[49m\u001b[38;5;241;43m*\u001b[39;49m\u001b[38;5;241;43m*\u001b[39;49m\u001b[43mkwargs\u001b[49m\u001b[43m)\u001b[49m\n",
            "File \u001b[0;32m/anaconda/envs/jupyter_env/lib/python3.10/site-packages/matplotlib_inline/backend_inline.py:90\u001b[0m, in \u001b[0;36mshow\u001b[0;34m(close, block)\u001b[0m\n\u001b[1;32m     88\u001b[0m \u001b[38;5;28;01mtry\u001b[39;00m:\n\u001b[1;32m     89\u001b[0m     \u001b[38;5;28;01mfor\u001b[39;00m figure_manager \u001b[38;5;129;01min\u001b[39;00m Gcf\u001b[38;5;241m.\u001b[39mget_all_fig_managers():\n\u001b[0;32m---> 90\u001b[0m         \u001b[43mdisplay\u001b[49m\u001b[43m(\u001b[49m\n\u001b[1;32m     91\u001b[0m \u001b[43m            \u001b[49m\u001b[43mfigure_manager\u001b[49m\u001b[38;5;241;43m.\u001b[39;49m\u001b[43mcanvas\u001b[49m\u001b[38;5;241;43m.\u001b[39;49m\u001b[43mfigure\u001b[49m\u001b[43m,\u001b[49m\n\u001b[1;32m     92\u001b[0m \u001b[43m            \u001b[49m\u001b[43mmetadata\u001b[49m\u001b[38;5;241;43m=\u001b[39;49m\u001b[43m_fetch_figure_metadata\u001b[49m\u001b[43m(\u001b[49m\u001b[43mfigure_manager\u001b[49m\u001b[38;5;241;43m.\u001b[39;49m\u001b[43mcanvas\u001b[49m\u001b[38;5;241;43m.\u001b[39;49m\u001b[43mfigure\u001b[49m\u001b[43m)\u001b[49m\n\u001b[1;32m     93\u001b[0m \u001b[43m        \u001b[49m\u001b[43m)\u001b[49m\n\u001b[1;32m     94\u001b[0m \u001b[38;5;28;01mfinally\u001b[39;00m:\n\u001b[1;32m     95\u001b[0m     show\u001b[38;5;241m.\u001b[39m_to_draw \u001b[38;5;241m=\u001b[39m []\n",
            "File \u001b[0;32m/anaconda/envs/jupyter_env/lib/python3.10/site-packages/IPython/core/display_functions.py:298\u001b[0m, in \u001b[0;36mdisplay\u001b[0;34m(include, exclude, metadata, transient, display_id, raw, clear, *objs, **kwargs)\u001b[0m\n\u001b[1;32m    296\u001b[0m     publish_display_data(data\u001b[38;5;241m=\u001b[39mobj, metadata\u001b[38;5;241m=\u001b[39mmetadata, \u001b[38;5;241m*\u001b[39m\u001b[38;5;241m*\u001b[39mkwargs)\n\u001b[1;32m    297\u001b[0m \u001b[38;5;28;01melse\u001b[39;00m:\n\u001b[0;32m--> 298\u001b[0m     format_dict, md_dict \u001b[38;5;241m=\u001b[39m \u001b[38;5;28;43mformat\u001b[39;49m\u001b[43m(\u001b[49m\u001b[43mobj\u001b[49m\u001b[43m,\u001b[49m\u001b[43m \u001b[49m\u001b[43minclude\u001b[49m\u001b[38;5;241;43m=\u001b[39;49m\u001b[43minclude\u001b[49m\u001b[43m,\u001b[49m\u001b[43m \u001b[49m\u001b[43mexclude\u001b[49m\u001b[38;5;241;43m=\u001b[39;49m\u001b[43mexclude\u001b[49m\u001b[43m)\u001b[49m\n\u001b[1;32m    299\u001b[0m     \u001b[38;5;28;01mif\u001b[39;00m \u001b[38;5;129;01mnot\u001b[39;00m format_dict:\n\u001b[1;32m    300\u001b[0m         \u001b[38;5;66;03m# nothing to display (e.g. _ipython_display_ took over)\u001b[39;00m\n\u001b[1;32m    301\u001b[0m         \u001b[38;5;28;01mcontinue\u001b[39;00m\n",
            "File \u001b[0;32m/anaconda/envs/jupyter_env/lib/python3.10/site-packages/IPython/core/formatters.py:182\u001b[0m, in \u001b[0;36mDisplayFormatter.format\u001b[0;34m(self, obj, include, exclude)\u001b[0m\n\u001b[1;32m    180\u001b[0m md \u001b[38;5;241m=\u001b[39m \u001b[38;5;28;01mNone\u001b[39;00m\n\u001b[1;32m    181\u001b[0m \u001b[38;5;28;01mtry\u001b[39;00m:\n\u001b[0;32m--> 182\u001b[0m     data \u001b[38;5;241m=\u001b[39m \u001b[43mformatter\u001b[49m\u001b[43m(\u001b[49m\u001b[43mobj\u001b[49m\u001b[43m)\u001b[49m\n\u001b[1;32m    183\u001b[0m \u001b[38;5;28;01mexcept\u001b[39;00m:\n\u001b[1;32m    184\u001b[0m     \u001b[38;5;66;03m# FIXME: log the exception\u001b[39;00m\n\u001b[1;32m    185\u001b[0m     \u001b[38;5;28;01mraise\u001b[39;00m\n",
            "File \u001b[0;32m/anaconda/envs/jupyter_env/lib/python3.10/site-packages/decorator.py:232\u001b[0m, in \u001b[0;36mdecorate.<locals>.fun\u001b[0;34m(*args, **kw)\u001b[0m\n\u001b[1;32m    230\u001b[0m \u001b[38;5;28;01mif\u001b[39;00m \u001b[38;5;129;01mnot\u001b[39;00m kwsyntax:\n\u001b[1;32m    231\u001b[0m     args, kw \u001b[38;5;241m=\u001b[39m fix(args, kw, sig)\n\u001b[0;32m--> 232\u001b[0m \u001b[38;5;28;01mreturn\u001b[39;00m \u001b[43mcaller\u001b[49m\u001b[43m(\u001b[49m\u001b[43mfunc\u001b[49m\u001b[43m,\u001b[49m\u001b[43m \u001b[49m\u001b[38;5;241;43m*\u001b[39;49m\u001b[43m(\u001b[49m\u001b[43mextras\u001b[49m\u001b[43m \u001b[49m\u001b[38;5;241;43m+\u001b[39;49m\u001b[43m \u001b[49m\u001b[43margs\u001b[49m\u001b[43m)\u001b[49m\u001b[43m,\u001b[49m\u001b[43m \u001b[49m\u001b[38;5;241;43m*\u001b[39;49m\u001b[38;5;241;43m*\u001b[39;49m\u001b[43mkw\u001b[49m\u001b[43m)\u001b[49m\n",
            "File \u001b[0;32m/anaconda/envs/jupyter_env/lib/python3.10/site-packages/IPython/core/formatters.py:226\u001b[0m, in \u001b[0;36mcatch_format_error\u001b[0;34m(method, self, *args, **kwargs)\u001b[0m\n\u001b[1;32m    224\u001b[0m \u001b[38;5;250m\u001b[39m\u001b[38;5;124;03m\"\"\"show traceback on failed format call\"\"\"\u001b[39;00m\n\u001b[1;32m    225\u001b[0m \u001b[38;5;28;01mtry\u001b[39;00m:\n\u001b[0;32m--> 226\u001b[0m     r \u001b[38;5;241m=\u001b[39m \u001b[43mmethod\u001b[49m\u001b[43m(\u001b[49m\u001b[38;5;28;43mself\u001b[39;49m\u001b[43m,\u001b[49m\u001b[43m \u001b[49m\u001b[38;5;241;43m*\u001b[39;49m\u001b[43margs\u001b[49m\u001b[43m,\u001b[49m\u001b[43m \u001b[49m\u001b[38;5;241;43m*\u001b[39;49m\u001b[38;5;241;43m*\u001b[39;49m\u001b[43mkwargs\u001b[49m\u001b[43m)\u001b[49m\n\u001b[1;32m    227\u001b[0m \u001b[38;5;28;01mexcept\u001b[39;00m \u001b[38;5;167;01mNotImplementedError\u001b[39;00m:\n\u001b[1;32m    228\u001b[0m     \u001b[38;5;66;03m# don't warn on NotImplementedErrors\u001b[39;00m\n\u001b[1;32m    229\u001b[0m     \u001b[38;5;28;01mreturn\u001b[39;00m \u001b[38;5;28mself\u001b[39m\u001b[38;5;241m.\u001b[39m_check_return(\u001b[38;5;28;01mNone\u001b[39;00m, args[\u001b[38;5;241m0\u001b[39m])\n",
            "File \u001b[0;32m/anaconda/envs/jupyter_env/lib/python3.10/site-packages/IPython/core/formatters.py:343\u001b[0m, in \u001b[0;36mBaseFormatter.__call__\u001b[0;34m(self, obj)\u001b[0m\n\u001b[1;32m    341\u001b[0m     \u001b[38;5;28;01mpass\u001b[39;00m\n\u001b[1;32m    342\u001b[0m \u001b[38;5;28;01melse\u001b[39;00m:\n\u001b[0;32m--> 343\u001b[0m     \u001b[38;5;28;01mreturn\u001b[39;00m \u001b[43mprinter\u001b[49m\u001b[43m(\u001b[49m\u001b[43mobj\u001b[49m\u001b[43m)\u001b[49m\n\u001b[1;32m    344\u001b[0m \u001b[38;5;66;03m# Finally look for special method names\u001b[39;00m\n\u001b[1;32m    345\u001b[0m method \u001b[38;5;241m=\u001b[39m get_real_method(obj, \u001b[38;5;28mself\u001b[39m\u001b[38;5;241m.\u001b[39mprint_method)\n",
            "File \u001b[0;32m/anaconda/envs/jupyter_env/lib/python3.10/site-packages/IPython/core/pylabtools.py:187\u001b[0m, in \u001b[0;36mretina_figure\u001b[0;34m(fig, base64, **kwargs)\u001b[0m\n\u001b[1;32m    178\u001b[0m \u001b[38;5;28;01mdef\u001b[39;00m \u001b[38;5;21mretina_figure\u001b[39m(fig, base64\u001b[38;5;241m=\u001b[39m\u001b[38;5;28;01mFalse\u001b[39;00m, \u001b[38;5;241m*\u001b[39m\u001b[38;5;241m*\u001b[39mkwargs):\n\u001b[1;32m    179\u001b[0m \u001b[38;5;250m    \u001b[39m\u001b[38;5;124;03m\"\"\"format a figure as a pixel-doubled (retina) PNG\u001b[39;00m\n\u001b[1;32m    180\u001b[0m \n\u001b[1;32m    181\u001b[0m \u001b[38;5;124;03m    If `base64` is True, return base64-encoded str instead of raw bytes\u001b[39;00m\n\u001b[0;32m   (...)\u001b[0m\n\u001b[1;32m    185\u001b[0m \u001b[38;5;124;03m        base64 argument\u001b[39;00m\n\u001b[1;32m    186\u001b[0m \u001b[38;5;124;03m    \"\"\"\u001b[39;00m\n\u001b[0;32m--> 187\u001b[0m     pngdata \u001b[38;5;241m=\u001b[39m \u001b[43mprint_figure\u001b[49m\u001b[43m(\u001b[49m\u001b[43mfig\u001b[49m\u001b[43m,\u001b[49m\u001b[43m \u001b[49m\u001b[43mfmt\u001b[49m\u001b[38;5;241;43m=\u001b[39;49m\u001b[38;5;124;43m\"\u001b[39;49m\u001b[38;5;124;43mretina\u001b[39;49m\u001b[38;5;124;43m\"\u001b[39;49m\u001b[43m,\u001b[49m\u001b[43m \u001b[49m\u001b[43mbase64\u001b[49m\u001b[38;5;241;43m=\u001b[39;49m\u001b[38;5;28;43;01mFalse\u001b[39;49;00m\u001b[43m,\u001b[49m\u001b[43m \u001b[49m\u001b[38;5;241;43m*\u001b[39;49m\u001b[38;5;241;43m*\u001b[39;49m\u001b[43mkwargs\u001b[49m\u001b[43m)\u001b[49m\n\u001b[1;32m    188\u001b[0m     \u001b[38;5;66;03m# Make sure that retina_figure acts just like print_figure and returns\u001b[39;00m\n\u001b[1;32m    189\u001b[0m     \u001b[38;5;66;03m# None when the figure is empty.\u001b[39;00m\n\u001b[1;32m    190\u001b[0m     \u001b[38;5;28;01mif\u001b[39;00m pngdata \u001b[38;5;129;01mis\u001b[39;00m \u001b[38;5;28;01mNone\u001b[39;00m:\n",
            "File \u001b[0;32m/anaconda/envs/jupyter_env/lib/python3.10/site-packages/IPython/core/pylabtools.py:170\u001b[0m, in \u001b[0;36mprint_figure\u001b[0;34m(fig, fmt, bbox_inches, base64, **kwargs)\u001b[0m\n\u001b[1;32m    167\u001b[0m     \u001b[38;5;28;01mfrom\u001b[39;00m \u001b[38;5;21;01mmatplotlib\u001b[39;00m\u001b[38;5;21;01m.\u001b[39;00m\u001b[38;5;21;01mbackend_bases\u001b[39;00m \u001b[38;5;28;01mimport\u001b[39;00m FigureCanvasBase\n\u001b[1;32m    168\u001b[0m     FigureCanvasBase(fig)\n\u001b[0;32m--> 170\u001b[0m \u001b[43mfig\u001b[49m\u001b[38;5;241;43m.\u001b[39;49m\u001b[43mcanvas\u001b[49m\u001b[38;5;241;43m.\u001b[39;49m\u001b[43mprint_figure\u001b[49m\u001b[43m(\u001b[49m\u001b[43mbytes_io\u001b[49m\u001b[43m,\u001b[49m\u001b[43m \u001b[49m\u001b[38;5;241;43m*\u001b[39;49m\u001b[38;5;241;43m*\u001b[39;49m\u001b[43mkw\u001b[49m\u001b[43m)\u001b[49m\n\u001b[1;32m    171\u001b[0m data \u001b[38;5;241m=\u001b[39m bytes_io\u001b[38;5;241m.\u001b[39mgetvalue()\n\u001b[1;32m    172\u001b[0m \u001b[38;5;28;01mif\u001b[39;00m fmt \u001b[38;5;241m==\u001b[39m \u001b[38;5;124m'\u001b[39m\u001b[38;5;124msvg\u001b[39m\u001b[38;5;124m'\u001b[39m:\n",
            "File \u001b[0;32m/anaconda/envs/jupyter_env/lib/python3.10/site-packages/matplotlib/backend_bases.py:2155\u001b[0m, in \u001b[0;36mFigureCanvasBase.print_figure\u001b[0;34m(self, filename, dpi, facecolor, edgecolor, orientation, format, bbox_inches, pad_inches, bbox_extra_artists, backend, **kwargs)\u001b[0m\n\u001b[1;32m   2152\u001b[0m     \u001b[38;5;66;03m# we do this instead of `self.figure.draw_without_rendering`\u001b[39;00m\n\u001b[1;32m   2153\u001b[0m     \u001b[38;5;66;03m# so that we can inject the orientation\u001b[39;00m\n\u001b[1;32m   2154\u001b[0m     \u001b[38;5;28;01mwith\u001b[39;00m \u001b[38;5;28mgetattr\u001b[39m(renderer, \u001b[38;5;124m\"\u001b[39m\u001b[38;5;124m_draw_disabled\u001b[39m\u001b[38;5;124m\"\u001b[39m, nullcontext)():\n\u001b[0;32m-> 2155\u001b[0m         \u001b[38;5;28;43mself\u001b[39;49m\u001b[38;5;241;43m.\u001b[39;49m\u001b[43mfigure\u001b[49m\u001b[38;5;241;43m.\u001b[39;49m\u001b[43mdraw\u001b[49m\u001b[43m(\u001b[49m\u001b[43mrenderer\u001b[49m\u001b[43m)\u001b[49m\n\u001b[1;32m   2156\u001b[0m \u001b[38;5;28;01mif\u001b[39;00m bbox_inches:\n\u001b[1;32m   2157\u001b[0m     \u001b[38;5;28;01mif\u001b[39;00m bbox_inches \u001b[38;5;241m==\u001b[39m \u001b[38;5;124m\"\u001b[39m\u001b[38;5;124mtight\u001b[39m\u001b[38;5;124m\"\u001b[39m:\n",
            "File \u001b[0;32m/anaconda/envs/jupyter_env/lib/python3.10/site-packages/matplotlib/artist.py:94\u001b[0m, in \u001b[0;36m_finalize_rasterization.<locals>.draw_wrapper\u001b[0;34m(artist, renderer, *args, **kwargs)\u001b[0m\n\u001b[1;32m     92\u001b[0m \u001b[38;5;129m@wraps\u001b[39m(draw)\n\u001b[1;32m     93\u001b[0m \u001b[38;5;28;01mdef\u001b[39;00m \u001b[38;5;21mdraw_wrapper\u001b[39m(artist, renderer, \u001b[38;5;241m*\u001b[39margs, \u001b[38;5;241m*\u001b[39m\u001b[38;5;241m*\u001b[39mkwargs):\n\u001b[0;32m---> 94\u001b[0m     result \u001b[38;5;241m=\u001b[39m \u001b[43mdraw\u001b[49m\u001b[43m(\u001b[49m\u001b[43martist\u001b[49m\u001b[43m,\u001b[49m\u001b[43m \u001b[49m\u001b[43mrenderer\u001b[49m\u001b[43m,\u001b[49m\u001b[43m \u001b[49m\u001b[38;5;241;43m*\u001b[39;49m\u001b[43margs\u001b[49m\u001b[43m,\u001b[49m\u001b[43m \u001b[49m\u001b[38;5;241;43m*\u001b[39;49m\u001b[38;5;241;43m*\u001b[39;49m\u001b[43mkwargs\u001b[49m\u001b[43m)\u001b[49m\n\u001b[1;32m     95\u001b[0m     \u001b[38;5;28;01mif\u001b[39;00m renderer\u001b[38;5;241m.\u001b[39m_rasterizing:\n\u001b[1;32m     96\u001b[0m         renderer\u001b[38;5;241m.\u001b[39mstop_rasterizing()\n",
            "File \u001b[0;32m/anaconda/envs/jupyter_env/lib/python3.10/site-packages/matplotlib/artist.py:71\u001b[0m, in \u001b[0;36mallow_rasterization.<locals>.draw_wrapper\u001b[0;34m(artist, renderer)\u001b[0m\n\u001b[1;32m     68\u001b[0m     \u001b[38;5;28;01mif\u001b[39;00m artist\u001b[38;5;241m.\u001b[39mget_agg_filter() \u001b[38;5;129;01mis\u001b[39;00m \u001b[38;5;129;01mnot\u001b[39;00m \u001b[38;5;28;01mNone\u001b[39;00m:\n\u001b[1;32m     69\u001b[0m         renderer\u001b[38;5;241m.\u001b[39mstart_filter()\n\u001b[0;32m---> 71\u001b[0m     \u001b[38;5;28;01mreturn\u001b[39;00m \u001b[43mdraw\u001b[49m\u001b[43m(\u001b[49m\u001b[43martist\u001b[49m\u001b[43m,\u001b[49m\u001b[43m \u001b[49m\u001b[43mrenderer\u001b[49m\u001b[43m)\u001b[49m\n\u001b[1;32m     72\u001b[0m \u001b[38;5;28;01mfinally\u001b[39;00m:\n\u001b[1;32m     73\u001b[0m     \u001b[38;5;28;01mif\u001b[39;00m artist\u001b[38;5;241m.\u001b[39mget_agg_filter() \u001b[38;5;129;01mis\u001b[39;00m \u001b[38;5;129;01mnot\u001b[39;00m \u001b[38;5;28;01mNone\u001b[39;00m:\n",
            "File \u001b[0;32m/anaconda/envs/jupyter_env/lib/python3.10/site-packages/matplotlib/figure.py:3257\u001b[0m, in \u001b[0;36mFigure.draw\u001b[0;34m(self, renderer)\u001b[0m\n\u001b[1;32m   3254\u001b[0m             \u001b[38;5;66;03m# ValueError can occur when resizing a window.\u001b[39;00m\n\u001b[1;32m   3256\u001b[0m     \u001b[38;5;28mself\u001b[39m\u001b[38;5;241m.\u001b[39mpatch\u001b[38;5;241m.\u001b[39mdraw(renderer)\n\u001b[0;32m-> 3257\u001b[0m     \u001b[43mmimage\u001b[49m\u001b[38;5;241;43m.\u001b[39;49m\u001b[43m_draw_list_compositing_images\u001b[49m\u001b[43m(\u001b[49m\n\u001b[1;32m   3258\u001b[0m \u001b[43m        \u001b[49m\u001b[43mrenderer\u001b[49m\u001b[43m,\u001b[49m\u001b[43m \u001b[49m\u001b[38;5;28;43mself\u001b[39;49m\u001b[43m,\u001b[49m\u001b[43m \u001b[49m\u001b[43martists\u001b[49m\u001b[43m,\u001b[49m\u001b[43m \u001b[49m\u001b[38;5;28;43mself\u001b[39;49m\u001b[38;5;241;43m.\u001b[39;49m\u001b[43msuppressComposite\u001b[49m\u001b[43m)\u001b[49m\n\u001b[1;32m   3260\u001b[0m     renderer\u001b[38;5;241m.\u001b[39mclose_group(\u001b[38;5;124m'\u001b[39m\u001b[38;5;124mfigure\u001b[39m\u001b[38;5;124m'\u001b[39m)\n\u001b[1;32m   3261\u001b[0m \u001b[38;5;28;01mfinally\u001b[39;00m:\n",
            "File \u001b[0;32m/anaconda/envs/jupyter_env/lib/python3.10/site-packages/matplotlib/image.py:134\u001b[0m, in \u001b[0;36m_draw_list_compositing_images\u001b[0;34m(renderer, parent, artists, suppress_composite)\u001b[0m\n\u001b[1;32m    132\u001b[0m \u001b[38;5;28;01mif\u001b[39;00m not_composite \u001b[38;5;129;01mor\u001b[39;00m \u001b[38;5;129;01mnot\u001b[39;00m has_images:\n\u001b[1;32m    133\u001b[0m     \u001b[38;5;28;01mfor\u001b[39;00m a \u001b[38;5;129;01min\u001b[39;00m artists:\n\u001b[0;32m--> 134\u001b[0m         \u001b[43ma\u001b[49m\u001b[38;5;241;43m.\u001b[39;49m\u001b[43mdraw\u001b[49m\u001b[43m(\u001b[49m\u001b[43mrenderer\u001b[49m\u001b[43m)\u001b[49m\n\u001b[1;32m    135\u001b[0m \u001b[38;5;28;01melse\u001b[39;00m:\n\u001b[1;32m    136\u001b[0m     \u001b[38;5;66;03m# Composite any adjacent images together\u001b[39;00m\n\u001b[1;32m    137\u001b[0m     image_group \u001b[38;5;241m=\u001b[39m []\n",
            "File \u001b[0;32m/anaconda/envs/jupyter_env/lib/python3.10/site-packages/matplotlib/artist.py:71\u001b[0m, in \u001b[0;36mallow_rasterization.<locals>.draw_wrapper\u001b[0;34m(artist, renderer)\u001b[0m\n\u001b[1;32m     68\u001b[0m     \u001b[38;5;28;01mif\u001b[39;00m artist\u001b[38;5;241m.\u001b[39mget_agg_filter() \u001b[38;5;129;01mis\u001b[39;00m \u001b[38;5;129;01mnot\u001b[39;00m \u001b[38;5;28;01mNone\u001b[39;00m:\n\u001b[1;32m     69\u001b[0m         renderer\u001b[38;5;241m.\u001b[39mstart_filter()\n\u001b[0;32m---> 71\u001b[0m     \u001b[38;5;28;01mreturn\u001b[39;00m \u001b[43mdraw\u001b[49m\u001b[43m(\u001b[49m\u001b[43martist\u001b[49m\u001b[43m,\u001b[49m\u001b[43m \u001b[49m\u001b[43mrenderer\u001b[49m\u001b[43m)\u001b[49m\n\u001b[1;32m     72\u001b[0m \u001b[38;5;28;01mfinally\u001b[39;00m:\n\u001b[1;32m     73\u001b[0m     \u001b[38;5;28;01mif\u001b[39;00m artist\u001b[38;5;241m.\u001b[39mget_agg_filter() \u001b[38;5;129;01mis\u001b[39;00m \u001b[38;5;129;01mnot\u001b[39;00m \u001b[38;5;28;01mNone\u001b[39;00m:\n",
            "File \u001b[0;32m/anaconda/envs/jupyter_env/lib/python3.10/site-packages/matplotlib/axes/_base.py:3210\u001b[0m, in \u001b[0;36m_AxesBase.draw\u001b[0;34m(self, renderer)\u001b[0m\n\u001b[1;32m   3207\u001b[0m \u001b[38;5;28;01mif\u001b[39;00m artists_rasterized:\n\u001b[1;32m   3208\u001b[0m     _draw_rasterized(\u001b[38;5;28mself\u001b[39m\u001b[38;5;241m.\u001b[39mget_figure(root\u001b[38;5;241m=\u001b[39m\u001b[38;5;28;01mTrue\u001b[39;00m), artists_rasterized, renderer)\n\u001b[0;32m-> 3210\u001b[0m \u001b[43mmimage\u001b[49m\u001b[38;5;241;43m.\u001b[39;49m\u001b[43m_draw_list_compositing_images\u001b[49m\u001b[43m(\u001b[49m\n\u001b[1;32m   3211\u001b[0m \u001b[43m    \u001b[49m\u001b[43mrenderer\u001b[49m\u001b[43m,\u001b[49m\u001b[43m \u001b[49m\u001b[38;5;28;43mself\u001b[39;49m\u001b[43m,\u001b[49m\u001b[43m \u001b[49m\u001b[43martists\u001b[49m\u001b[43m,\u001b[49m\u001b[43m \u001b[49m\u001b[38;5;28;43mself\u001b[39;49m\u001b[38;5;241;43m.\u001b[39;49m\u001b[43mget_figure\u001b[49m\u001b[43m(\u001b[49m\u001b[43mroot\u001b[49m\u001b[38;5;241;43m=\u001b[39;49m\u001b[38;5;28;43;01mTrue\u001b[39;49;00m\u001b[43m)\u001b[49m\u001b[38;5;241;43m.\u001b[39;49m\u001b[43msuppressComposite\u001b[49m\u001b[43m)\u001b[49m\n\u001b[1;32m   3213\u001b[0m renderer\u001b[38;5;241m.\u001b[39mclose_group(\u001b[38;5;124m'\u001b[39m\u001b[38;5;124maxes\u001b[39m\u001b[38;5;124m'\u001b[39m)\n\u001b[1;32m   3214\u001b[0m \u001b[38;5;28mself\u001b[39m\u001b[38;5;241m.\u001b[39mstale \u001b[38;5;241m=\u001b[39m \u001b[38;5;28;01mFalse\u001b[39;00m\n",
            "File \u001b[0;32m/anaconda/envs/jupyter_env/lib/python3.10/site-packages/matplotlib/image.py:134\u001b[0m, in \u001b[0;36m_draw_list_compositing_images\u001b[0;34m(renderer, parent, artists, suppress_composite)\u001b[0m\n\u001b[1;32m    132\u001b[0m \u001b[38;5;28;01mif\u001b[39;00m not_composite \u001b[38;5;129;01mor\u001b[39;00m \u001b[38;5;129;01mnot\u001b[39;00m has_images:\n\u001b[1;32m    133\u001b[0m     \u001b[38;5;28;01mfor\u001b[39;00m a \u001b[38;5;129;01min\u001b[39;00m artists:\n\u001b[0;32m--> 134\u001b[0m         \u001b[43ma\u001b[49m\u001b[38;5;241;43m.\u001b[39;49m\u001b[43mdraw\u001b[49m\u001b[43m(\u001b[49m\u001b[43mrenderer\u001b[49m\u001b[43m)\u001b[49m\n\u001b[1;32m    135\u001b[0m \u001b[38;5;28;01melse\u001b[39;00m:\n\u001b[1;32m    136\u001b[0m     \u001b[38;5;66;03m# Composite any adjacent images together\u001b[39;00m\n\u001b[1;32m    137\u001b[0m     image_group \u001b[38;5;241m=\u001b[39m []\n",
            "File \u001b[0;32m/anaconda/envs/jupyter_env/lib/python3.10/site-packages/matplotlib/artist.py:71\u001b[0m, in \u001b[0;36mallow_rasterization.<locals>.draw_wrapper\u001b[0;34m(artist, renderer)\u001b[0m\n\u001b[1;32m     68\u001b[0m     \u001b[38;5;28;01mif\u001b[39;00m artist\u001b[38;5;241m.\u001b[39mget_agg_filter() \u001b[38;5;129;01mis\u001b[39;00m \u001b[38;5;129;01mnot\u001b[39;00m \u001b[38;5;28;01mNone\u001b[39;00m:\n\u001b[1;32m     69\u001b[0m         renderer\u001b[38;5;241m.\u001b[39mstart_filter()\n\u001b[0;32m---> 71\u001b[0m     \u001b[38;5;28;01mreturn\u001b[39;00m \u001b[43mdraw\u001b[49m\u001b[43m(\u001b[49m\u001b[43martist\u001b[49m\u001b[43m,\u001b[49m\u001b[43m \u001b[49m\u001b[43mrenderer\u001b[49m\u001b[43m)\u001b[49m\n\u001b[1;32m     72\u001b[0m \u001b[38;5;28;01mfinally\u001b[39;00m:\n\u001b[1;32m     73\u001b[0m     \u001b[38;5;28;01mif\u001b[39;00m artist\u001b[38;5;241m.\u001b[39mget_agg_filter() \u001b[38;5;129;01mis\u001b[39;00m \u001b[38;5;129;01mnot\u001b[39;00m \u001b[38;5;28;01mNone\u001b[39;00m:\n",
            "File \u001b[0;32m/anaconda/envs/jupyter_env/lib/python3.10/site-packages/matplotlib/legend.py:763\u001b[0m, in \u001b[0;36mLegend.draw\u001b[0;34m(self, renderer)\u001b[0m\n\u001b[1;32m    760\u001b[0m     Shadow(\u001b[38;5;28mself\u001b[39m\u001b[38;5;241m.\u001b[39mlegendPatch, \u001b[38;5;241m*\u001b[39m\u001b[38;5;241m*\u001b[39m\u001b[38;5;28mself\u001b[39m\u001b[38;5;241m.\u001b[39m_shadow_props)\u001b[38;5;241m.\u001b[39mdraw(renderer)\n\u001b[1;32m    762\u001b[0m \u001b[38;5;28mself\u001b[39m\u001b[38;5;241m.\u001b[39mlegendPatch\u001b[38;5;241m.\u001b[39mdraw(renderer)\n\u001b[0;32m--> 763\u001b[0m \u001b[38;5;28;43mself\u001b[39;49m\u001b[38;5;241;43m.\u001b[39;49m\u001b[43m_legend_box\u001b[49m\u001b[38;5;241;43m.\u001b[39;49m\u001b[43mdraw\u001b[49m\u001b[43m(\u001b[49m\u001b[43mrenderer\u001b[49m\u001b[43m)\u001b[49m\n\u001b[1;32m    765\u001b[0m renderer\u001b[38;5;241m.\u001b[39mclose_group(\u001b[38;5;124m'\u001b[39m\u001b[38;5;124mlegend\u001b[39m\u001b[38;5;124m'\u001b[39m)\n\u001b[1;32m    766\u001b[0m \u001b[38;5;28mself\u001b[39m\u001b[38;5;241m.\u001b[39mstale \u001b[38;5;241m=\u001b[39m \u001b[38;5;28;01mFalse\u001b[39;00m\n",
            "File \u001b[0;32m/anaconda/envs/jupyter_env/lib/python3.10/site-packages/matplotlib/artist.py:38\u001b[0m, in \u001b[0;36m_prevent_rasterization.<locals>.draw_wrapper\u001b[0;34m(artist, renderer, *args, **kwargs)\u001b[0m\n\u001b[1;32m     35\u001b[0m     renderer\u001b[38;5;241m.\u001b[39mstop_rasterizing()\n\u001b[1;32m     36\u001b[0m     renderer\u001b[38;5;241m.\u001b[39m_rasterizing \u001b[38;5;241m=\u001b[39m \u001b[38;5;28;01mFalse\u001b[39;00m\n\u001b[0;32m---> 38\u001b[0m \u001b[38;5;28;01mreturn\u001b[39;00m \u001b[43mdraw\u001b[49m\u001b[43m(\u001b[49m\u001b[43martist\u001b[49m\u001b[43m,\u001b[49m\u001b[43m \u001b[49m\u001b[43mrenderer\u001b[49m\u001b[43m,\u001b[49m\u001b[43m \u001b[49m\u001b[38;5;241;43m*\u001b[39;49m\u001b[43margs\u001b[49m\u001b[43m,\u001b[49m\u001b[43m \u001b[49m\u001b[38;5;241;43m*\u001b[39;49m\u001b[38;5;241;43m*\u001b[39;49m\u001b[43mkwargs\u001b[49m\u001b[43m)\u001b[49m\n",
            "File \u001b[0;32m/anaconda/envs/jupyter_env/lib/python3.10/site-packages/matplotlib/offsetbox.py:380\u001b[0m, in \u001b[0;36mOffsetBox.draw\u001b[0;34m(self, renderer)\u001b[0m\n\u001b[1;32m    375\u001b[0m \u001b[38;5;250m\u001b[39m\u001b[38;5;124;03m\"\"\"\u001b[39;00m\n\u001b[1;32m    376\u001b[0m \u001b[38;5;124;03mUpdate the location of children if necessary and draw them\u001b[39;00m\n\u001b[1;32m    377\u001b[0m \u001b[38;5;124;03mto the given *renderer*.\u001b[39;00m\n\u001b[1;32m    378\u001b[0m \u001b[38;5;124;03m\"\"\"\u001b[39;00m\n\u001b[1;32m    379\u001b[0m bbox, offsets \u001b[38;5;241m=\u001b[39m \u001b[38;5;28mself\u001b[39m\u001b[38;5;241m.\u001b[39m_get_bbox_and_child_offsets(renderer)\n\u001b[0;32m--> 380\u001b[0m px, py \u001b[38;5;241m=\u001b[39m \u001b[38;5;28;43mself\u001b[39;49m\u001b[38;5;241;43m.\u001b[39;49m\u001b[43mget_offset\u001b[49m\u001b[43m(\u001b[49m\u001b[43mbbox\u001b[49m\u001b[43m,\u001b[49m\u001b[43m \u001b[49m\u001b[43mrenderer\u001b[49m\u001b[43m)\u001b[49m\n\u001b[1;32m    381\u001b[0m \u001b[38;5;28;01mfor\u001b[39;00m c, (ox, oy) \u001b[38;5;129;01min\u001b[39;00m \u001b[38;5;28mzip\u001b[39m(\u001b[38;5;28mself\u001b[39m\u001b[38;5;241m.\u001b[39mget_visible_children(), offsets):\n\u001b[1;32m    382\u001b[0m     c\u001b[38;5;241m.\u001b[39mset_offset((px \u001b[38;5;241m+\u001b[39m ox, py \u001b[38;5;241m+\u001b[39m oy))\n",
            "File \u001b[0;32m/anaconda/envs/jupyter_env/lib/python3.10/site-packages/matplotlib/offsetbox.py:60\u001b[0m, in \u001b[0;36m_compat_get_offset.<locals>.get_offset\u001b[0;34m(self, *args, **kwargs)\u001b[0m\n\u001b[1;32m     56\u001b[0m params \u001b[38;5;241m=\u001b[39m _api\u001b[38;5;241m.\u001b[39mselect_matching_signature(sigs, \u001b[38;5;28mself\u001b[39m, \u001b[38;5;241m*\u001b[39margs, \u001b[38;5;241m*\u001b[39m\u001b[38;5;241m*\u001b[39mkwargs)\n\u001b[1;32m     57\u001b[0m bbox \u001b[38;5;241m=\u001b[39m (params[\u001b[38;5;124m\"\u001b[39m\u001b[38;5;124mbbox\u001b[39m\u001b[38;5;124m\"\u001b[39m] \u001b[38;5;28;01mif\u001b[39;00m \u001b[38;5;124m\"\u001b[39m\u001b[38;5;124mbbox\u001b[39m\u001b[38;5;124m\"\u001b[39m \u001b[38;5;129;01min\u001b[39;00m params \u001b[38;5;28;01melse\u001b[39;00m\n\u001b[1;32m     58\u001b[0m         Bbox\u001b[38;5;241m.\u001b[39mfrom_bounds(\u001b[38;5;241m-\u001b[39mparams[\u001b[38;5;124m\"\u001b[39m\u001b[38;5;124mxdescent\u001b[39m\u001b[38;5;124m\"\u001b[39m], \u001b[38;5;241m-\u001b[39mparams[\u001b[38;5;124m\"\u001b[39m\u001b[38;5;124mydescent\u001b[39m\u001b[38;5;124m\"\u001b[39m],\n\u001b[1;32m     59\u001b[0m                          params[\u001b[38;5;124m\"\u001b[39m\u001b[38;5;124mwidth\u001b[39m\u001b[38;5;124m\"\u001b[39m], params[\u001b[38;5;124m\"\u001b[39m\u001b[38;5;124mheight\u001b[39m\u001b[38;5;124m\"\u001b[39m]))\n\u001b[0;32m---> 60\u001b[0m \u001b[38;5;28;01mreturn\u001b[39;00m \u001b[43mmeth\u001b[49m\u001b[43m(\u001b[49m\u001b[43mparams\u001b[49m\u001b[43m[\u001b[49m\u001b[38;5;124;43m\"\u001b[39;49m\u001b[38;5;124;43mself\u001b[39;49m\u001b[38;5;124;43m\"\u001b[39;49m\u001b[43m]\u001b[49m\u001b[43m,\u001b[49m\u001b[43m \u001b[49m\u001b[43mbbox\u001b[49m\u001b[43m,\u001b[49m\u001b[43m \u001b[49m\u001b[43mparams\u001b[49m\u001b[43m[\u001b[49m\u001b[38;5;124;43m\"\u001b[39;49m\u001b[38;5;124;43mrenderer\u001b[39;49m\u001b[38;5;124;43m\"\u001b[39;49m\u001b[43m]\u001b[49m\u001b[43m)\u001b[49m\n",
            "File \u001b[0;32m/anaconda/envs/jupyter_env/lib/python3.10/site-packages/matplotlib/offsetbox.py:306\u001b[0m, in \u001b[0;36mOffsetBox.get_offset\u001b[0;34m(self, bbox, renderer)\u001b[0m\n\u001b[1;32m    291\u001b[0m \u001b[38;5;129m@_compat_get_offset\u001b[39m\n\u001b[1;32m    292\u001b[0m \u001b[38;5;28;01mdef\u001b[39;00m \u001b[38;5;21mget_offset\u001b[39m(\u001b[38;5;28mself\u001b[39m, bbox, renderer):\n\u001b[1;32m    293\u001b[0m \u001b[38;5;250m    \u001b[39m\u001b[38;5;124;03m\"\"\"\u001b[39;00m\n\u001b[1;32m    294\u001b[0m \u001b[38;5;124;03m    Return the offset as a tuple (x, y).\u001b[39;00m\n\u001b[1;32m    295\u001b[0m \n\u001b[0;32m   (...)\u001b[0m\n\u001b[1;32m    303\u001b[0m \u001b[38;5;124;03m    renderer : `.RendererBase` subclass\u001b[39;00m\n\u001b[1;32m    304\u001b[0m \u001b[38;5;124;03m    \"\"\"\u001b[39;00m\n\u001b[1;32m    305\u001b[0m     \u001b[38;5;28;01mreturn\u001b[39;00m (\n\u001b[0;32m--> 306\u001b[0m         \u001b[38;5;28;43mself\u001b[39;49m\u001b[38;5;241;43m.\u001b[39;49m\u001b[43m_offset\u001b[49m\u001b[43m(\u001b[49m\u001b[43mbbox\u001b[49m\u001b[38;5;241;43m.\u001b[39;49m\u001b[43mwidth\u001b[49m\u001b[43m,\u001b[49m\u001b[43m \u001b[49m\u001b[43mbbox\u001b[49m\u001b[38;5;241;43m.\u001b[39;49m\u001b[43mheight\u001b[49m\u001b[43m,\u001b[49m\u001b[43m \u001b[49m\u001b[38;5;241;43m-\u001b[39;49m\u001b[43mbbox\u001b[49m\u001b[38;5;241;43m.\u001b[39;49m\u001b[43mx0\u001b[49m\u001b[43m,\u001b[49m\u001b[43m \u001b[49m\u001b[38;5;241;43m-\u001b[39;49m\u001b[43mbbox\u001b[49m\u001b[38;5;241;43m.\u001b[39;49m\u001b[43my0\u001b[49m\u001b[43m,\u001b[49m\u001b[43m \u001b[49m\u001b[43mrenderer\u001b[49m\u001b[43m)\u001b[49m\n\u001b[1;32m    307\u001b[0m         \u001b[38;5;28;01mif\u001b[39;00m \u001b[38;5;28mcallable\u001b[39m(\u001b[38;5;28mself\u001b[39m\u001b[38;5;241m.\u001b[39m_offset)\n\u001b[1;32m    308\u001b[0m         \u001b[38;5;28;01melse\u001b[39;00m \u001b[38;5;28mself\u001b[39m\u001b[38;5;241m.\u001b[39m_offset)\n",
            "File \u001b[0;32m/anaconda/envs/jupyter_env/lib/python3.10/site-packages/matplotlib/legend.py:721\u001b[0m, in \u001b[0;36mLegend._findoffset\u001b[0;34m(self, width, height, xdescent, ydescent, renderer)\u001b[0m\n\u001b[1;32m    718\u001b[0m \u001b[38;5;250m\u001b[39m\u001b[38;5;124;03m\"\"\"Helper function to locate the legend.\"\"\"\u001b[39;00m\n\u001b[1;32m    720\u001b[0m \u001b[38;5;28;01mif\u001b[39;00m \u001b[38;5;28mself\u001b[39m\u001b[38;5;241m.\u001b[39m_loc \u001b[38;5;241m==\u001b[39m \u001b[38;5;241m0\u001b[39m:  \u001b[38;5;66;03m# \"best\".\u001b[39;00m\n\u001b[0;32m--> 721\u001b[0m     x, y \u001b[38;5;241m=\u001b[39m \u001b[38;5;28;43mself\u001b[39;49m\u001b[38;5;241;43m.\u001b[39;49m\u001b[43m_find_best_position\u001b[49m\u001b[43m(\u001b[49m\u001b[43mwidth\u001b[49m\u001b[43m,\u001b[49m\u001b[43m \u001b[49m\u001b[43mheight\u001b[49m\u001b[43m,\u001b[49m\u001b[43m \u001b[49m\u001b[43mrenderer\u001b[49m\u001b[43m)\u001b[49m\n\u001b[1;32m    722\u001b[0m \u001b[38;5;28;01melif\u001b[39;00m \u001b[38;5;28mself\u001b[39m\u001b[38;5;241m.\u001b[39m_loc \u001b[38;5;129;01min\u001b[39;00m Legend\u001b[38;5;241m.\u001b[39mcodes\u001b[38;5;241m.\u001b[39mvalues():  \u001b[38;5;66;03m# Fixed location.\u001b[39;00m\n\u001b[1;32m    723\u001b[0m     bbox \u001b[38;5;241m=\u001b[39m Bbox\u001b[38;5;241m.\u001b[39mfrom_bounds(\u001b[38;5;241m0\u001b[39m, \u001b[38;5;241m0\u001b[39m, width, height)\n",
            "File \u001b[0;32m/anaconda/envs/jupyter_env/lib/python3.10/site-packages/matplotlib/legend.py:1153\u001b[0m, in \u001b[0;36mLegend._find_best_position\u001b[0;34m(self, width, height, renderer)\u001b[0m\n\u001b[1;32m   1149\u001b[0m \u001b[38;5;28;01massert\u001b[39;00m \u001b[38;5;28mself\u001b[39m\u001b[38;5;241m.\u001b[39misaxes  \u001b[38;5;66;03m# always holds, as this is only called internally\u001b[39;00m\n\u001b[1;32m   1151\u001b[0m start_time \u001b[38;5;241m=\u001b[39m time\u001b[38;5;241m.\u001b[39mperf_counter()\n\u001b[0;32m-> 1153\u001b[0m bboxes, lines, offsets \u001b[38;5;241m=\u001b[39m \u001b[38;5;28;43mself\u001b[39;49m\u001b[38;5;241;43m.\u001b[39;49m\u001b[43m_auto_legend_data\u001b[49m\u001b[43m(\u001b[49m\u001b[43mrenderer\u001b[49m\u001b[43m)\u001b[49m\n\u001b[1;32m   1155\u001b[0m bbox \u001b[38;5;241m=\u001b[39m Bbox\u001b[38;5;241m.\u001b[39mfrom_bounds(\u001b[38;5;241m0\u001b[39m, \u001b[38;5;241m0\u001b[39m, width, height)\n\u001b[1;32m   1157\u001b[0m candidates \u001b[38;5;241m=\u001b[39m []\n",
            "File \u001b[0;32m/anaconda/envs/jupyter_env/lib/python3.10/site-packages/matplotlib/legend.py:957\u001b[0m, in \u001b[0;36mLegend._auto_legend_data\u001b[0;34m(self, renderer)\u001b[0m\n\u001b[1;32m    954\u001b[0m \u001b[38;5;28;01mfor\u001b[39;00m artist \u001b[38;5;129;01min\u001b[39;00m \u001b[38;5;28mself\u001b[39m\u001b[38;5;241m.\u001b[39mparent\u001b[38;5;241m.\u001b[39m_children:\n\u001b[1;32m    955\u001b[0m     \u001b[38;5;28;01mif\u001b[39;00m \u001b[38;5;28misinstance\u001b[39m(artist, Line2D):\n\u001b[1;32m    956\u001b[0m         lines\u001b[38;5;241m.\u001b[39mappend(\n\u001b[0;32m--> 957\u001b[0m             \u001b[43martist\u001b[49m\u001b[38;5;241;43m.\u001b[39;49m\u001b[43mget_transform\u001b[49m\u001b[43m(\u001b[49m\u001b[43m)\u001b[49m\u001b[38;5;241;43m.\u001b[39;49m\u001b[43mtransform_path\u001b[49m\u001b[43m(\u001b[49m\u001b[43martist\u001b[49m\u001b[38;5;241;43m.\u001b[39;49m\u001b[43mget_path\u001b[49m\u001b[43m(\u001b[49m\u001b[43m)\u001b[49m\u001b[43m)\u001b[49m)\n\u001b[1;32m    958\u001b[0m     \u001b[38;5;28;01melif\u001b[39;00m \u001b[38;5;28misinstance\u001b[39m(artist, Rectangle):\n\u001b[1;32m    959\u001b[0m         bboxes\u001b[38;5;241m.\u001b[39mappend(\n\u001b[1;32m    960\u001b[0m             artist\u001b[38;5;241m.\u001b[39mget_bbox()\u001b[38;5;241m.\u001b[39mtransformed(artist\u001b[38;5;241m.\u001b[39mget_data_transform()))\n",
            "File \u001b[0;32m/anaconda/envs/jupyter_env/lib/python3.10/site-packages/matplotlib/transforms.py:1600\u001b[0m, in \u001b[0;36mTransform.transform_path\u001b[0;34m(self, path)\u001b[0m\n\u001b[1;32m   1593\u001b[0m \u001b[38;5;28;01mdef\u001b[39;00m \u001b[38;5;21mtransform_path\u001b[39m(\u001b[38;5;28mself\u001b[39m, path):\n\u001b[1;32m   1594\u001b[0m \u001b[38;5;250m    \u001b[39m\u001b[38;5;124;03m\"\"\"\u001b[39;00m\n\u001b[1;32m   1595\u001b[0m \u001b[38;5;124;03m    Apply the transform to `.Path` *path*, returning a new `.Path`.\u001b[39;00m\n\u001b[1;32m   1596\u001b[0m \n\u001b[1;32m   1597\u001b[0m \u001b[38;5;124;03m    In some cases, this transform may insert curves into the path\u001b[39;00m\n\u001b[1;32m   1598\u001b[0m \u001b[38;5;124;03m    that began as line segments.\u001b[39;00m\n\u001b[1;32m   1599\u001b[0m \u001b[38;5;124;03m    \"\"\"\u001b[39;00m\n\u001b[0;32m-> 1600\u001b[0m     \u001b[38;5;28;01mreturn\u001b[39;00m \u001b[38;5;28;43mself\u001b[39;49m\u001b[38;5;241;43m.\u001b[39;49m\u001b[43mtransform_path_affine\u001b[49m\u001b[43m(\u001b[49m\u001b[38;5;28;43mself\u001b[39;49m\u001b[38;5;241;43m.\u001b[39;49m\u001b[43mtransform_path_non_affine\u001b[49m\u001b[43m(\u001b[49m\u001b[43mpath\u001b[49m\u001b[43m)\u001b[49m\u001b[43m)\u001b[49m\n",
            "File \u001b[0;32m/anaconda/envs/jupyter_env/lib/python3.10/site-packages/matplotlib/transforms.py:1610\u001b[0m, in \u001b[0;36mTransform.transform_path_affine\u001b[0;34m(self, path)\u001b[0m\n\u001b[1;32m   1602\u001b[0m \u001b[38;5;28;01mdef\u001b[39;00m \u001b[38;5;21mtransform_path_affine\u001b[39m(\u001b[38;5;28mself\u001b[39m, path):\n\u001b[1;32m   1603\u001b[0m \u001b[38;5;250m    \u001b[39m\u001b[38;5;124;03m\"\"\"\u001b[39;00m\n\u001b[1;32m   1604\u001b[0m \u001b[38;5;124;03m    Apply the affine part of this transform to `.Path` *path*, returning a\u001b[39;00m\n\u001b[1;32m   1605\u001b[0m \u001b[38;5;124;03m    new `.Path`.\u001b[39;00m\n\u001b[0;32m   (...)\u001b[0m\n\u001b[1;32m   1608\u001b[0m \u001b[38;5;124;03m    ``transform_path_affine(transform_path_non_affine(values))``.\u001b[39;00m\n\u001b[1;32m   1609\u001b[0m \u001b[38;5;124;03m    \"\"\"\u001b[39;00m\n\u001b[0;32m-> 1610\u001b[0m     \u001b[38;5;28;01mreturn\u001b[39;00m \u001b[38;5;28;43mself\u001b[39;49m\u001b[38;5;241;43m.\u001b[39;49m\u001b[43mget_affine\u001b[49m\u001b[43m(\u001b[49m\u001b[43m)\u001b[49m\u001b[38;5;241;43m.\u001b[39;49m\u001b[43mtransform_path_affine\u001b[49m\u001b[43m(\u001b[49m\u001b[43mpath\u001b[49m\u001b[43m)\u001b[49m\n",
            "File \u001b[0;32m/anaconda/envs/jupyter_env/lib/python3.10/site-packages/matplotlib/transforms.py:1801\u001b[0m, in \u001b[0;36mAffineBase.transform_path_affine\u001b[0;34m(self, path)\u001b[0m\n\u001b[1;32m   1799\u001b[0m \u001b[38;5;28;01mdef\u001b[39;00m \u001b[38;5;21mtransform_path_affine\u001b[39m(\u001b[38;5;28mself\u001b[39m, path):\n\u001b[1;32m   1800\u001b[0m     \u001b[38;5;66;03m# docstring inherited\u001b[39;00m\n\u001b[0;32m-> 1801\u001b[0m     \u001b[38;5;28;01mreturn\u001b[39;00m Path(\u001b[38;5;28;43mself\u001b[39;49m\u001b[38;5;241;43m.\u001b[39;49m\u001b[43mtransform_affine\u001b[49m\u001b[43m(\u001b[49m\u001b[43mpath\u001b[49m\u001b[38;5;241;43m.\u001b[39;49m\u001b[43mvertices\u001b[49m\u001b[43m)\u001b[49m,\n\u001b[1;32m   1802\u001b[0m                 path\u001b[38;5;241m.\u001b[39mcodes, path\u001b[38;5;241m.\u001b[39m_interpolation_steps)\n",
            "File \u001b[0;32m/anaconda/envs/jupyter_env/lib/python3.10/site-packages/matplotlib/transforms.py:1853\u001b[0m, in \u001b[0;36mAffine2DBase.transform_affine\u001b[0;34m(self, values)\u001b[0m\n\u001b[1;32m   1851\u001b[0m     tpoints \u001b[38;5;241m=\u001b[39m affine_transform(values\u001b[38;5;241m.\u001b[39mdata, mtx)\n\u001b[1;32m   1852\u001b[0m     \u001b[38;5;28;01mreturn\u001b[39;00m np\u001b[38;5;241m.\u001b[39mma\u001b[38;5;241m.\u001b[39mMaskedArray(tpoints, mask\u001b[38;5;241m=\u001b[39mnp\u001b[38;5;241m.\u001b[39mma\u001b[38;5;241m.\u001b[39mgetmask(values))\n\u001b[0;32m-> 1853\u001b[0m \u001b[38;5;28;01mreturn\u001b[39;00m \u001b[43maffine_transform\u001b[49m\u001b[43m(\u001b[49m\u001b[43mvalues\u001b[49m\u001b[43m,\u001b[49m\u001b[43m \u001b[49m\u001b[43mmtx\u001b[49m\u001b[43m)\u001b[49m\n",
            "\u001b[0;31mKeyboardInterrupt\u001b[0m: "
          ]
        }
      ],
      "execution_count": 6,
      "metadata": {
        "colab": {
          "base_uri": "https://localhost:8080/",
          "height": 526
        },
        "id": "ZJYAxXF0uF-G",
        "outputId": "9ea67fe1-59a2-41dc-f295-2e41e19b7c98",
        "gather": {
          "logged": 1742668529761
        }
      }
    },
    {
      "cell_type": "code",
      "source": [
        "az.summary(data=model_data,\n",
        "          var_names=[\n",
        "              # 'b_cond_bar', 'sigma_cond',\n",
        "              'b_cond',\n",
        "              # 'b_vote_bar', 'sigma_vote',\n",
        "              'b_vote',\n",
        "              'b_topic_bar', 'sigma_topic', 'b_topic',\n",
        "              'b_order_bar', 'sigma_order', 'b_order',\n",
        "              'b_sigma'\n",
        "          ],\n",
        "           round_to=2\n",
        "          )"
      ],
      "outputs": [
        {
          "output_type": "execute_result",
          "execution_count": 3,
          "data": {
            "text/plain": "                        mean    sd  hdi_3%  hdi_97%  mcse_mean  mcse_sd  \\\nb_cond[likert]         -0.16  0.07   -0.31    -0.03       0.00     0.00   \nb_cond[lqv108]          0.15  0.06    0.04     0.26       0.00     0.00   \nb_cond[lqv324]          0.14  0.06    0.03     0.25       0.00     0.00   \nb_cond[lqv36]           0.14  0.06    0.03     0.25       0.00     0.00   \nb_cond[qv108]          -0.32  0.08   -0.48    -0.17       0.00     0.00   \nb_cond[qv108_c]         0.14  0.06    0.03     0.25       0.00     0.00   \nb_cond[qv324]          -0.36  0.07   -0.49    -0.22       0.00     0.00   \nb_cond[qv324_c]         0.12  0.06    0.01     0.23       0.00     0.00   \nb_cond[qv36]           -0.29  0.09   -0.45    -0.12       0.00     0.00   \nb_cond[qv36_c]          0.15  0.06    0.04     0.26       0.00     0.00   \nb_cond[unlimited]       0.14  0.06    0.02     0.24       0.00     0.00   \nb_cond[unlimited_c]     0.14  0.06    0.02     0.24       0.00     0.00   \nb_vote[likert]          0.52  0.06    0.41     0.64       0.00     0.00   \nb_vote[lqv108]         -0.07  0.04   -0.14     0.01       0.00     0.00   \nb_vote[lqv324]          0.16  0.05    0.07     0.26       0.00     0.00   \nb_vote[lqv36]           0.19  0.04    0.12     0.26       0.00     0.00   \nb_vote[qv108]           1.08  0.11    0.88     1.29       0.00     0.00   \nb_vote[qv108_c]         0.68  0.03    0.63     0.72       0.00     0.00   \nb_vote[qv324]           0.97  0.08    0.82     1.13       0.00     0.00   \nb_vote[qv324_c]         0.67  0.03    0.61     0.72       0.00     0.00   \nb_vote[qv36]            1.01  0.13    0.77     1.25       0.00     0.00   \nb_vote[qv36_c]          0.60  0.03    0.55     0.65       0.00     0.00   \nb_vote[unlimited]       0.19  0.04    0.12     0.25       0.00     0.00   \nb_vote[unlimited_c]     0.21  0.03    0.15     0.28       0.00     0.00   \nb_topic_bar             0.00  0.10   -0.19     0.18       0.00     0.00   \nsigma_topic             0.50  0.29    0.02     0.95       0.00     0.00   \nb_topic[art]           -0.09  0.06   -0.20     0.02       0.00     0.00   \nb_topic[education]     -0.08  0.06   -0.18     0.04       0.00     0.00   \nb_topic[environment]   -0.07  0.06   -0.18     0.04       0.00     0.00   \nb_topic[faith]         -0.06  0.06   -0.16     0.06       0.00     0.00   \nb_topic[health]        -0.07  0.06   -0.18     0.04       0.00     0.00   \nb_topic[human]         -0.07  0.06   -0.18     0.04       0.00     0.00   \nb_topic[international] -0.05  0.06   -0.16     0.06       0.00     0.00   \nb_topic[pets]          -0.06  0.06   -0.17     0.04       0.00     0.00   \nb_topic[veteran]       -0.01  0.99   -1.89     1.83       0.01     0.01   \nb_order_bar            -0.00  0.10   -0.19     0.19       0.00     0.00   \nsigma_order             0.01  0.04    0.00     0.05       0.00     0.01   \nb_order[decrease]      -0.00  0.10   -0.20     0.19       0.00     0.00   \nb_order[first]         -0.00  0.10   -0.19     0.19       0.00     0.00   \nb_order[increase]       0.00  0.10   -0.19     0.20       0.00     0.00   \nb_sigma[likert]         0.26  0.00    0.25     0.27       0.00     0.00   \nb_sigma[lqv108]         0.17  0.00    0.17     0.18       0.00     0.00   \nb_sigma[lqv324]         0.18  0.00    0.17     0.18       0.00     0.00   \nb_sigma[lqv36]          0.19  0.00    0.18     0.19       0.00     0.00   \nb_sigma[qv108]          0.25  0.00    0.24     0.25       0.00     0.00   \nb_sigma[qv108_c]        0.25  0.00    0.24     0.25       0.00     0.00   \nb_sigma[qv324]          0.28  0.00    0.27     0.28       0.00     0.00   \nb_sigma[qv324_c]        0.28  0.00    0.27     0.29       0.00     0.00   \nb_sigma[qv36]           0.29  0.00    0.28     0.30       0.00     0.00   \nb_sigma[qv36_c]         0.29  0.00    0.28     0.30       0.00     0.00   \nb_sigma[unlimited]      0.21  0.00    0.21     0.22       0.00     0.00   \nb_sigma[unlimited_c]    0.21  0.00    0.20     0.22       0.00     0.00   \n\n                        ess_bulk  ess_tail  r_hat  \nb_cond[likert]           2675.59   4477.34    1.0  \nb_cond[lqv108]           1651.37   2993.38    1.0  \nb_cond[lqv324]           1646.79   2958.34    1.0  \nb_cond[lqv36]            1648.79   2981.89    1.0  \nb_cond[qv108]            3087.74   5022.25    1.0  \nb_cond[qv108_c]          1635.92   2957.29    1.0  \nb_cond[qv324]            2700.46   4925.70    1.0  \nb_cond[qv324_c]          1654.00   2996.05    1.0  \nb_cond[qv36]             3524.17   4960.01    1.0  \nb_cond[qv36_c]           1640.96   2964.15    1.0  \nb_cond[unlimited]        1664.57   2987.57    1.0  \nb_cond[unlimited_c]      1636.92   3072.46    1.0  \nb_vote[likert]          11491.11   6593.96    1.0  \nb_vote[lqv108]           7819.46   6632.40    1.0  \nb_vote[lqv324]           8221.77   5234.63    1.0  \nb_vote[lqv36]            8696.77   5923.61    1.0  \nb_vote[qv108]            9706.51   6272.52    1.0  \nb_vote[qv108_c]          7786.39   6912.16    1.0  \nb_vote[qv324]           12846.17   6755.44    1.0  \nb_vote[qv324_c]          7914.31   5694.18    1.0  \nb_vote[qv36]             7485.77   5145.80    1.0  \nb_vote[qv36_c]           7798.31   6040.94    1.0  \nb_vote[unlimited]        8378.22   5800.79    1.0  \nb_vote[unlimited_c]      7731.17   5924.09    1.0  \nb_topic_bar              3790.53   4806.16    1.0  \nsigma_topic              8853.34   5106.83    1.0  \nb_topic[art]             2052.09   4049.81    1.0  \nb_topic[education]       2056.97   3824.81    1.0  \nb_topic[environment]     2056.20   3895.18    1.0  \nb_topic[faith]           2076.73   3994.80    1.0  \nb_topic[health]          2063.00   3856.80    1.0  \nb_topic[human]           2056.48   3971.56    1.0  \nb_topic[international]   2064.28   4069.87    1.0  \nb_topic[pets]            2071.14   3925.85    1.0  \nb_topic[veteran]        14100.51   5696.10    1.0  \nb_order_bar              3908.42   5474.59    1.0  \nsigma_order              2197.63   4566.05    1.0  \nb_order[decrease]        3435.63   5288.04    1.0  \nb_order[first]           3426.94   5108.64    1.0  \nb_order[increase]        3414.14   5364.91    1.0  \nb_sigma[likert]         17112.20   5751.90    1.0  \nb_sigma[lqv108]         17274.15   5923.39    1.0  \nb_sigma[lqv324]         17790.39   5732.69    1.0  \nb_sigma[lqv36]          15633.49   5880.69    1.0  \nb_sigma[qv108]          17192.31   5586.53    1.0  \nb_sigma[qv108_c]        16380.63   5579.27    1.0  \nb_sigma[qv324]          16199.45   5736.85    1.0  \nb_sigma[qv324_c]        18260.68   5491.95    1.0  \nb_sigma[qv36]           15021.58   5600.63    1.0  \nb_sigma[qv36_c]         15718.74   5726.64    1.0  \nb_sigma[unlimited]      17177.46   5101.75    1.0  \nb_sigma[unlimited_c]    18986.45   5805.37    1.0  ",
            "text/html": "<div>\n<style scoped>\n    .dataframe tbody tr th:only-of-type {\n        vertical-align: middle;\n    }\n\n    .dataframe tbody tr th {\n        vertical-align: top;\n    }\n\n    .dataframe thead th {\n        text-align: right;\n    }\n</style>\n<table border=\"1\" class=\"dataframe\">\n  <thead>\n    <tr style=\"text-align: right;\">\n      <th></th>\n      <th>mean</th>\n      <th>sd</th>\n      <th>hdi_3%</th>\n      <th>hdi_97%</th>\n      <th>mcse_mean</th>\n      <th>mcse_sd</th>\n      <th>ess_bulk</th>\n      <th>ess_tail</th>\n      <th>r_hat</th>\n    </tr>\n  </thead>\n  <tbody>\n    <tr>\n      <th>b_cond[likert]</th>\n      <td>-0.16</td>\n      <td>0.07</td>\n      <td>-0.31</td>\n      <td>-0.03</td>\n      <td>0.00</td>\n      <td>0.00</td>\n      <td>2675.59</td>\n      <td>4477.34</td>\n      <td>1.0</td>\n    </tr>\n    <tr>\n      <th>b_cond[lqv108]</th>\n      <td>0.15</td>\n      <td>0.06</td>\n      <td>0.04</td>\n      <td>0.26</td>\n      <td>0.00</td>\n      <td>0.00</td>\n      <td>1651.37</td>\n      <td>2993.38</td>\n      <td>1.0</td>\n    </tr>\n    <tr>\n      <th>b_cond[lqv324]</th>\n      <td>0.14</td>\n      <td>0.06</td>\n      <td>0.03</td>\n      <td>0.25</td>\n      <td>0.00</td>\n      <td>0.00</td>\n      <td>1646.79</td>\n      <td>2958.34</td>\n      <td>1.0</td>\n    </tr>\n    <tr>\n      <th>b_cond[lqv36]</th>\n      <td>0.14</td>\n      <td>0.06</td>\n      <td>0.03</td>\n      <td>0.25</td>\n      <td>0.00</td>\n      <td>0.00</td>\n      <td>1648.79</td>\n      <td>2981.89</td>\n      <td>1.0</td>\n    </tr>\n    <tr>\n      <th>b_cond[qv108]</th>\n      <td>-0.32</td>\n      <td>0.08</td>\n      <td>-0.48</td>\n      <td>-0.17</td>\n      <td>0.00</td>\n      <td>0.00</td>\n      <td>3087.74</td>\n      <td>5022.25</td>\n      <td>1.0</td>\n    </tr>\n    <tr>\n      <th>b_cond[qv108_c]</th>\n      <td>0.14</td>\n      <td>0.06</td>\n      <td>0.03</td>\n      <td>0.25</td>\n      <td>0.00</td>\n      <td>0.00</td>\n      <td>1635.92</td>\n      <td>2957.29</td>\n      <td>1.0</td>\n    </tr>\n    <tr>\n      <th>b_cond[qv324]</th>\n      <td>-0.36</td>\n      <td>0.07</td>\n      <td>-0.49</td>\n      <td>-0.22</td>\n      <td>0.00</td>\n      <td>0.00</td>\n      <td>2700.46</td>\n      <td>4925.70</td>\n      <td>1.0</td>\n    </tr>\n    <tr>\n      <th>b_cond[qv324_c]</th>\n      <td>0.12</td>\n      <td>0.06</td>\n      <td>0.01</td>\n      <td>0.23</td>\n      <td>0.00</td>\n      <td>0.00</td>\n      <td>1654.00</td>\n      <td>2996.05</td>\n      <td>1.0</td>\n    </tr>\n    <tr>\n      <th>b_cond[qv36]</th>\n      <td>-0.29</td>\n      <td>0.09</td>\n      <td>-0.45</td>\n      <td>-0.12</td>\n      <td>0.00</td>\n      <td>0.00</td>\n      <td>3524.17</td>\n      <td>4960.01</td>\n      <td>1.0</td>\n    </tr>\n    <tr>\n      <th>b_cond[qv36_c]</th>\n      <td>0.15</td>\n      <td>0.06</td>\n      <td>0.04</td>\n      <td>0.26</td>\n      <td>0.00</td>\n      <td>0.00</td>\n      <td>1640.96</td>\n      <td>2964.15</td>\n      <td>1.0</td>\n    </tr>\n    <tr>\n      <th>b_cond[unlimited]</th>\n      <td>0.14</td>\n      <td>0.06</td>\n      <td>0.02</td>\n      <td>0.24</td>\n      <td>0.00</td>\n      <td>0.00</td>\n      <td>1664.57</td>\n      <td>2987.57</td>\n      <td>1.0</td>\n    </tr>\n    <tr>\n      <th>b_cond[unlimited_c]</th>\n      <td>0.14</td>\n      <td>0.06</td>\n      <td>0.02</td>\n      <td>0.24</td>\n      <td>0.00</td>\n      <td>0.00</td>\n      <td>1636.92</td>\n      <td>3072.46</td>\n      <td>1.0</td>\n    </tr>\n    <tr>\n      <th>b_vote[likert]</th>\n      <td>0.52</td>\n      <td>0.06</td>\n      <td>0.41</td>\n      <td>0.64</td>\n      <td>0.00</td>\n      <td>0.00</td>\n      <td>11491.11</td>\n      <td>6593.96</td>\n      <td>1.0</td>\n    </tr>\n    <tr>\n      <th>b_vote[lqv108]</th>\n      <td>-0.07</td>\n      <td>0.04</td>\n      <td>-0.14</td>\n      <td>0.01</td>\n      <td>0.00</td>\n      <td>0.00</td>\n      <td>7819.46</td>\n      <td>6632.40</td>\n      <td>1.0</td>\n    </tr>\n    <tr>\n      <th>b_vote[lqv324]</th>\n      <td>0.16</td>\n      <td>0.05</td>\n      <td>0.07</td>\n      <td>0.26</td>\n      <td>0.00</td>\n      <td>0.00</td>\n      <td>8221.77</td>\n      <td>5234.63</td>\n      <td>1.0</td>\n    </tr>\n    <tr>\n      <th>b_vote[lqv36]</th>\n      <td>0.19</td>\n      <td>0.04</td>\n      <td>0.12</td>\n      <td>0.26</td>\n      <td>0.00</td>\n      <td>0.00</td>\n      <td>8696.77</td>\n      <td>5923.61</td>\n      <td>1.0</td>\n    </tr>\n    <tr>\n      <th>b_vote[qv108]</th>\n      <td>1.08</td>\n      <td>0.11</td>\n      <td>0.88</td>\n      <td>1.29</td>\n      <td>0.00</td>\n      <td>0.00</td>\n      <td>9706.51</td>\n      <td>6272.52</td>\n      <td>1.0</td>\n    </tr>\n    <tr>\n      <th>b_vote[qv108_c]</th>\n      <td>0.68</td>\n      <td>0.03</td>\n      <td>0.63</td>\n      <td>0.72</td>\n      <td>0.00</td>\n      <td>0.00</td>\n      <td>7786.39</td>\n      <td>6912.16</td>\n      <td>1.0</td>\n    </tr>\n    <tr>\n      <th>b_vote[qv324]</th>\n      <td>0.97</td>\n      <td>0.08</td>\n      <td>0.82</td>\n      <td>1.13</td>\n      <td>0.00</td>\n      <td>0.00</td>\n      <td>12846.17</td>\n      <td>6755.44</td>\n      <td>1.0</td>\n    </tr>\n    <tr>\n      <th>b_vote[qv324_c]</th>\n      <td>0.67</td>\n      <td>0.03</td>\n      <td>0.61</td>\n      <td>0.72</td>\n      <td>0.00</td>\n      <td>0.00</td>\n      <td>7914.31</td>\n      <td>5694.18</td>\n      <td>1.0</td>\n    </tr>\n    <tr>\n      <th>b_vote[qv36]</th>\n      <td>1.01</td>\n      <td>0.13</td>\n      <td>0.77</td>\n      <td>1.25</td>\n      <td>0.00</td>\n      <td>0.00</td>\n      <td>7485.77</td>\n      <td>5145.80</td>\n      <td>1.0</td>\n    </tr>\n    <tr>\n      <th>b_vote[qv36_c]</th>\n      <td>0.60</td>\n      <td>0.03</td>\n      <td>0.55</td>\n      <td>0.65</td>\n      <td>0.00</td>\n      <td>0.00</td>\n      <td>7798.31</td>\n      <td>6040.94</td>\n      <td>1.0</td>\n    </tr>\n    <tr>\n      <th>b_vote[unlimited]</th>\n      <td>0.19</td>\n      <td>0.04</td>\n      <td>0.12</td>\n      <td>0.25</td>\n      <td>0.00</td>\n      <td>0.00</td>\n      <td>8378.22</td>\n      <td>5800.79</td>\n      <td>1.0</td>\n    </tr>\n    <tr>\n      <th>b_vote[unlimited_c]</th>\n      <td>0.21</td>\n      <td>0.03</td>\n      <td>0.15</td>\n      <td>0.28</td>\n      <td>0.00</td>\n      <td>0.00</td>\n      <td>7731.17</td>\n      <td>5924.09</td>\n      <td>1.0</td>\n    </tr>\n    <tr>\n      <th>b_topic_bar</th>\n      <td>0.00</td>\n      <td>0.10</td>\n      <td>-0.19</td>\n      <td>0.18</td>\n      <td>0.00</td>\n      <td>0.00</td>\n      <td>3790.53</td>\n      <td>4806.16</td>\n      <td>1.0</td>\n    </tr>\n    <tr>\n      <th>sigma_topic</th>\n      <td>0.50</td>\n      <td>0.29</td>\n      <td>0.02</td>\n      <td>0.95</td>\n      <td>0.00</td>\n      <td>0.00</td>\n      <td>8853.34</td>\n      <td>5106.83</td>\n      <td>1.0</td>\n    </tr>\n    <tr>\n      <th>b_topic[art]</th>\n      <td>-0.09</td>\n      <td>0.06</td>\n      <td>-0.20</td>\n      <td>0.02</td>\n      <td>0.00</td>\n      <td>0.00</td>\n      <td>2052.09</td>\n      <td>4049.81</td>\n      <td>1.0</td>\n    </tr>\n    <tr>\n      <th>b_topic[education]</th>\n      <td>-0.08</td>\n      <td>0.06</td>\n      <td>-0.18</td>\n      <td>0.04</td>\n      <td>0.00</td>\n      <td>0.00</td>\n      <td>2056.97</td>\n      <td>3824.81</td>\n      <td>1.0</td>\n    </tr>\n    <tr>\n      <th>b_topic[environment]</th>\n      <td>-0.07</td>\n      <td>0.06</td>\n      <td>-0.18</td>\n      <td>0.04</td>\n      <td>0.00</td>\n      <td>0.00</td>\n      <td>2056.20</td>\n      <td>3895.18</td>\n      <td>1.0</td>\n    </tr>\n    <tr>\n      <th>b_topic[faith]</th>\n      <td>-0.06</td>\n      <td>0.06</td>\n      <td>-0.16</td>\n      <td>0.06</td>\n      <td>0.00</td>\n      <td>0.00</td>\n      <td>2076.73</td>\n      <td>3994.80</td>\n      <td>1.0</td>\n    </tr>\n    <tr>\n      <th>b_topic[health]</th>\n      <td>-0.07</td>\n      <td>0.06</td>\n      <td>-0.18</td>\n      <td>0.04</td>\n      <td>0.00</td>\n      <td>0.00</td>\n      <td>2063.00</td>\n      <td>3856.80</td>\n      <td>1.0</td>\n    </tr>\n    <tr>\n      <th>b_topic[human]</th>\n      <td>-0.07</td>\n      <td>0.06</td>\n      <td>-0.18</td>\n      <td>0.04</td>\n      <td>0.00</td>\n      <td>0.00</td>\n      <td>2056.48</td>\n      <td>3971.56</td>\n      <td>1.0</td>\n    </tr>\n    <tr>\n      <th>b_topic[international]</th>\n      <td>-0.05</td>\n      <td>0.06</td>\n      <td>-0.16</td>\n      <td>0.06</td>\n      <td>0.00</td>\n      <td>0.00</td>\n      <td>2064.28</td>\n      <td>4069.87</td>\n      <td>1.0</td>\n    </tr>\n    <tr>\n      <th>b_topic[pets]</th>\n      <td>-0.06</td>\n      <td>0.06</td>\n      <td>-0.17</td>\n      <td>0.04</td>\n      <td>0.00</td>\n      <td>0.00</td>\n      <td>2071.14</td>\n      <td>3925.85</td>\n      <td>1.0</td>\n    </tr>\n    <tr>\n      <th>b_topic[veteran]</th>\n      <td>-0.01</td>\n      <td>0.99</td>\n      <td>-1.89</td>\n      <td>1.83</td>\n      <td>0.01</td>\n      <td>0.01</td>\n      <td>14100.51</td>\n      <td>5696.10</td>\n      <td>1.0</td>\n    </tr>\n    <tr>\n      <th>b_order_bar</th>\n      <td>-0.00</td>\n      <td>0.10</td>\n      <td>-0.19</td>\n      <td>0.19</td>\n      <td>0.00</td>\n      <td>0.00</td>\n      <td>3908.42</td>\n      <td>5474.59</td>\n      <td>1.0</td>\n    </tr>\n    <tr>\n      <th>sigma_order</th>\n      <td>0.01</td>\n      <td>0.04</td>\n      <td>0.00</td>\n      <td>0.05</td>\n      <td>0.00</td>\n      <td>0.01</td>\n      <td>2197.63</td>\n      <td>4566.05</td>\n      <td>1.0</td>\n    </tr>\n    <tr>\n      <th>b_order[decrease]</th>\n      <td>-0.00</td>\n      <td>0.10</td>\n      <td>-0.20</td>\n      <td>0.19</td>\n      <td>0.00</td>\n      <td>0.00</td>\n      <td>3435.63</td>\n      <td>5288.04</td>\n      <td>1.0</td>\n    </tr>\n    <tr>\n      <th>b_order[first]</th>\n      <td>-0.00</td>\n      <td>0.10</td>\n      <td>-0.19</td>\n      <td>0.19</td>\n      <td>0.00</td>\n      <td>0.00</td>\n      <td>3426.94</td>\n      <td>5108.64</td>\n      <td>1.0</td>\n    </tr>\n    <tr>\n      <th>b_order[increase]</th>\n      <td>0.00</td>\n      <td>0.10</td>\n      <td>-0.19</td>\n      <td>0.20</td>\n      <td>0.00</td>\n      <td>0.00</td>\n      <td>3414.14</td>\n      <td>5364.91</td>\n      <td>1.0</td>\n    </tr>\n    <tr>\n      <th>b_sigma[likert]</th>\n      <td>0.26</td>\n      <td>0.00</td>\n      <td>0.25</td>\n      <td>0.27</td>\n      <td>0.00</td>\n      <td>0.00</td>\n      <td>17112.20</td>\n      <td>5751.90</td>\n      <td>1.0</td>\n    </tr>\n    <tr>\n      <th>b_sigma[lqv108]</th>\n      <td>0.17</td>\n      <td>0.00</td>\n      <td>0.17</td>\n      <td>0.18</td>\n      <td>0.00</td>\n      <td>0.00</td>\n      <td>17274.15</td>\n      <td>5923.39</td>\n      <td>1.0</td>\n    </tr>\n    <tr>\n      <th>b_sigma[lqv324]</th>\n      <td>0.18</td>\n      <td>0.00</td>\n      <td>0.17</td>\n      <td>0.18</td>\n      <td>0.00</td>\n      <td>0.00</td>\n      <td>17790.39</td>\n      <td>5732.69</td>\n      <td>1.0</td>\n    </tr>\n    <tr>\n      <th>b_sigma[lqv36]</th>\n      <td>0.19</td>\n      <td>0.00</td>\n      <td>0.18</td>\n      <td>0.19</td>\n      <td>0.00</td>\n      <td>0.00</td>\n      <td>15633.49</td>\n      <td>5880.69</td>\n      <td>1.0</td>\n    </tr>\n    <tr>\n      <th>b_sigma[qv108]</th>\n      <td>0.25</td>\n      <td>0.00</td>\n      <td>0.24</td>\n      <td>0.25</td>\n      <td>0.00</td>\n      <td>0.00</td>\n      <td>17192.31</td>\n      <td>5586.53</td>\n      <td>1.0</td>\n    </tr>\n    <tr>\n      <th>b_sigma[qv108_c]</th>\n      <td>0.25</td>\n      <td>0.00</td>\n      <td>0.24</td>\n      <td>0.25</td>\n      <td>0.00</td>\n      <td>0.00</td>\n      <td>16380.63</td>\n      <td>5579.27</td>\n      <td>1.0</td>\n    </tr>\n    <tr>\n      <th>b_sigma[qv324]</th>\n      <td>0.28</td>\n      <td>0.00</td>\n      <td>0.27</td>\n      <td>0.28</td>\n      <td>0.00</td>\n      <td>0.00</td>\n      <td>16199.45</td>\n      <td>5736.85</td>\n      <td>1.0</td>\n    </tr>\n    <tr>\n      <th>b_sigma[qv324_c]</th>\n      <td>0.28</td>\n      <td>0.00</td>\n      <td>0.27</td>\n      <td>0.29</td>\n      <td>0.00</td>\n      <td>0.00</td>\n      <td>18260.68</td>\n      <td>5491.95</td>\n      <td>1.0</td>\n    </tr>\n    <tr>\n      <th>b_sigma[qv36]</th>\n      <td>0.29</td>\n      <td>0.00</td>\n      <td>0.28</td>\n      <td>0.30</td>\n      <td>0.00</td>\n      <td>0.00</td>\n      <td>15021.58</td>\n      <td>5600.63</td>\n      <td>1.0</td>\n    </tr>\n    <tr>\n      <th>b_sigma[qv36_c]</th>\n      <td>0.29</td>\n      <td>0.00</td>\n      <td>0.28</td>\n      <td>0.30</td>\n      <td>0.00</td>\n      <td>0.00</td>\n      <td>15718.74</td>\n      <td>5726.64</td>\n      <td>1.0</td>\n    </tr>\n    <tr>\n      <th>b_sigma[unlimited]</th>\n      <td>0.21</td>\n      <td>0.00</td>\n      <td>0.21</td>\n      <td>0.22</td>\n      <td>0.00</td>\n      <td>0.00</td>\n      <td>17177.46</td>\n      <td>5101.75</td>\n      <td>1.0</td>\n    </tr>\n    <tr>\n      <th>b_sigma[unlimited_c]</th>\n      <td>0.21</td>\n      <td>0.00</td>\n      <td>0.20</td>\n      <td>0.22</td>\n      <td>0.00</td>\n      <td>0.00</td>\n      <td>18986.45</td>\n      <td>5805.37</td>\n      <td>1.0</td>\n    </tr>\n  </tbody>\n</table>\n</div>"
          },
          "metadata": {}
        }
      ],
      "execution_count": 3,
      "metadata": {
        "colab": {
          "base_uri": "https://localhost:8080/",
          "height": 1000
        },
        "id": "sb2mpEXrdCtK",
        "outputId": "017767da-5aed-480f-a44a-0339ce166bb4",
        "gather": {
          "logged": 1742668112515
        }
      }
    },
    {
      "cell_type": "code",
      "source": [],
      "outputs": [],
      "execution_count": null,
      "metadata": {}
    }
  ],
  "metadata": {
    "kernelspec": {
      "name": "python3",
      "language": "python",
      "display_name": "Python 3 (ipykernel)"
    },
    "language_info": {
      "name": "python",
      "version": "3.10.11",
      "mimetype": "text/x-python",
      "codemirror_mode": {
        "name": "ipython",
        "version": 3
      },
      "pygments_lexer": "ipython3",
      "nbconvert_exporter": "python",
      "file_extension": ".py"
    },
    "colab": {
      "provenance": [],
      "toc_visible": true,
      "gpuType": "T4"
    },
    "widgets": {
      "application/vnd.jupyter.widget-state+json": {
        "297a098714ca4b2a877dc0d562ffaacf": {
          "model_module": "@jupyter-widgets/controls",
          "model_name": "HBoxModel",
          "model_module_version": "1.5.0",
          "state": {
            "_view_module_version": "1.5.0",
            "_model_name": "HBoxModel",
            "_model_module": "@jupyter-widgets/controls",
            "_view_name": "HBoxView",
            "_view_module": "@jupyter-widgets/controls",
            "_dom_classes": [],
            "layout": "IPY_MODEL_29f373b48bdb420cabacd67cb2e40dc5",
            "_view_count": null,
            "_model_module_version": "1.5.0",
            "box_style": "",
            "children": [
              "IPY_MODEL_fe584f5592c24dbbabc668b55991a2d3",
              "IPY_MODEL_307bcdbf25454efe9fd7e4e9115a516e",
              "IPY_MODEL_f54286792c8b4343b4c67f541006ef7d"
            ]
          }
        },
        "5d116984c12b40288fc2987cde5d54fa": {
          "model_module": "@jupyter-widgets/controls",
          "model_name": "HBoxModel",
          "model_module_version": "1.5.0",
          "state": {
            "_view_module_version": "1.5.0",
            "_model_name": "HBoxModel",
            "_model_module": "@jupyter-widgets/controls",
            "_view_name": "HBoxView",
            "_view_module": "@jupyter-widgets/controls",
            "_dom_classes": [],
            "layout": "IPY_MODEL_88fc07112cc541f29a953ae460e4eb6b",
            "_view_count": null,
            "_model_module_version": "1.5.0",
            "box_style": "",
            "children": [
              "IPY_MODEL_57e732fbc675456ab4801c4533ea5592",
              "IPY_MODEL_d4e65a2145a6413b85cf3ed7db05972c",
              "IPY_MODEL_f73a564a6b8542eebcd0ea622f9b3391"
            ]
          }
        },
        "29f373b48bdb420cabacd67cb2e40dc5": {
          "model_module": "@jupyter-widgets/base",
          "model_name": "LayoutModel",
          "model_module_version": "1.2.0",
          "state": {
            "_view_module_version": "1.2.0",
            "_model_name": "LayoutModel",
            "grid_row": null,
            "_model_module": "@jupyter-widgets/base",
            "overflow": null,
            "max_height": null,
            "display": null,
            "grid_auto_flow": null,
            "grid_template_rows": null,
            "align_self": null,
            "grid_auto_columns": null,
            "width": null,
            "grid_area": null,
            "align_items": null,
            "_view_name": "LayoutView",
            "left": null,
            "height": null,
            "_view_module": "@jupyter-widgets/base",
            "object_position": null,
            "justify_content": null,
            "bottom": null,
            "max_width": null,
            "border": null,
            "margin": null,
            "order": null,
            "grid_column": null,
            "grid_auto_rows": null,
            "padding": null,
            "grid_template_columns": null,
            "justify_items": null,
            "object_fit": null,
            "visibility": null,
            "_view_count": null,
            "flex_flow": null,
            "min_height": null,
            "top": null,
            "min_width": null,
            "flex": null,
            "_model_module_version": "1.2.0",
            "grid_template_areas": null,
            "overflow_x": null,
            "right": null,
            "overflow_y": null,
            "grid_gap": null,
            "align_content": null
          }
        },
        "6bd3cbc87b93432192ba8a15eeba7e74": {
          "model_module": "@jupyter-widgets/controls",
          "model_name": "FloatProgressModel",
          "model_module_version": "1.5.0",
          "state": {
            "_view_module_version": "1.5.0",
            "description_tooltip": null,
            "_model_name": "FloatProgressModel",
            "_model_module": "@jupyter-widgets/controls",
            "max": 1500,
            "bar_style": "",
            "_view_name": "ProgressView",
            "_view_module": "@jupyter-widgets/controls",
            "_dom_classes": [],
            "layout": "IPY_MODEL_02d1dc9b3e5b4feab636e61816f4d7e8",
            "orientation": "horizontal",
            "value": 0,
            "style": "IPY_MODEL_7bffefb3a8b44e8b8a2f17c0d03da1e7",
            "min": 0,
            "_view_count": null,
            "_model_module_version": "1.5.0",
            "description": ""
          }
        },
        "dba6cd6afdbe449892acd4efd29e8566": {
          "model_module": "@jupyter-widgets/base",
          "model_name": "LayoutModel",
          "model_module_version": "1.2.0",
          "state": {
            "_view_module_version": "1.2.0",
            "_model_name": "LayoutModel",
            "grid_row": null,
            "_model_module": "@jupyter-widgets/base",
            "overflow": null,
            "max_height": null,
            "display": null,
            "grid_auto_flow": null,
            "grid_template_rows": null,
            "align_self": null,
            "grid_auto_columns": null,
            "width": null,
            "grid_area": null,
            "align_items": null,
            "_view_name": "LayoutView",
            "left": null,
            "height": null,
            "_view_module": "@jupyter-widgets/base",
            "object_position": null,
            "justify_content": null,
            "bottom": null,
            "max_width": null,
            "border": null,
            "margin": null,
            "order": null,
            "grid_column": null,
            "grid_auto_rows": null,
            "padding": null,
            "grid_template_columns": null,
            "justify_items": null,
            "object_fit": null,
            "visibility": null,
            "_view_count": null,
            "flex_flow": null,
            "min_height": null,
            "top": null,
            "min_width": null,
            "flex": null,
            "_model_module_version": "1.2.0",
            "grid_template_areas": null,
            "overflow_x": null,
            "right": null,
            "overflow_y": null,
            "grid_gap": null,
            "align_content": null
          }
        },
        "0264dd2339654081b73c971e1d349698": {
          "model_module": "@jupyter-widgets/base",
          "model_name": "LayoutModel",
          "model_module_version": "1.2.0",
          "state": {
            "_view_module_version": "1.2.0",
            "_model_name": "LayoutModel",
            "grid_row": null,
            "_model_module": "@jupyter-widgets/base",
            "overflow": null,
            "max_height": null,
            "display": null,
            "grid_auto_flow": null,
            "grid_template_rows": null,
            "align_self": null,
            "grid_auto_columns": null,
            "width": null,
            "grid_area": null,
            "align_items": null,
            "_view_name": "LayoutView",
            "left": null,
            "height": null,
            "_view_module": "@jupyter-widgets/base",
            "object_position": null,
            "justify_content": null,
            "bottom": null,
            "max_width": null,
            "border": null,
            "margin": null,
            "order": null,
            "grid_column": null,
            "grid_auto_rows": null,
            "padding": null,
            "grid_template_columns": null,
            "justify_items": null,
            "object_fit": null,
            "visibility": null,
            "_view_count": null,
            "flex_flow": null,
            "min_height": null,
            "top": null,
            "min_width": null,
            "flex": null,
            "_model_module_version": "1.2.0",
            "grid_template_areas": null,
            "overflow_x": null,
            "right": null,
            "overflow_y": null,
            "grid_gap": null,
            "align_content": null
          }
        },
        "8981bc34295447b189a94e1b57ed12d6": {
          "model_module": "@jupyter-widgets/controls",
          "model_name": "DescriptionStyleModel",
          "model_module_version": "1.5.0",
          "state": {
            "_model_module": "@jupyter-widgets/controls",
            "_model_module_version": "1.5.0",
            "_model_name": "DescriptionStyleModel",
            "_view_count": null,
            "_view_module": "@jupyter-widgets/base",
            "_view_module_version": "1.2.0",
            "_view_name": "StyleView",
            "description_width": ""
          }
        },
        "c2fc0f097c4d4773b8563b7f4c09752d": {
          "model_module": "@jupyter-widgets/base",
          "model_name": "LayoutModel",
          "model_module_version": "1.2.0",
          "state": {
            "_view_module_version": "1.2.0",
            "_model_name": "LayoutModel",
            "grid_row": null,
            "_model_module": "@jupyter-widgets/base",
            "overflow": null,
            "max_height": null,
            "display": null,
            "grid_auto_flow": null,
            "grid_template_rows": null,
            "align_self": null,
            "grid_auto_columns": null,
            "width": null,
            "grid_area": null,
            "align_items": null,
            "_view_name": "LayoutView",
            "left": null,
            "height": null,
            "_view_module": "@jupyter-widgets/base",
            "object_position": null,
            "justify_content": null,
            "bottom": null,
            "max_width": null,
            "border": null,
            "margin": null,
            "order": null,
            "grid_column": null,
            "grid_auto_rows": null,
            "padding": null,
            "grid_template_columns": null,
            "justify_items": null,
            "object_fit": null,
            "visibility": null,
            "_view_count": null,
            "flex_flow": null,
            "min_height": null,
            "top": null,
            "min_width": null,
            "flex": null,
            "_model_module_version": "1.2.0",
            "grid_template_areas": null,
            "overflow_x": null,
            "right": null,
            "overflow_y": null,
            "grid_gap": null,
            "align_content": null
          }
        },
        "88fc07112cc541f29a953ae460e4eb6b": {
          "model_module": "@jupyter-widgets/base",
          "model_name": "LayoutModel",
          "model_module_version": "1.2.0",
          "state": {
            "_view_module_version": "1.2.0",
            "_model_name": "LayoutModel",
            "grid_row": null,
            "_model_module": "@jupyter-widgets/base",
            "overflow": null,
            "max_height": null,
            "display": null,
            "grid_auto_flow": null,
            "grid_template_rows": null,
            "align_self": null,
            "grid_auto_columns": null,
            "width": null,
            "grid_area": null,
            "align_items": null,
            "_view_name": "LayoutView",
            "left": null,
            "height": null,
            "_view_module": "@jupyter-widgets/base",
            "object_position": null,
            "justify_content": null,
            "bottom": null,
            "max_width": null,
            "border": null,
            "margin": null,
            "order": null,
            "grid_column": null,
            "grid_auto_rows": null,
            "padding": null,
            "grid_template_columns": null,
            "justify_items": null,
            "object_fit": null,
            "visibility": null,
            "_view_count": null,
            "flex_flow": null,
            "min_height": null,
            "top": null,
            "min_width": null,
            "flex": null,
            "_model_module_version": "1.2.0",
            "grid_template_areas": null,
            "overflow_x": null,
            "right": null,
            "overflow_y": null,
            "grid_gap": null,
            "align_content": null
          }
        },
        "1d960c8a05624ab3b21a8144863817c9": {
          "model_module": "@jupyter-widgets/controls",
          "model_name": "FloatProgressModel",
          "model_module_version": "1.5.0",
          "state": {
            "_view_module_version": "1.5.0",
            "description_tooltip": null,
            "_model_name": "FloatProgressModel",
            "_model_module": "@jupyter-widgets/controls",
            "max": 1500,
            "bar_style": "",
            "_view_name": "ProgressView",
            "_view_module": "@jupyter-widgets/controls",
            "_dom_classes": [],
            "layout": "IPY_MODEL_cfc6e991e5334303bd73cc5f37c43121",
            "orientation": "horizontal",
            "value": 0,
            "style": "IPY_MODEL_7c7839f0177e4c9fb82e7ddae6991c0f",
            "min": 0,
            "_view_count": null,
            "_model_module_version": "1.5.0",
            "description": ""
          }
        },
        "a8db84f17ab342e3b60cc0eb7ccffd02": {
          "model_module": "@jupyter-widgets/controls",
          "model_name": "HTMLModel",
          "model_module_version": "1.5.0",
          "state": {
            "_view_module_version": "1.5.0",
            "description_tooltip": null,
            "_model_name": "HTMLModel",
            "_model_module": "@jupyter-widgets/controls",
            "_view_name": "HTMLView",
            "_view_module": "@jupyter-widgets/controls",
            "_dom_classes": [],
            "layout": "IPY_MODEL_efffb4d3aff44447a83e03702870db77",
            "value": "Running chain 3:   0%",
            "style": "IPY_MODEL_8f5724c3bae44464b353dc605e986106",
            "placeholder": "​",
            "_view_count": null,
            "_model_module_version": "1.5.0",
            "description": ""
          }
        },
        "79318ece1e79418aadf4f2ff481420b9": {
          "model_module": "@jupyter-widgets/controls",
          "model_name": "FloatProgressModel",
          "model_module_version": "1.5.0",
          "state": {
            "_view_module_version": "1.5.0",
            "description_tooltip": null,
            "_model_name": "FloatProgressModel",
            "_model_module": "@jupyter-widgets/controls",
            "max": 1500,
            "bar_style": "",
            "_view_name": "ProgressView",
            "_view_module": "@jupyter-widgets/controls",
            "_dom_classes": [],
            "layout": "IPY_MODEL_bb3195918d1a4d8b81b6f5edb7d18aa9",
            "orientation": "horizontal",
            "value": 0,
            "style": "IPY_MODEL_fc580163cc6042288eb39639c6a5353e",
            "min": 0,
            "_view_count": null,
            "_model_module_version": "1.5.0",
            "description": ""
          }
        },
        "61401a7816e344608e4bf27d69d7eb08": {
          "model_module": "@jupyter-widgets/controls",
          "model_name": "HTMLModel",
          "model_module_version": "1.5.0",
          "state": {
            "_view_module_version": "1.5.0",
            "description_tooltip": null,
            "_model_name": "HTMLModel",
            "_model_module": "@jupyter-widgets/controls",
            "_view_name": "HTMLView",
            "_view_module": "@jupyter-widgets/controls",
            "_dom_classes": [],
            "layout": "IPY_MODEL_0264dd2339654081b73c971e1d349698",
            "value": " 0/1500 [00:16&lt;?, ?it/s]",
            "style": "IPY_MODEL_973ed0a3da4743728bb72cdd7f28c7b6",
            "placeholder": "​",
            "_view_count": null,
            "_model_module_version": "1.5.0",
            "description": ""
          }
        },
        "0f0d58412d3040df9cd7d0f1ea345cb1": {
          "model_module": "@jupyter-widgets/controls",
          "model_name": "DescriptionStyleModel",
          "model_module_version": "1.5.0",
          "state": {
            "_model_module": "@jupyter-widgets/controls",
            "_model_module_version": "1.5.0",
            "_model_name": "DescriptionStyleModel",
            "_view_count": null,
            "_view_module": "@jupyter-widgets/base",
            "_view_module_version": "1.2.0",
            "_view_name": "StyleView",
            "description_width": ""
          }
        },
        "d4e65a2145a6413b85cf3ed7db05972c": {
          "model_module": "@jupyter-widgets/controls",
          "model_name": "FloatProgressModel",
          "model_module_version": "1.5.0",
          "state": {
            "_view_module_version": "1.5.0",
            "description_tooltip": null,
            "_model_name": "FloatProgressModel",
            "_model_module": "@jupyter-widgets/controls",
            "max": 500,
            "bar_style": "success",
            "_view_name": "ProgressView",
            "_view_module": "@jupyter-widgets/controls",
            "_dom_classes": [],
            "layout": "IPY_MODEL_fbec79714b2449629fdd25f9ea7e219d",
            "orientation": "horizontal",
            "value": 500,
            "style": "IPY_MODEL_4883d734b8324a88a189018bc94768f0",
            "min": 0,
            "_view_count": null,
            "_model_module_version": "1.5.0",
            "description": ""
          }
        },
        "5f1047847ffa4e3bbaaa25b3f88c3021": {
          "model_module": "@jupyter-widgets/controls",
          "model_name": "DescriptionStyleModel",
          "model_module_version": "1.5.0",
          "state": {
            "_model_module": "@jupyter-widgets/controls",
            "_model_module_version": "1.5.0",
            "_model_name": "DescriptionStyleModel",
            "_view_count": null,
            "_view_module": "@jupyter-widgets/base",
            "_view_module_version": "1.2.0",
            "_view_name": "StyleView",
            "description_width": ""
          }
        },
        "72c1261a63a244eb84de058f9b48ab32": {
          "model_module": "@jupyter-widgets/base",
          "model_name": "LayoutModel",
          "model_module_version": "1.2.0",
          "state": {
            "_view_module_version": "1.2.0",
            "_model_name": "LayoutModel",
            "grid_row": null,
            "_model_module": "@jupyter-widgets/base",
            "overflow": null,
            "max_height": null,
            "display": null,
            "grid_auto_flow": null,
            "grid_template_rows": null,
            "align_self": null,
            "grid_auto_columns": null,
            "width": null,
            "grid_area": null,
            "align_items": null,
            "_view_name": "LayoutView",
            "left": null,
            "height": null,
            "_view_module": "@jupyter-widgets/base",
            "object_position": null,
            "justify_content": null,
            "bottom": null,
            "max_width": null,
            "border": null,
            "margin": null,
            "order": null,
            "grid_column": null,
            "grid_auto_rows": null,
            "padding": null,
            "grid_template_columns": null,
            "justify_items": null,
            "object_fit": null,
            "visibility": null,
            "_view_count": null,
            "flex_flow": null,
            "min_height": null,
            "top": null,
            "min_width": null,
            "flex": null,
            "_model_module_version": "1.2.0",
            "grid_template_areas": null,
            "overflow_x": null,
            "right": null,
            "overflow_y": null,
            "grid_gap": null,
            "align_content": null
          }
        },
        "8f5724c3bae44464b353dc605e986106": {
          "model_module": "@jupyter-widgets/controls",
          "model_name": "DescriptionStyleModel",
          "model_module_version": "1.5.0",
          "state": {
            "_model_module": "@jupyter-widgets/controls",
            "_model_module_version": "1.5.0",
            "_model_name": "DescriptionStyleModel",
            "_view_count": null,
            "_view_module": "@jupyter-widgets/base",
            "_view_module_version": "1.2.0",
            "_view_name": "StyleView",
            "description_width": ""
          }
        },
        "bb3195918d1a4d8b81b6f5edb7d18aa9": {
          "model_module": "@jupyter-widgets/base",
          "model_name": "LayoutModel",
          "model_module_version": "1.2.0",
          "state": {
            "_view_module_version": "1.2.0",
            "_model_name": "LayoutModel",
            "grid_row": null,
            "_model_module": "@jupyter-widgets/base",
            "overflow": null,
            "max_height": null,
            "display": null,
            "grid_auto_flow": null,
            "grid_template_rows": null,
            "align_self": null,
            "grid_auto_columns": null,
            "width": null,
            "grid_area": null,
            "align_items": null,
            "_view_name": "LayoutView",
            "left": null,
            "height": null,
            "_view_module": "@jupyter-widgets/base",
            "object_position": null,
            "justify_content": null,
            "bottom": null,
            "max_width": null,
            "border": null,
            "margin": null,
            "order": null,
            "grid_column": null,
            "grid_auto_rows": null,
            "padding": null,
            "grid_template_columns": null,
            "justify_items": null,
            "object_fit": null,
            "visibility": null,
            "_view_count": null,
            "flex_flow": null,
            "min_height": null,
            "top": null,
            "min_width": null,
            "flex": null,
            "_model_module_version": "1.2.0",
            "grid_template_areas": null,
            "overflow_x": null,
            "right": null,
            "overflow_y": null,
            "grid_gap": null,
            "align_content": null
          }
        },
        "23b2563efa924287adb121619ec87649": {
          "model_module": "@jupyter-widgets/controls",
          "model_name": "HTMLModel",
          "model_module_version": "1.5.0",
          "state": {
            "_view_module_version": "1.5.0",
            "description_tooltip": null,
            "_model_name": "HTMLModel",
            "_model_module": "@jupyter-widgets/controls",
            "_view_name": "HTMLView",
            "_view_module": "@jupyter-widgets/controls",
            "_dom_classes": [],
            "layout": "IPY_MODEL_df9fa335f851461285fb79e370289997",
            "value": "Running chain 3: 100%",
            "style": "IPY_MODEL_c4627d5000b949f3ae8d21cdcce46b64",
            "placeholder": "​",
            "_view_count": null,
            "_model_module_version": "1.5.0",
            "description": ""
          }
        },
        "59d0bab7586a453883255fc2d3076d9e": {
          "model_module": "@jupyter-widgets/controls",
          "model_name": "ProgressStyleModel",
          "model_module_version": "1.5.0",
          "state": {
            "_view_module_version": "1.2.0",
            "_model_name": "ProgressStyleModel",
            "_model_module": "@jupyter-widgets/controls",
            "description_width": "",
            "_view_name": "StyleView",
            "_view_module": "@jupyter-widgets/base",
            "_view_count": null,
            "bar_color": null,
            "_model_module_version": "1.5.0"
          }
        },
        "f656563d50e64517b9b21b2243f3456b": {
          "model_module": "@jupyter-widgets/base",
          "model_name": "LayoutModel",
          "model_module_version": "1.2.0",
          "state": {
            "_view_module_version": "1.2.0",
            "_model_name": "LayoutModel",
            "grid_row": null,
            "_model_module": "@jupyter-widgets/base",
            "overflow": null,
            "max_height": null,
            "display": null,
            "grid_auto_flow": null,
            "grid_template_rows": null,
            "align_self": null,
            "grid_auto_columns": null,
            "width": null,
            "grid_area": null,
            "align_items": null,
            "_view_name": "LayoutView",
            "left": null,
            "height": null,
            "_view_module": "@jupyter-widgets/base",
            "object_position": null,
            "justify_content": null,
            "bottom": null,
            "max_width": null,
            "border": null,
            "margin": null,
            "order": null,
            "grid_column": null,
            "grid_auto_rows": null,
            "padding": null,
            "grid_template_columns": null,
            "justify_items": null,
            "object_fit": null,
            "visibility": null,
            "_view_count": null,
            "flex_flow": null,
            "min_height": null,
            "top": null,
            "min_width": null,
            "flex": null,
            "_model_module_version": "1.2.0",
            "grid_template_areas": null,
            "overflow_x": null,
            "right": null,
            "overflow_y": null,
            "grid_gap": null,
            "align_content": null
          }
        },
        "c4627d5000b949f3ae8d21cdcce46b64": {
          "model_module": "@jupyter-widgets/controls",
          "model_name": "DescriptionStyleModel",
          "model_module_version": "1.5.0",
          "state": {
            "_model_module": "@jupyter-widgets/controls",
            "_model_module_version": "1.5.0",
            "_model_name": "DescriptionStyleModel",
            "_view_count": null,
            "_view_module": "@jupyter-widgets/base",
            "_view_module_version": "1.2.0",
            "_view_name": "StyleView",
            "description_width": ""
          }
        },
        "8f2094d22c644911b6e36863fcb89c11": {
          "model_module": "@jupyter-widgets/controls",
          "model_name": "HTMLModel",
          "model_module_version": "1.5.0",
          "state": {
            "_view_module_version": "1.5.0",
            "description_tooltip": null,
            "_model_name": "HTMLModel",
            "_model_module": "@jupyter-widgets/controls",
            "_view_name": "HTMLView",
            "_view_module": "@jupyter-widgets/controls",
            "_dom_classes": [],
            "layout": "IPY_MODEL_4f9556068e7b42b1a839b41c6ba15eb5",
            "value": " 0/1500 [00:17&lt;?, ?it/s]",
            "style": "IPY_MODEL_9476709813484f088d58f2c7c0637e20",
            "placeholder": "​",
            "_view_count": null,
            "_model_module_version": "1.5.0",
            "description": ""
          }
        },
        "4aa01ab786564b779b7a9870bc466e40": {
          "model_module": "@jupyter-widgets/base",
          "model_name": "LayoutModel",
          "model_module_version": "1.2.0",
          "state": {
            "_view_module_version": "1.2.0",
            "_model_name": "LayoutModel",
            "grid_row": null,
            "_model_module": "@jupyter-widgets/base",
            "overflow": null,
            "max_height": null,
            "display": null,
            "grid_auto_flow": null,
            "grid_template_rows": null,
            "align_self": null,
            "grid_auto_columns": null,
            "width": null,
            "grid_area": null,
            "align_items": null,
            "_view_name": "LayoutView",
            "left": null,
            "height": null,
            "_view_module": "@jupyter-widgets/base",
            "object_position": null,
            "justify_content": null,
            "bottom": null,
            "max_width": null,
            "border": null,
            "margin": null,
            "order": null,
            "grid_column": null,
            "grid_auto_rows": null,
            "padding": null,
            "grid_template_columns": null,
            "justify_items": null,
            "object_fit": null,
            "visibility": null,
            "_view_count": null,
            "flex_flow": null,
            "min_height": null,
            "top": null,
            "min_width": null,
            "flex": null,
            "_model_module_version": "1.2.0",
            "grid_template_areas": null,
            "overflow_x": null,
            "right": null,
            "overflow_y": null,
            "grid_gap": null,
            "align_content": null
          }
        },
        "63c2d6848e614ce7af56a171bcb01568": {
          "model_module": "@jupyter-widgets/base",
          "model_name": "LayoutModel",
          "model_module_version": "1.2.0",
          "state": {
            "_view_module_version": "1.2.0",
            "_model_name": "LayoutModel",
            "grid_row": null,
            "_model_module": "@jupyter-widgets/base",
            "overflow": null,
            "max_height": null,
            "display": null,
            "grid_auto_flow": null,
            "grid_template_rows": null,
            "align_self": null,
            "grid_auto_columns": null,
            "width": null,
            "grid_area": null,
            "align_items": null,
            "_view_name": "LayoutView",
            "left": null,
            "height": null,
            "_view_module": "@jupyter-widgets/base",
            "object_position": null,
            "justify_content": null,
            "bottom": null,
            "max_width": null,
            "border": null,
            "margin": null,
            "order": null,
            "grid_column": null,
            "grid_auto_rows": null,
            "padding": null,
            "grid_template_columns": null,
            "justify_items": null,
            "object_fit": null,
            "visibility": null,
            "_view_count": null,
            "flex_flow": null,
            "min_height": null,
            "top": null,
            "min_width": null,
            "flex": null,
            "_model_module_version": "1.2.0",
            "grid_template_areas": null,
            "overflow_x": null,
            "right": null,
            "overflow_y": null,
            "grid_gap": null,
            "align_content": null
          }
        },
        "c5253a84f01442d7a032027f49962738": {
          "model_module": "@jupyter-widgets/base",
          "model_name": "LayoutModel",
          "model_module_version": "1.2.0",
          "state": {
            "_view_module_version": "1.2.0",
            "_model_name": "LayoutModel",
            "grid_row": null,
            "_model_module": "@jupyter-widgets/base",
            "overflow": null,
            "max_height": null,
            "display": null,
            "grid_auto_flow": null,
            "grid_template_rows": null,
            "align_self": null,
            "grid_auto_columns": null,
            "width": null,
            "grid_area": null,
            "align_items": null,
            "_view_name": "LayoutView",
            "left": null,
            "height": null,
            "_view_module": "@jupyter-widgets/base",
            "object_position": null,
            "justify_content": null,
            "bottom": null,
            "max_width": null,
            "border": null,
            "margin": null,
            "order": null,
            "grid_column": null,
            "grid_auto_rows": null,
            "padding": null,
            "grid_template_columns": null,
            "justify_items": null,
            "object_fit": null,
            "visibility": null,
            "_view_count": null,
            "flex_flow": null,
            "min_height": null,
            "top": null,
            "min_width": null,
            "flex": null,
            "_model_module_version": "1.2.0",
            "grid_template_areas": null,
            "overflow_x": null,
            "right": null,
            "overflow_y": null,
            "grid_gap": null,
            "align_content": null
          }
        },
        "fa90b637010e42f8b6774a80293aec8d": {
          "model_module": "@jupyter-widgets/controls",
          "model_name": "HTMLModel",
          "model_module_version": "1.5.0",
          "state": {
            "_view_module_version": "1.5.0",
            "description_tooltip": null,
            "_model_name": "HTMLModel",
            "_model_module": "@jupyter-widgets/controls",
            "_view_name": "HTMLView",
            "_view_module": "@jupyter-widgets/controls",
            "_dom_classes": [],
            "layout": "IPY_MODEL_4aa01ab786564b779b7a9870bc466e40",
            "value": "Running chain 0: 100%",
            "style": "IPY_MODEL_352cb73c88bd40b0bb439554f2895cc3",
            "placeholder": "​",
            "_view_count": null,
            "_model_module_version": "1.5.0",
            "description": ""
          }
        },
        "e143f0d583a641f7964af0cda03af548": {
          "model_module": "@jupyter-widgets/controls",
          "model_name": "FloatProgressModel",
          "model_module_version": "1.5.0",
          "state": {
            "_view_module_version": "1.5.0",
            "description_tooltip": null,
            "_model_name": "FloatProgressModel",
            "_model_module": "@jupyter-widgets/controls",
            "max": 500,
            "bar_style": "success",
            "_view_name": "ProgressView",
            "_view_module": "@jupyter-widgets/controls",
            "_dom_classes": [],
            "layout": "IPY_MODEL_07419249ad314fdab6c7cfcc1984ef1f",
            "orientation": "horizontal",
            "value": 500,
            "style": "IPY_MODEL_ccb326eb09fb4c2e8c5473fa9ca8f4b1",
            "min": 0,
            "_view_count": null,
            "_model_module_version": "1.5.0",
            "description": ""
          }
        },
        "a708956e164a4b108b81109785185079": {
          "model_module": "@jupyter-widgets/base",
          "model_name": "LayoutModel",
          "model_module_version": "1.2.0",
          "state": {
            "_view_module_version": "1.2.0",
            "_model_name": "LayoutModel",
            "grid_row": null,
            "_model_module": "@jupyter-widgets/base",
            "overflow": null,
            "max_height": null,
            "display": null,
            "grid_auto_flow": null,
            "grid_template_rows": null,
            "align_self": null,
            "grid_auto_columns": null,
            "width": null,
            "grid_area": null,
            "align_items": null,
            "_view_name": "LayoutView",
            "left": null,
            "height": null,
            "_view_module": "@jupyter-widgets/base",
            "object_position": null,
            "justify_content": null,
            "bottom": null,
            "max_width": null,
            "border": null,
            "margin": null,
            "order": null,
            "grid_column": null,
            "grid_auto_rows": null,
            "padding": null,
            "grid_template_columns": null,
            "justify_items": null,
            "object_fit": null,
            "visibility": null,
            "_view_count": null,
            "flex_flow": null,
            "min_height": null,
            "top": null,
            "min_width": null,
            "flex": null,
            "_model_module_version": "1.2.0",
            "grid_template_areas": null,
            "overflow_x": null,
            "right": null,
            "overflow_y": null,
            "grid_gap": null,
            "align_content": null
          }
        },
        "352cb73c88bd40b0bb439554f2895cc3": {
          "model_module": "@jupyter-widgets/controls",
          "model_name": "DescriptionStyleModel",
          "model_module_version": "1.5.0",
          "state": {
            "_model_module": "@jupyter-widgets/controls",
            "_model_module_version": "1.5.0",
            "_model_name": "DescriptionStyleModel",
            "_view_count": null,
            "_view_module": "@jupyter-widgets/base",
            "_view_module_version": "1.2.0",
            "_view_name": "StyleView",
            "description_width": ""
          }
        },
        "d7caa241b8e24ae8b02019ebad91180e": {
          "model_module": "@jupyter-widgets/controls",
          "model_name": "DescriptionStyleModel",
          "model_module_version": "1.5.0",
          "state": {
            "_model_module": "@jupyter-widgets/controls",
            "_model_module_version": "1.5.0",
            "_model_name": "DescriptionStyleModel",
            "_view_count": null,
            "_view_module": "@jupyter-widgets/base",
            "_view_module_version": "1.2.0",
            "_view_name": "StyleView",
            "description_width": ""
          }
        },
        "ff288a6b404048eba92341d6656abfab": {
          "model_module": "@jupyter-widgets/base",
          "model_name": "LayoutModel",
          "model_module_version": "1.2.0",
          "state": {
            "_view_module_version": "1.2.0",
            "_model_name": "LayoutModel",
            "grid_row": null,
            "_model_module": "@jupyter-widgets/base",
            "overflow": null,
            "max_height": null,
            "display": null,
            "grid_auto_flow": null,
            "grid_template_rows": null,
            "align_self": null,
            "grid_auto_columns": null,
            "width": null,
            "grid_area": null,
            "align_items": null,
            "_view_name": "LayoutView",
            "left": null,
            "height": null,
            "_view_module": "@jupyter-widgets/base",
            "object_position": null,
            "justify_content": null,
            "bottom": null,
            "max_width": null,
            "border": null,
            "margin": null,
            "order": null,
            "grid_column": null,
            "grid_auto_rows": null,
            "padding": null,
            "grid_template_columns": null,
            "justify_items": null,
            "object_fit": null,
            "visibility": null,
            "_view_count": null,
            "flex_flow": null,
            "min_height": null,
            "top": null,
            "min_width": null,
            "flex": null,
            "_model_module_version": "1.2.0",
            "grid_template_areas": null,
            "overflow_x": null,
            "right": null,
            "overflow_y": null,
            "grid_gap": null,
            "align_content": null
          }
        },
        "dcdc21b374d649438b49183d06f55a46": {
          "model_module": "@jupyter-widgets/base",
          "model_name": "LayoutModel",
          "model_module_version": "1.2.0",
          "state": {
            "_view_module_version": "1.2.0",
            "_model_name": "LayoutModel",
            "grid_row": null,
            "_model_module": "@jupyter-widgets/base",
            "overflow": null,
            "max_height": null,
            "display": null,
            "grid_auto_flow": null,
            "grid_template_rows": null,
            "align_self": null,
            "grid_auto_columns": null,
            "width": null,
            "grid_area": null,
            "align_items": null,
            "_view_name": "LayoutView",
            "left": null,
            "height": null,
            "_view_module": "@jupyter-widgets/base",
            "object_position": null,
            "justify_content": null,
            "bottom": null,
            "max_width": null,
            "border": null,
            "margin": null,
            "order": null,
            "grid_column": null,
            "grid_auto_rows": null,
            "padding": null,
            "grid_template_columns": null,
            "justify_items": null,
            "object_fit": null,
            "visibility": null,
            "_view_count": null,
            "flex_flow": null,
            "min_height": null,
            "top": null,
            "min_width": null,
            "flex": null,
            "_model_module_version": "1.2.0",
            "grid_template_areas": null,
            "overflow_x": null,
            "right": null,
            "overflow_y": null,
            "grid_gap": null,
            "align_content": null
          }
        },
        "f865106994b7499489724b0fc40205e5": {
          "model_module": "@jupyter-widgets/controls",
          "model_name": "HTMLModel",
          "model_module_version": "1.5.0",
          "state": {
            "_view_module_version": "1.5.0",
            "description_tooltip": null,
            "_model_name": "HTMLModel",
            "_model_module": "@jupyter-widgets/controls",
            "_view_name": "HTMLView",
            "_view_module": "@jupyter-widgets/controls",
            "_dom_classes": [],
            "layout": "IPY_MODEL_a9cf1a7de6914e19a9de44f898a6805c",
            "value": " 0/1500 [00:17&lt;?, ?it/s]",
            "style": "IPY_MODEL_0f4e1744851441ff986f4f7bbd871f36",
            "placeholder": "​",
            "_view_count": null,
            "_model_module_version": "1.5.0",
            "description": ""
          }
        },
        "02d1dc9b3e5b4feab636e61816f4d7e8": {
          "model_module": "@jupyter-widgets/base",
          "model_name": "LayoutModel",
          "model_module_version": "1.2.0",
          "state": {
            "_view_module_version": "1.2.0",
            "_model_name": "LayoutModel",
            "grid_row": null,
            "_model_module": "@jupyter-widgets/base",
            "overflow": null,
            "max_height": null,
            "display": null,
            "grid_auto_flow": null,
            "grid_template_rows": null,
            "align_self": null,
            "grid_auto_columns": null,
            "width": null,
            "grid_area": null,
            "align_items": null,
            "_view_name": "LayoutView",
            "left": null,
            "height": null,
            "_view_module": "@jupyter-widgets/base",
            "object_position": null,
            "justify_content": null,
            "bottom": null,
            "max_width": null,
            "border": null,
            "margin": null,
            "order": null,
            "grid_column": null,
            "grid_auto_rows": null,
            "padding": null,
            "grid_template_columns": null,
            "justify_items": null,
            "object_fit": null,
            "visibility": null,
            "_view_count": null,
            "flex_flow": null,
            "min_height": null,
            "top": null,
            "min_width": null,
            "flex": null,
            "_model_module_version": "1.2.0",
            "grid_template_areas": null,
            "overflow_x": null,
            "right": null,
            "overflow_y": null,
            "grid_gap": null,
            "align_content": null
          }
        },
        "f54286792c8b4343b4c67f541006ef7d": {
          "model_module": "@jupyter-widgets/controls",
          "model_name": "HTMLModel",
          "model_module_version": "1.5.0",
          "state": {
            "_view_module_version": "1.5.0",
            "description_tooltip": null,
            "_model_name": "HTMLModel",
            "_model_module": "@jupyter-widgets/controls",
            "_view_name": "HTMLView",
            "_view_module": "@jupyter-widgets/controls",
            "_dom_classes": [],
            "layout": "IPY_MODEL_c2fc0f097c4d4773b8563b7f4c09752d",
            "value": " 500/500 [9:58:52&lt;00:00, 80.73s/it]",
            "style": "IPY_MODEL_0f0d58412d3040df9cd7d0f1ea345cb1",
            "placeholder": "​",
            "_view_count": null,
            "_model_module_version": "1.5.0",
            "description": ""
          }
        },
        "5fca987b8336459f9d0b277779596dd6": {
          "model_module": "@jupyter-widgets/controls",
          "model_name": "ProgressStyleModel",
          "model_module_version": "1.5.0",
          "state": {
            "_view_module_version": "1.2.0",
            "_model_name": "ProgressStyleModel",
            "_model_module": "@jupyter-widgets/controls",
            "description_width": "",
            "_view_name": "StyleView",
            "_view_module": "@jupyter-widgets/base",
            "_view_count": null,
            "bar_color": null,
            "_model_module_version": "1.5.0"
          }
        },
        "1c1cf4b764364335a213da6832eeafc2": {
          "model_module": "@jupyter-widgets/base",
          "model_name": "LayoutModel",
          "model_module_version": "1.2.0",
          "state": {
            "_view_module_version": "1.2.0",
            "_model_name": "LayoutModel",
            "grid_row": null,
            "_model_module": "@jupyter-widgets/base",
            "overflow": null,
            "max_height": null,
            "display": null,
            "grid_auto_flow": null,
            "grid_template_rows": null,
            "align_self": null,
            "grid_auto_columns": null,
            "width": null,
            "grid_area": null,
            "align_items": null,
            "_view_name": "LayoutView",
            "left": null,
            "height": null,
            "_view_module": "@jupyter-widgets/base",
            "object_position": null,
            "justify_content": null,
            "bottom": null,
            "max_width": null,
            "border": null,
            "margin": null,
            "order": null,
            "grid_column": null,
            "grid_auto_rows": null,
            "padding": null,
            "grid_template_columns": null,
            "justify_items": null,
            "object_fit": null,
            "visibility": null,
            "_view_count": null,
            "flex_flow": null,
            "min_height": null,
            "top": null,
            "min_width": null,
            "flex": null,
            "_model_module_version": "1.2.0",
            "grid_template_areas": null,
            "overflow_x": null,
            "right": null,
            "overflow_y": null,
            "grid_gap": null,
            "align_content": null
          }
        },
        "f73a564a6b8542eebcd0ea622f9b3391": {
          "model_module": "@jupyter-widgets/controls",
          "model_name": "HTMLModel",
          "model_module_version": "1.5.0",
          "state": {
            "_view_module_version": "1.5.0",
            "description_tooltip": null,
            "_model_name": "HTMLModel",
            "_model_module": "@jupyter-widgets/controls",
            "_view_name": "HTMLView",
            "_view_module": "@jupyter-widgets/controls",
            "_dom_classes": [],
            "layout": "IPY_MODEL_dba6cd6afdbe449892acd4efd29e8566",
            "value": " 500/500 [10:04:55&lt;00:00, 80.04s/it]",
            "style": "IPY_MODEL_8981bc34295447b189a94e1b57ed12d6",
            "placeholder": "​",
            "_view_count": null,
            "_model_module_version": "1.5.0",
            "description": ""
          }
        },
        "a42a7ce0444d44c2b244c462c5039b72": {
          "model_module": "@jupyter-widgets/controls",
          "model_name": "FloatProgressModel",
          "model_module_version": "1.5.0",
          "state": {
            "_view_module_version": "1.5.0",
            "description_tooltip": null,
            "_model_name": "FloatProgressModel",
            "_model_module": "@jupyter-widgets/controls",
            "max": 1500,
            "bar_style": "",
            "_view_name": "ProgressView",
            "_view_module": "@jupyter-widgets/controls",
            "_dom_classes": [],
            "layout": "IPY_MODEL_1c1cf4b764364335a213da6832eeafc2",
            "orientation": "horizontal",
            "value": 0,
            "style": "IPY_MODEL_5fca987b8336459f9d0b277779596dd6",
            "min": 0,
            "_view_count": null,
            "_model_module_version": "1.5.0",
            "description": ""
          }
        },
        "c73864ec9d9545e4b866152b55168282": {
          "model_module": "@jupyter-widgets/controls",
          "model_name": "HTMLModel",
          "model_module_version": "1.5.0",
          "state": {
            "_view_module_version": "1.5.0",
            "description_tooltip": null,
            "_model_name": "HTMLModel",
            "_model_module": "@jupyter-widgets/controls",
            "_view_name": "HTMLView",
            "_view_module": "@jupyter-widgets/controls",
            "_dom_classes": [],
            "layout": "IPY_MODEL_7e9c0c99fb3a488dbf327145b737ab64",
            "value": "Running chain 2:   0%",
            "style": "IPY_MODEL_12d5e3af5d00487aa61921a4b0ca5585",
            "placeholder": "​",
            "_view_count": null,
            "_model_module_version": "1.5.0",
            "description": ""
          }
        },
        "22781087ce1948288a9b8297c09196f6": {
          "model_module": "@jupyter-widgets/controls",
          "model_name": "HBoxModel",
          "model_module_version": "1.5.0",
          "state": {
            "_view_module_version": "1.5.0",
            "_model_name": "HBoxModel",
            "_model_module": "@jupyter-widgets/controls",
            "_view_name": "HBoxView",
            "_view_module": "@jupyter-widgets/controls",
            "_dom_classes": [],
            "layout": "IPY_MODEL_382b70a4c9314806bad702c9c0d9d9d9",
            "_view_count": null,
            "_model_module_version": "1.5.0",
            "box_style": "",
            "children": [
              "IPY_MODEL_c73864ec9d9545e4b866152b55168282",
              "IPY_MODEL_6bd3cbc87b93432192ba8a15eeba7e74",
              "IPY_MODEL_f865106994b7499489724b0fc40205e5"
            ]
          }
        },
        "0f4e1744851441ff986f4f7bbd871f36": {
          "model_module": "@jupyter-widgets/controls",
          "model_name": "DescriptionStyleModel",
          "model_module_version": "1.5.0",
          "state": {
            "_model_module": "@jupyter-widgets/controls",
            "_model_module_version": "1.5.0",
            "_model_name": "DescriptionStyleModel",
            "_view_count": null,
            "_view_module": "@jupyter-widgets/base",
            "_view_module_version": "1.2.0",
            "_view_name": "StyleView",
            "description_width": ""
          }
        },
        "208d5e7433164664ba15b251d508813f": {
          "model_module": "@jupyter-widgets/controls",
          "model_name": "HTMLModel",
          "model_module_version": "1.5.0",
          "state": {
            "_view_module_version": "1.5.0",
            "description_tooltip": null,
            "_model_name": "HTMLModel",
            "_model_module": "@jupyter-widgets/controls",
            "_view_name": "HTMLView",
            "_view_module": "@jupyter-widgets/controls",
            "_dom_classes": [],
            "layout": "IPY_MODEL_dcdc21b374d649438b49183d06f55a46",
            "value": " 500/500 [9:57:27&lt;00:00, 80.91s/it]",
            "style": "IPY_MODEL_5f1047847ffa4e3bbaaa25b3f88c3021",
            "placeholder": "​",
            "_view_count": null,
            "_model_module_version": "1.5.0",
            "description": ""
          }
        },
        "6597781b3dce4e4cac31ef57e5d72fd8": {
          "model_module": "@jupyter-widgets/base",
          "model_name": "LayoutModel",
          "model_module_version": "1.2.0",
          "state": {
            "_view_module_version": "1.2.0",
            "_model_name": "LayoutModel",
            "grid_row": null,
            "_model_module": "@jupyter-widgets/base",
            "overflow": null,
            "max_height": null,
            "display": null,
            "grid_auto_flow": null,
            "grid_template_rows": null,
            "align_self": null,
            "grid_auto_columns": null,
            "width": null,
            "grid_area": null,
            "align_items": null,
            "_view_name": "LayoutView",
            "left": null,
            "height": null,
            "_view_module": "@jupyter-widgets/base",
            "object_position": null,
            "justify_content": null,
            "bottom": null,
            "max_width": null,
            "border": null,
            "margin": null,
            "order": null,
            "grid_column": null,
            "grid_auto_rows": null,
            "padding": null,
            "grid_template_columns": null,
            "justify_items": null,
            "object_fit": null,
            "visibility": null,
            "_view_count": null,
            "flex_flow": null,
            "min_height": null,
            "top": null,
            "min_width": null,
            "flex": null,
            "_model_module_version": "1.2.0",
            "grid_template_areas": null,
            "overflow_x": null,
            "right": null,
            "overflow_y": null,
            "grid_gap": null,
            "align_content": null
          }
        },
        "7bffefb3a8b44e8b8a2f17c0d03da1e7": {
          "model_module": "@jupyter-widgets/controls",
          "model_name": "ProgressStyleModel",
          "model_module_version": "1.5.0",
          "state": {
            "_view_module_version": "1.2.0",
            "_model_name": "ProgressStyleModel",
            "_model_module": "@jupyter-widgets/controls",
            "description_width": "",
            "_view_name": "StyleView",
            "_view_module": "@jupyter-widgets/base",
            "_view_count": null,
            "bar_color": null,
            "_model_module_version": "1.5.0"
          }
        },
        "fe584f5592c24dbbabc668b55991a2d3": {
          "model_module": "@jupyter-widgets/controls",
          "model_name": "HTMLModel",
          "model_module_version": "1.5.0",
          "state": {
            "_view_module_version": "1.5.0",
            "description_tooltip": null,
            "_model_name": "HTMLModel",
            "_model_module": "@jupyter-widgets/controls",
            "_view_name": "HTMLView",
            "_view_module": "@jupyter-widgets/controls",
            "_dom_classes": [],
            "layout": "IPY_MODEL_6597781b3dce4e4cac31ef57e5d72fd8",
            "value": "Running chain 2: 100%",
            "style": "IPY_MODEL_005375d7d9be404fa7bfae5ac5f079ea",
            "placeholder": "​",
            "_view_count": null,
            "_model_module_version": "1.5.0",
            "description": ""
          }
        },
        "32232e5015d7485c904332cbf46a9dbd": {
          "model_module": "@jupyter-widgets/controls",
          "model_name": "HTMLModel",
          "model_module_version": "1.5.0",
          "state": {
            "_view_module_version": "1.5.0",
            "description_tooltip": null,
            "_model_name": "HTMLModel",
            "_model_module": "@jupyter-widgets/controls",
            "_view_name": "HTMLView",
            "_view_module": "@jupyter-widgets/controls",
            "_dom_classes": [],
            "layout": "IPY_MODEL_ff288a6b404048eba92341d6656abfab",
            "value": " 500/500 [10:07:56&lt;00:00, 79.62s/it]",
            "style": "IPY_MODEL_d7caa241b8e24ae8b02019ebad91180e",
            "placeholder": "​",
            "_view_count": null,
            "_model_module_version": "1.5.0",
            "description": ""
          }
        },
        "dd538ed15f62431194c6f38b57676da9": {
          "model_module": "@jupyter-widgets/controls",
          "model_name": "DescriptionStyleModel",
          "model_module_version": "1.5.0",
          "state": {
            "_model_module": "@jupyter-widgets/controls",
            "_model_module_version": "1.5.0",
            "_model_name": "DescriptionStyleModel",
            "_view_count": null,
            "_view_module": "@jupyter-widgets/base",
            "_view_module_version": "1.2.0",
            "_view_name": "StyleView",
            "description_width": ""
          }
        },
        "9886c8886234435c9f260e677a5bc848": {
          "model_module": "@jupyter-widgets/controls",
          "model_name": "ProgressStyleModel",
          "model_module_version": "1.5.0",
          "state": {
            "_view_module_version": "1.2.0",
            "_model_name": "ProgressStyleModel",
            "_model_module": "@jupyter-widgets/controls",
            "description_width": "",
            "_view_name": "StyleView",
            "_view_module": "@jupyter-widgets/base",
            "_view_count": null,
            "bar_color": null,
            "_model_module_version": "1.5.0"
          }
        },
        "e5b1050cde7141f6b91d6928d01c8a71": {
          "model_module": "@jupyter-widgets/controls",
          "model_name": "DescriptionStyleModel",
          "model_module_version": "1.5.0",
          "state": {
            "_model_module": "@jupyter-widgets/controls",
            "_model_module_version": "1.5.0",
            "_model_name": "DescriptionStyleModel",
            "_view_count": null,
            "_view_module": "@jupyter-widgets/base",
            "_view_module_version": "1.2.0",
            "_view_name": "StyleView",
            "description_width": ""
          }
        },
        "34df30efb0144e0f95a586b58808e776": {
          "model_module": "@jupyter-widgets/base",
          "model_name": "LayoutModel",
          "model_module_version": "1.2.0",
          "state": {
            "_view_module_version": "1.2.0",
            "_model_name": "LayoutModel",
            "grid_row": null,
            "_model_module": "@jupyter-widgets/base",
            "overflow": null,
            "max_height": null,
            "display": null,
            "grid_auto_flow": null,
            "grid_template_rows": null,
            "align_self": null,
            "grid_auto_columns": null,
            "width": null,
            "grid_area": null,
            "align_items": null,
            "_view_name": "LayoutView",
            "left": null,
            "height": null,
            "_view_module": "@jupyter-widgets/base",
            "object_position": null,
            "justify_content": null,
            "bottom": null,
            "max_width": null,
            "border": null,
            "margin": null,
            "order": null,
            "grid_column": null,
            "grid_auto_rows": null,
            "padding": null,
            "grid_template_columns": null,
            "justify_items": null,
            "object_fit": null,
            "visibility": null,
            "_view_count": null,
            "flex_flow": null,
            "min_height": null,
            "top": null,
            "min_width": null,
            "flex": null,
            "_model_module_version": "1.2.0",
            "grid_template_areas": null,
            "overflow_x": null,
            "right": null,
            "overflow_y": null,
            "grid_gap": null,
            "align_content": null
          }
        },
        "d1cfb1ab3d644093b7871fe72eb6fe7e": {
          "model_module": "@jupyter-widgets/controls",
          "model_name": "HBoxModel",
          "model_module_version": "1.5.0",
          "state": {
            "_view_module_version": "1.5.0",
            "_model_name": "HBoxModel",
            "_model_module": "@jupyter-widgets/controls",
            "_view_name": "HBoxView",
            "_view_module": "@jupyter-widgets/controls",
            "_dom_classes": [],
            "layout": "IPY_MODEL_a708956e164a4b108b81109785185079",
            "_view_count": null,
            "_model_module_version": "1.5.0",
            "box_style": "",
            "children": [
              "IPY_MODEL_a8db84f17ab342e3b60cc0eb7ccffd02",
              "IPY_MODEL_79318ece1e79418aadf4f2ff481420b9",
              "IPY_MODEL_8f2094d22c644911b6e36863fcb89c11"
            ]
          }
        },
        "20ca682fed0c44c2bb6c3b25b8287e91": {
          "model_module": "@jupyter-widgets/controls",
          "model_name": "HBoxModel",
          "model_module_version": "1.5.0",
          "state": {
            "_view_module_version": "1.5.0",
            "_model_name": "HBoxModel",
            "_model_module": "@jupyter-widgets/controls",
            "_view_name": "HBoxView",
            "_view_module": "@jupyter-widgets/controls",
            "_dom_classes": [],
            "layout": "IPY_MODEL_2bf6a56f416b4f5aba9fd78dab746778",
            "_view_count": null,
            "_model_module_version": "1.5.0",
            "box_style": "",
            "children": [
              "IPY_MODEL_fa90b637010e42f8b6774a80293aec8d",
              "IPY_MODEL_e143f0d583a641f7964af0cda03af548",
              "IPY_MODEL_208d5e7433164664ba15b251d508813f"
            ]
          }
        },
        "382b70a4c9314806bad702c9c0d9d9d9": {
          "model_module": "@jupyter-widgets/base",
          "model_name": "LayoutModel",
          "model_module_version": "1.2.0",
          "state": {
            "_view_module_version": "1.2.0",
            "_model_name": "LayoutModel",
            "grid_row": null,
            "_model_module": "@jupyter-widgets/base",
            "overflow": null,
            "max_height": null,
            "display": null,
            "grid_auto_flow": null,
            "grid_template_rows": null,
            "align_self": null,
            "grid_auto_columns": null,
            "width": null,
            "grid_area": null,
            "align_items": null,
            "_view_name": "LayoutView",
            "left": null,
            "height": null,
            "_view_module": "@jupyter-widgets/base",
            "object_position": null,
            "justify_content": null,
            "bottom": null,
            "max_width": null,
            "border": null,
            "margin": null,
            "order": null,
            "grid_column": null,
            "grid_auto_rows": null,
            "padding": null,
            "grid_template_columns": null,
            "justify_items": null,
            "object_fit": null,
            "visibility": null,
            "_view_count": null,
            "flex_flow": null,
            "min_height": null,
            "top": null,
            "min_width": null,
            "flex": null,
            "_model_module_version": "1.2.0",
            "grid_template_areas": null,
            "overflow_x": null,
            "right": null,
            "overflow_y": null,
            "grid_gap": null,
            "align_content": null
          }
        },
        "cfc6e991e5334303bd73cc5f37c43121": {
          "model_module": "@jupyter-widgets/base",
          "model_name": "LayoutModel",
          "model_module_version": "1.2.0",
          "state": {
            "_view_module_version": "1.2.0",
            "_model_name": "LayoutModel",
            "grid_row": null,
            "_model_module": "@jupyter-widgets/base",
            "overflow": null,
            "max_height": null,
            "display": null,
            "grid_auto_flow": null,
            "grid_template_rows": null,
            "align_self": null,
            "grid_auto_columns": null,
            "width": null,
            "grid_area": null,
            "align_items": null,
            "_view_name": "LayoutView",
            "left": null,
            "height": null,
            "_view_module": "@jupyter-widgets/base",
            "object_position": null,
            "justify_content": null,
            "bottom": null,
            "max_width": null,
            "border": null,
            "margin": null,
            "order": null,
            "grid_column": null,
            "grid_auto_rows": null,
            "padding": null,
            "grid_template_columns": null,
            "justify_items": null,
            "object_fit": null,
            "visibility": null,
            "_view_count": null,
            "flex_flow": null,
            "min_height": null,
            "top": null,
            "min_width": null,
            "flex": null,
            "_model_module_version": "1.2.0",
            "grid_template_areas": null,
            "overflow_x": null,
            "right": null,
            "overflow_y": null,
            "grid_gap": null,
            "align_content": null
          }
        },
        "973ed0a3da4743728bb72cdd7f28c7b6": {
          "model_module": "@jupyter-widgets/controls",
          "model_name": "DescriptionStyleModel",
          "model_module_version": "1.5.0",
          "state": {
            "_model_module": "@jupyter-widgets/controls",
            "_model_module_version": "1.5.0",
            "_model_name": "DescriptionStyleModel",
            "_view_count": null,
            "_view_module": "@jupyter-widgets/base",
            "_view_module_version": "1.2.0",
            "_view_name": "StyleView",
            "description_width": ""
          }
        },
        "eab27a9aba7f4a26810626451ae5580a": {
          "model_module": "@jupyter-widgets/controls",
          "model_name": "DescriptionStyleModel",
          "model_module_version": "1.5.0",
          "state": {
            "_model_module": "@jupyter-widgets/controls",
            "_model_module_version": "1.5.0",
            "_model_name": "DescriptionStyleModel",
            "_view_count": null,
            "_view_module": "@jupyter-widgets/base",
            "_view_module_version": "1.2.0",
            "_view_name": "StyleView",
            "description_width": ""
          }
        },
        "2bf6a56f416b4f5aba9fd78dab746778": {
          "model_module": "@jupyter-widgets/base",
          "model_name": "LayoutModel",
          "model_module_version": "1.2.0",
          "state": {
            "_view_module_version": "1.2.0",
            "_model_name": "LayoutModel",
            "grid_row": null,
            "_model_module": "@jupyter-widgets/base",
            "overflow": null,
            "max_height": null,
            "display": null,
            "grid_auto_flow": null,
            "grid_template_rows": null,
            "align_self": null,
            "grid_auto_columns": null,
            "width": null,
            "grid_area": null,
            "align_items": null,
            "_view_name": "LayoutView",
            "left": null,
            "height": null,
            "_view_module": "@jupyter-widgets/base",
            "object_position": null,
            "justify_content": null,
            "bottom": null,
            "max_width": null,
            "border": null,
            "margin": null,
            "order": null,
            "grid_column": null,
            "grid_auto_rows": null,
            "padding": null,
            "grid_template_columns": null,
            "justify_items": null,
            "object_fit": null,
            "visibility": null,
            "_view_count": null,
            "flex_flow": null,
            "min_height": null,
            "top": null,
            "min_width": null,
            "flex": null,
            "_model_module_version": "1.2.0",
            "grid_template_areas": null,
            "overflow_x": null,
            "right": null,
            "overflow_y": null,
            "grid_gap": null,
            "align_content": null
          }
        },
        "4883d734b8324a88a189018bc94768f0": {
          "model_module": "@jupyter-widgets/controls",
          "model_name": "ProgressStyleModel",
          "model_module_version": "1.5.0",
          "state": {
            "_view_module_version": "1.2.0",
            "_model_name": "ProgressStyleModel",
            "_model_module": "@jupyter-widgets/controls",
            "description_width": "",
            "_view_name": "StyleView",
            "_view_module": "@jupyter-widgets/base",
            "_view_count": null,
            "bar_color": null,
            "_model_module_version": "1.5.0"
          }
        },
        "07419249ad314fdab6c7cfcc1984ef1f": {
          "model_module": "@jupyter-widgets/base",
          "model_name": "LayoutModel",
          "model_module_version": "1.2.0",
          "state": {
            "_view_module_version": "1.2.0",
            "_model_name": "LayoutModel",
            "grid_row": null,
            "_model_module": "@jupyter-widgets/base",
            "overflow": null,
            "max_height": null,
            "display": null,
            "grid_auto_flow": null,
            "grid_template_rows": null,
            "align_self": null,
            "grid_auto_columns": null,
            "width": null,
            "grid_area": null,
            "align_items": null,
            "_view_name": "LayoutView",
            "left": null,
            "height": null,
            "_view_module": "@jupyter-widgets/base",
            "object_position": null,
            "justify_content": null,
            "bottom": null,
            "max_width": null,
            "border": null,
            "margin": null,
            "order": null,
            "grid_column": null,
            "grid_auto_rows": null,
            "padding": null,
            "grid_template_columns": null,
            "justify_items": null,
            "object_fit": null,
            "visibility": null,
            "_view_count": null,
            "flex_flow": null,
            "min_height": null,
            "top": null,
            "min_width": null,
            "flex": null,
            "_model_module_version": "1.2.0",
            "grid_template_areas": null,
            "overflow_x": null,
            "right": null,
            "overflow_y": null,
            "grid_gap": null,
            "align_content": null
          }
        },
        "a24495e0e12e4e4a9e38df73293e9fe2": {
          "model_module": "@jupyter-widgets/controls",
          "model_name": "HBoxModel",
          "model_module_version": "1.5.0",
          "state": {
            "_view_module_version": "1.5.0",
            "_model_name": "HBoxModel",
            "_model_module": "@jupyter-widgets/controls",
            "_view_name": "HBoxView",
            "_view_module": "@jupyter-widgets/controls",
            "_dom_classes": [],
            "layout": "IPY_MODEL_34df30efb0144e0f95a586b58808e776",
            "_view_count": null,
            "_model_module_version": "1.5.0",
            "box_style": "",
            "children": [
              "IPY_MODEL_23b2563efa924287adb121619ec87649",
              "IPY_MODEL_072d2138ee454c46b8aa038063768697",
              "IPY_MODEL_32232e5015d7485c904332cbf46a9dbd"
            ]
          }
        },
        "eefa668f14cc4977a75ed3cb5da4ec1c": {
          "model_module": "@jupyter-widgets/controls",
          "model_name": "HBoxModel",
          "model_module_version": "1.5.0",
          "state": {
            "_view_module_version": "1.5.0",
            "_model_name": "HBoxModel",
            "_model_module": "@jupyter-widgets/controls",
            "_view_name": "HBoxView",
            "_view_module": "@jupyter-widgets/controls",
            "_dom_classes": [],
            "layout": "IPY_MODEL_c5253a84f01442d7a032027f49962738",
            "_view_count": null,
            "_model_module_version": "1.5.0",
            "box_style": "",
            "children": [
              "IPY_MODEL_961f31c324664e69b078cb43f2a3e21a",
              "IPY_MODEL_1d960c8a05624ab3b21a8144863817c9",
              "IPY_MODEL_61401a7816e344608e4bf27d69d7eb08"
            ]
          }
        },
        "9476709813484f088d58f2c7c0637e20": {
          "model_module": "@jupyter-widgets/controls",
          "model_name": "DescriptionStyleModel",
          "model_module_version": "1.5.0",
          "state": {
            "_model_module": "@jupyter-widgets/controls",
            "_model_module_version": "1.5.0",
            "_model_name": "DescriptionStyleModel",
            "_view_count": null,
            "_view_module": "@jupyter-widgets/base",
            "_view_module_version": "1.2.0",
            "_view_name": "StyleView",
            "description_width": ""
          }
        },
        "ccb326eb09fb4c2e8c5473fa9ca8f4b1": {
          "model_module": "@jupyter-widgets/controls",
          "model_name": "ProgressStyleModel",
          "model_module_version": "1.5.0",
          "state": {
            "_view_module_version": "1.2.0",
            "_model_name": "ProgressStyleModel",
            "_model_module": "@jupyter-widgets/controls",
            "description_width": "",
            "_view_name": "StyleView",
            "_view_module": "@jupyter-widgets/base",
            "_view_count": null,
            "bar_color": null,
            "_model_module_version": "1.5.0"
          }
        },
        "fc580163cc6042288eb39639c6a5353e": {
          "model_module": "@jupyter-widgets/controls",
          "model_name": "ProgressStyleModel",
          "model_module_version": "1.5.0",
          "state": {
            "_view_module_version": "1.2.0",
            "_model_name": "ProgressStyleModel",
            "_model_module": "@jupyter-widgets/controls",
            "description_width": "",
            "_view_name": "StyleView",
            "_view_module": "@jupyter-widgets/base",
            "_view_count": null,
            "bar_color": null,
            "_model_module_version": "1.5.0"
          }
        },
        "072d2138ee454c46b8aa038063768697": {
          "model_module": "@jupyter-widgets/controls",
          "model_name": "FloatProgressModel",
          "model_module_version": "1.5.0",
          "state": {
            "_view_module_version": "1.5.0",
            "description_tooltip": null,
            "_model_name": "FloatProgressModel",
            "_model_module": "@jupyter-widgets/controls",
            "max": 500,
            "bar_style": "success",
            "_view_name": "ProgressView",
            "_view_module": "@jupyter-widgets/controls",
            "_dom_classes": [],
            "layout": "IPY_MODEL_c72738e6639147159ccf005ffcdfeff8",
            "orientation": "horizontal",
            "value": 500,
            "style": "IPY_MODEL_9886c8886234435c9f260e677a5bc848",
            "min": 0,
            "_view_count": null,
            "_model_module_version": "1.5.0",
            "description": ""
          }
        },
        "005375d7d9be404fa7bfae5ac5f079ea": {
          "model_module": "@jupyter-widgets/controls",
          "model_name": "DescriptionStyleModel",
          "model_module_version": "1.5.0",
          "state": {
            "_model_module": "@jupyter-widgets/controls",
            "_model_module_version": "1.5.0",
            "_model_name": "DescriptionStyleModel",
            "_view_count": null,
            "_view_module": "@jupyter-widgets/base",
            "_view_module_version": "1.2.0",
            "_view_name": "StyleView",
            "description_width": ""
          }
        },
        "7c7839f0177e4c9fb82e7ddae6991c0f": {
          "model_module": "@jupyter-widgets/controls",
          "model_name": "ProgressStyleModel",
          "model_module_version": "1.5.0",
          "state": {
            "_view_module_version": "1.2.0",
            "_model_name": "ProgressStyleModel",
            "_model_module": "@jupyter-widgets/controls",
            "description_width": "",
            "_view_name": "StyleView",
            "_view_module": "@jupyter-widgets/base",
            "_view_count": null,
            "bar_color": null,
            "_model_module_version": "1.5.0"
          }
        },
        "efffb4d3aff44447a83e03702870db77": {
          "model_module": "@jupyter-widgets/base",
          "model_name": "LayoutModel",
          "model_module_version": "1.2.0",
          "state": {
            "_view_module_version": "1.2.0",
            "_model_name": "LayoutModel",
            "grid_row": null,
            "_model_module": "@jupyter-widgets/base",
            "overflow": null,
            "max_height": null,
            "display": null,
            "grid_auto_flow": null,
            "grid_template_rows": null,
            "align_self": null,
            "grid_auto_columns": null,
            "width": null,
            "grid_area": null,
            "align_items": null,
            "_view_name": "LayoutView",
            "left": null,
            "height": null,
            "_view_module": "@jupyter-widgets/base",
            "object_position": null,
            "justify_content": null,
            "bottom": null,
            "max_width": null,
            "border": null,
            "margin": null,
            "order": null,
            "grid_column": null,
            "grid_auto_rows": null,
            "padding": null,
            "grid_template_columns": null,
            "justify_items": null,
            "object_fit": null,
            "visibility": null,
            "_view_count": null,
            "flex_flow": null,
            "min_height": null,
            "top": null,
            "min_width": null,
            "flex": null,
            "_model_module_version": "1.2.0",
            "grid_template_areas": null,
            "overflow_x": null,
            "right": null,
            "overflow_y": null,
            "grid_gap": null,
            "align_content": null
          }
        },
        "eaba34d8fdef4ea3bb7c74532905111f": {
          "model_module": "@jupyter-widgets/controls",
          "model_name": "HTMLModel",
          "model_module_version": "1.5.0",
          "state": {
            "_view_module_version": "1.5.0",
            "description_tooltip": null,
            "_model_name": "HTMLModel",
            "_model_module": "@jupyter-widgets/controls",
            "_view_name": "HTMLView",
            "_view_module": "@jupyter-widgets/controls",
            "_dom_classes": [],
            "layout": "IPY_MODEL_72c1261a63a244eb84de058f9b48ab32",
            "value": " 0/1500 [00:16&lt;?, ?it/s]",
            "style": "IPY_MODEL_e5b1050cde7141f6b91d6928d01c8a71",
            "placeholder": "​",
            "_view_count": null,
            "_model_module_version": "1.5.0",
            "description": ""
          }
        },
        "12d5e3af5d00487aa61921a4b0ca5585": {
          "model_module": "@jupyter-widgets/controls",
          "model_name": "DescriptionStyleModel",
          "model_module_version": "1.5.0",
          "state": {
            "_model_module": "@jupyter-widgets/controls",
            "_model_module_version": "1.5.0",
            "_model_name": "DescriptionStyleModel",
            "_view_count": null,
            "_view_module": "@jupyter-widgets/base",
            "_view_module_version": "1.2.0",
            "_view_name": "StyleView",
            "description_width": ""
          }
        },
        "df9fa335f851461285fb79e370289997": {
          "model_module": "@jupyter-widgets/base",
          "model_name": "LayoutModel",
          "model_module_version": "1.2.0",
          "state": {
            "_view_module_version": "1.2.0",
            "_model_name": "LayoutModel",
            "grid_row": null,
            "_model_module": "@jupyter-widgets/base",
            "overflow": null,
            "max_height": null,
            "display": null,
            "grid_auto_flow": null,
            "grid_template_rows": null,
            "align_self": null,
            "grid_auto_columns": null,
            "width": null,
            "grid_area": null,
            "align_items": null,
            "_view_name": "LayoutView",
            "left": null,
            "height": null,
            "_view_module": "@jupyter-widgets/base",
            "object_position": null,
            "justify_content": null,
            "bottom": null,
            "max_width": null,
            "border": null,
            "margin": null,
            "order": null,
            "grid_column": null,
            "grid_auto_rows": null,
            "padding": null,
            "grid_template_columns": null,
            "justify_items": null,
            "object_fit": null,
            "visibility": null,
            "_view_count": null,
            "flex_flow": null,
            "min_height": null,
            "top": null,
            "min_width": null,
            "flex": null,
            "_model_module_version": "1.2.0",
            "grid_template_areas": null,
            "overflow_x": null,
            "right": null,
            "overflow_y": null,
            "grid_gap": null,
            "align_content": null
          }
        },
        "4f9556068e7b42b1a839b41c6ba15eb5": {
          "model_module": "@jupyter-widgets/base",
          "model_name": "LayoutModel",
          "model_module_version": "1.2.0",
          "state": {
            "_view_module_version": "1.2.0",
            "_model_name": "LayoutModel",
            "grid_row": null,
            "_model_module": "@jupyter-widgets/base",
            "overflow": null,
            "max_height": null,
            "display": null,
            "grid_auto_flow": null,
            "grid_template_rows": null,
            "align_self": null,
            "grid_auto_columns": null,
            "width": null,
            "grid_area": null,
            "align_items": null,
            "_view_name": "LayoutView",
            "left": null,
            "height": null,
            "_view_module": "@jupyter-widgets/base",
            "object_position": null,
            "justify_content": null,
            "bottom": null,
            "max_width": null,
            "border": null,
            "margin": null,
            "order": null,
            "grid_column": null,
            "grid_auto_rows": null,
            "padding": null,
            "grid_template_columns": null,
            "justify_items": null,
            "object_fit": null,
            "visibility": null,
            "_view_count": null,
            "flex_flow": null,
            "min_height": null,
            "top": null,
            "min_width": null,
            "flex": null,
            "_model_module_version": "1.2.0",
            "grid_template_areas": null,
            "overflow_x": null,
            "right": null,
            "overflow_y": null,
            "grid_gap": null,
            "align_content": null
          }
        },
        "307bcdbf25454efe9fd7e4e9115a516e": {
          "model_module": "@jupyter-widgets/controls",
          "model_name": "FloatProgressModel",
          "model_module_version": "1.5.0",
          "state": {
            "_view_module_version": "1.5.0",
            "description_tooltip": null,
            "_model_name": "FloatProgressModel",
            "_model_module": "@jupyter-widgets/controls",
            "max": 500,
            "bar_style": "success",
            "_view_name": "ProgressView",
            "_view_module": "@jupyter-widgets/controls",
            "_dom_classes": [],
            "layout": "IPY_MODEL_00b423c3c03c44f8b476825283985d83",
            "orientation": "horizontal",
            "value": 500,
            "style": "IPY_MODEL_59d0bab7586a453883255fc2d3076d9e",
            "min": 0,
            "_view_count": null,
            "_model_module_version": "1.5.0",
            "description": ""
          }
        },
        "c72738e6639147159ccf005ffcdfeff8": {
          "model_module": "@jupyter-widgets/base",
          "model_name": "LayoutModel",
          "model_module_version": "1.2.0",
          "state": {
            "_view_module_version": "1.2.0",
            "_model_name": "LayoutModel",
            "grid_row": null,
            "_model_module": "@jupyter-widgets/base",
            "overflow": null,
            "max_height": null,
            "display": null,
            "grid_auto_flow": null,
            "grid_template_rows": null,
            "align_self": null,
            "grid_auto_columns": null,
            "width": null,
            "grid_area": null,
            "align_items": null,
            "_view_name": "LayoutView",
            "left": null,
            "height": null,
            "_view_module": "@jupyter-widgets/base",
            "object_position": null,
            "justify_content": null,
            "bottom": null,
            "max_width": null,
            "border": null,
            "margin": null,
            "order": null,
            "grid_column": null,
            "grid_auto_rows": null,
            "padding": null,
            "grid_template_columns": null,
            "justify_items": null,
            "object_fit": null,
            "visibility": null,
            "_view_count": null,
            "flex_flow": null,
            "min_height": null,
            "top": null,
            "min_width": null,
            "flex": null,
            "_model_module_version": "1.2.0",
            "grid_template_areas": null,
            "overflow_x": null,
            "right": null,
            "overflow_y": null,
            "grid_gap": null,
            "align_content": null
          }
        },
        "7e9c0c99fb3a488dbf327145b737ab64": {
          "model_module": "@jupyter-widgets/base",
          "model_name": "LayoutModel",
          "model_module_version": "1.2.0",
          "state": {
            "_view_module_version": "1.2.0",
            "_model_name": "LayoutModel",
            "grid_row": null,
            "_model_module": "@jupyter-widgets/base",
            "overflow": null,
            "max_height": null,
            "display": null,
            "grid_auto_flow": null,
            "grid_template_rows": null,
            "align_self": null,
            "grid_auto_columns": null,
            "width": null,
            "grid_area": null,
            "align_items": null,
            "_view_name": "LayoutView",
            "left": null,
            "height": null,
            "_view_module": "@jupyter-widgets/base",
            "object_position": null,
            "justify_content": null,
            "bottom": null,
            "max_width": null,
            "border": null,
            "margin": null,
            "order": null,
            "grid_column": null,
            "grid_auto_rows": null,
            "padding": null,
            "grid_template_columns": null,
            "justify_items": null,
            "object_fit": null,
            "visibility": null,
            "_view_count": null,
            "flex_flow": null,
            "min_height": null,
            "top": null,
            "min_width": null,
            "flex": null,
            "_model_module_version": "1.2.0",
            "grid_template_areas": null,
            "overflow_x": null,
            "right": null,
            "overflow_y": null,
            "grid_gap": null,
            "align_content": null
          }
        },
        "13544d4a4a444c058afd6410c9bf8766": {
          "model_module": "@jupyter-widgets/base",
          "model_name": "LayoutModel",
          "model_module_version": "1.2.0",
          "state": {
            "_view_module_version": "1.2.0",
            "_model_name": "LayoutModel",
            "grid_row": null,
            "_model_module": "@jupyter-widgets/base",
            "overflow": null,
            "max_height": null,
            "display": null,
            "grid_auto_flow": null,
            "grid_template_rows": null,
            "align_self": null,
            "grid_auto_columns": null,
            "width": null,
            "grid_area": null,
            "align_items": null,
            "_view_name": "LayoutView",
            "left": null,
            "height": null,
            "_view_module": "@jupyter-widgets/base",
            "object_position": null,
            "justify_content": null,
            "bottom": null,
            "max_width": null,
            "border": null,
            "margin": null,
            "order": null,
            "grid_column": null,
            "grid_auto_rows": null,
            "padding": null,
            "grid_template_columns": null,
            "justify_items": null,
            "object_fit": null,
            "visibility": null,
            "_view_count": null,
            "flex_flow": null,
            "min_height": null,
            "top": null,
            "min_width": null,
            "flex": null,
            "_model_module_version": "1.2.0",
            "grid_template_areas": null,
            "overflow_x": null,
            "right": null,
            "overflow_y": null,
            "grid_gap": null,
            "align_content": null
          }
        },
        "00dfe511c1e4407ba87ae3d3b9269fdd": {
          "model_module": "@jupyter-widgets/base",
          "model_name": "LayoutModel",
          "model_module_version": "1.2.0",
          "state": {
            "_view_module_version": "1.2.0",
            "_model_name": "LayoutModel",
            "grid_row": null,
            "_model_module": "@jupyter-widgets/base",
            "overflow": null,
            "max_height": null,
            "display": null,
            "grid_auto_flow": null,
            "grid_template_rows": null,
            "align_self": null,
            "grid_auto_columns": null,
            "width": null,
            "grid_area": null,
            "align_items": null,
            "_view_name": "LayoutView",
            "left": null,
            "height": null,
            "_view_module": "@jupyter-widgets/base",
            "object_position": null,
            "justify_content": null,
            "bottom": null,
            "max_width": null,
            "border": null,
            "margin": null,
            "order": null,
            "grid_column": null,
            "grid_auto_rows": null,
            "padding": null,
            "grid_template_columns": null,
            "justify_items": null,
            "object_fit": null,
            "visibility": null,
            "_view_count": null,
            "flex_flow": null,
            "min_height": null,
            "top": null,
            "min_width": null,
            "flex": null,
            "_model_module_version": "1.2.0",
            "grid_template_areas": null,
            "overflow_x": null,
            "right": null,
            "overflow_y": null,
            "grid_gap": null,
            "align_content": null
          }
        },
        "688e5c705f2d42c28e6ba8517be813f0": {
          "model_module": "@jupyter-widgets/controls",
          "model_name": "HTMLModel",
          "model_module_version": "1.5.0",
          "state": {
            "_view_module_version": "1.5.0",
            "description_tooltip": null,
            "_model_name": "HTMLModel",
            "_model_module": "@jupyter-widgets/controls",
            "_view_name": "HTMLView",
            "_view_module": "@jupyter-widgets/controls",
            "_dom_classes": [],
            "layout": "IPY_MODEL_00dfe511c1e4407ba87ae3d3b9269fdd",
            "value": "Running chain 1:   0%",
            "style": "IPY_MODEL_eab27a9aba7f4a26810626451ae5580a",
            "placeholder": "​",
            "_view_count": null,
            "_model_module_version": "1.5.0",
            "description": ""
          }
        },
        "d75cb11df72f4b10af0576b7c4eabadb": {
          "model_module": "@jupyter-widgets/controls",
          "model_name": "DescriptionStyleModel",
          "model_module_version": "1.5.0",
          "state": {
            "_model_module": "@jupyter-widgets/controls",
            "_model_module_version": "1.5.0",
            "_model_name": "DescriptionStyleModel",
            "_view_count": null,
            "_view_module": "@jupyter-widgets/base",
            "_view_module_version": "1.2.0",
            "_view_name": "StyleView",
            "description_width": ""
          }
        },
        "961f31c324664e69b078cb43f2a3e21a": {
          "model_module": "@jupyter-widgets/controls",
          "model_name": "HTMLModel",
          "model_module_version": "1.5.0",
          "state": {
            "_view_module_version": "1.5.0",
            "description_tooltip": null,
            "_model_name": "HTMLModel",
            "_model_module": "@jupyter-widgets/controls",
            "_view_name": "HTMLView",
            "_view_module": "@jupyter-widgets/controls",
            "_dom_classes": [],
            "layout": "IPY_MODEL_13544d4a4a444c058afd6410c9bf8766",
            "value": "Running chain 0:   0%",
            "style": "IPY_MODEL_d75cb11df72f4b10af0576b7c4eabadb",
            "placeholder": "​",
            "_view_count": null,
            "_model_module_version": "1.5.0",
            "description": ""
          }
        },
        "00b423c3c03c44f8b476825283985d83": {
          "model_module": "@jupyter-widgets/base",
          "model_name": "LayoutModel",
          "model_module_version": "1.2.0",
          "state": {
            "_view_module_version": "1.2.0",
            "_model_name": "LayoutModel",
            "grid_row": null,
            "_model_module": "@jupyter-widgets/base",
            "overflow": null,
            "max_height": null,
            "display": null,
            "grid_auto_flow": null,
            "grid_template_rows": null,
            "align_self": null,
            "grid_auto_columns": null,
            "width": null,
            "grid_area": null,
            "align_items": null,
            "_view_name": "LayoutView",
            "left": null,
            "height": null,
            "_view_module": "@jupyter-widgets/base",
            "object_position": null,
            "justify_content": null,
            "bottom": null,
            "max_width": null,
            "border": null,
            "margin": null,
            "order": null,
            "grid_column": null,
            "grid_auto_rows": null,
            "padding": null,
            "grid_template_columns": null,
            "justify_items": null,
            "object_fit": null,
            "visibility": null,
            "_view_count": null,
            "flex_flow": null,
            "min_height": null,
            "top": null,
            "min_width": null,
            "flex": null,
            "_model_module_version": "1.2.0",
            "grid_template_areas": null,
            "overflow_x": null,
            "right": null,
            "overflow_y": null,
            "grid_gap": null,
            "align_content": null
          }
        },
        "fbec79714b2449629fdd25f9ea7e219d": {
          "model_module": "@jupyter-widgets/base",
          "model_name": "LayoutModel",
          "model_module_version": "1.2.0",
          "state": {
            "_view_module_version": "1.2.0",
            "_model_name": "LayoutModel",
            "grid_row": null,
            "_model_module": "@jupyter-widgets/base",
            "overflow": null,
            "max_height": null,
            "display": null,
            "grid_auto_flow": null,
            "grid_template_rows": null,
            "align_self": null,
            "grid_auto_columns": null,
            "width": null,
            "grid_area": null,
            "align_items": null,
            "_view_name": "LayoutView",
            "left": null,
            "height": null,
            "_view_module": "@jupyter-widgets/base",
            "object_position": null,
            "justify_content": null,
            "bottom": null,
            "max_width": null,
            "border": null,
            "margin": null,
            "order": null,
            "grid_column": null,
            "grid_auto_rows": null,
            "padding": null,
            "grid_template_columns": null,
            "justify_items": null,
            "object_fit": null,
            "visibility": null,
            "_view_count": null,
            "flex_flow": null,
            "min_height": null,
            "top": null,
            "min_width": null,
            "flex": null,
            "_model_module_version": "1.2.0",
            "grid_template_areas": null,
            "overflow_x": null,
            "right": null,
            "overflow_y": null,
            "grid_gap": null,
            "align_content": null
          }
        },
        "57e732fbc675456ab4801c4533ea5592": {
          "model_module": "@jupyter-widgets/controls",
          "model_name": "HTMLModel",
          "model_module_version": "1.5.0",
          "state": {
            "_view_module_version": "1.5.0",
            "description_tooltip": null,
            "_model_name": "HTMLModel",
            "_model_module": "@jupyter-widgets/controls",
            "_view_name": "HTMLView",
            "_view_module": "@jupyter-widgets/controls",
            "_dom_classes": [],
            "layout": "IPY_MODEL_f656563d50e64517b9b21b2243f3456b",
            "value": "Running chain 1: 100%",
            "style": "IPY_MODEL_dd538ed15f62431194c6f38b57676da9",
            "placeholder": "​",
            "_view_count": null,
            "_model_module_version": "1.5.0",
            "description": ""
          }
        },
        "a9cf1a7de6914e19a9de44f898a6805c": {
          "model_module": "@jupyter-widgets/base",
          "model_name": "LayoutModel",
          "model_module_version": "1.2.0",
          "state": {
            "_view_module_version": "1.2.0",
            "_model_name": "LayoutModel",
            "grid_row": null,
            "_model_module": "@jupyter-widgets/base",
            "overflow": null,
            "max_height": null,
            "display": null,
            "grid_auto_flow": null,
            "grid_template_rows": null,
            "align_self": null,
            "grid_auto_columns": null,
            "width": null,
            "grid_area": null,
            "align_items": null,
            "_view_name": "LayoutView",
            "left": null,
            "height": null,
            "_view_module": "@jupyter-widgets/base",
            "object_position": null,
            "justify_content": null,
            "bottom": null,
            "max_width": null,
            "border": null,
            "margin": null,
            "order": null,
            "grid_column": null,
            "grid_auto_rows": null,
            "padding": null,
            "grid_template_columns": null,
            "justify_items": null,
            "object_fit": null,
            "visibility": null,
            "_view_count": null,
            "flex_flow": null,
            "min_height": null,
            "top": null,
            "min_width": null,
            "flex": null,
            "_model_module_version": "1.2.0",
            "grid_template_areas": null,
            "overflow_x": null,
            "right": null,
            "overflow_y": null,
            "grid_gap": null,
            "align_content": null
          }
        },
        "8b1e90bb2eba4686b4903abf24a40129": {
          "model_module": "@jupyter-widgets/controls",
          "model_name": "HBoxModel",
          "model_module_version": "1.5.0",
          "state": {
            "_view_module_version": "1.5.0",
            "_model_name": "HBoxModel",
            "_model_module": "@jupyter-widgets/controls",
            "_view_name": "HBoxView",
            "_view_module": "@jupyter-widgets/controls",
            "_dom_classes": [],
            "layout": "IPY_MODEL_63c2d6848e614ce7af56a171bcb01568",
            "_view_count": null,
            "_model_module_version": "1.5.0",
            "box_style": "",
            "children": [
              "IPY_MODEL_688e5c705f2d42c28e6ba8517be813f0",
              "IPY_MODEL_a42a7ce0444d44c2b244c462c5039b72",
              "IPY_MODEL_eaba34d8fdef4ea3bb7c74532905111f"
            ]
          }
        }
      }
    },
    "accelerator": "GPU",
    "microsoft": {
      "ms_spell_check": {
        "ms_spell_check_language": "en"
      },
      "host": {
        "AzureML": {
          "notebookHasBeenCompleted": true
        }
      }
    },
    "kernel_info": {
      "name": "python3"
    },
    "nteract": {
      "version": "nteract-front-end@1.0.0"
    }
  },
  "nbformat": 4,
  "nbformat_minor": 0
}